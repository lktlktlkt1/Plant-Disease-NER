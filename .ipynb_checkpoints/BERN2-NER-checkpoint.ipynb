{
 "cells": [
  {
   "cell_type": "code",
   "execution_count": 1,
   "metadata": {
    "colab": {
     "base_uri": "https://localhost:8080/"
    },
    "executionInfo": {
     "elapsed": 229293,
     "status": "ok",
     "timestamp": 1710396932379,
     "user": {
      "displayName": "Slamet Riyanto",
      "userId": "06884706048938193264"
     },
     "user_tz": -420
    },
    "id": "aUZ5nCRHsyfO",
    "outputId": "61813244-93a1-4986-af6f-51921399bc84"
   },
   "outputs": [
    {
     "name": "stdout",
     "output_type": "stream",
     "text": [
      "Mounted at /content/drive\n"
     ]
    }
   ],
   "source": [
    "from google.colab import drive\n",
    "drive.mount('/content/drive')"
   ]
  },
  {
   "cell_type": "code",
   "execution_count": 2,
   "metadata": {
    "colab": {
     "base_uri": "https://localhost:8080/"
    },
    "executionInfo": {
     "elapsed": 84740,
     "status": "ok",
     "timestamp": 1710397017112,
     "user": {
      "displayName": "Slamet Riyanto",
      "userId": "06884706048938193264"
     },
     "user_tz": -420
    },
    "id": "lGcqnMeEwLF7",
    "outputId": "f8c727d3-6335-4949-f601-0b4a6503ec49"
   },
   "outputs": [
    {
     "name": "stdout",
     "output_type": "stream",
     "text": [
      "Cloning into 'transformers'...\n",
      "remote: Enumerating objects: 191301, done.\u001b[K\n",
      "remote: Counting objects: 100% (22585/22585), done.\u001b[K\n",
      "remote: Compressing objects: 100% (1789/1789), done.\u001b[K\n",
      "remote: Total 191301 (delta 22063), reused 20797 (delta 20796), pack-reused 168716\u001b[K\n",
      "Receiving objects: 100% (191301/191301), 199.25 MiB | 15.27 MiB/s, done.\n",
      "Resolving deltas: 100% (136324/136324), done.\n",
      "Updating files: 100% (4135/4135), done.\n",
      "/content/transformers\n",
      "Processing /content/transformers\n",
      "  Installing build dependencies ... \u001b[?25l\u001b[?25hdone\n",
      "  Getting requirements to build wheel ... \u001b[?25l\u001b[?25hdone\n",
      "  Preparing metadata (pyproject.toml) ... \u001b[?25l\u001b[?25hdone\n",
      "Requirement already satisfied: filelock in /usr/local/lib/python3.10/dist-packages (from transformers==4.39.0.dev0) (3.13.1)\n",
      "Requirement already satisfied: huggingface-hub<1.0,>=0.19.3 in /usr/local/lib/python3.10/dist-packages (from transformers==4.39.0.dev0) (0.20.3)\n",
      "Requirement already satisfied: numpy>=1.17 in /usr/local/lib/python3.10/dist-packages (from transformers==4.39.0.dev0) (1.25.2)\n",
      "Requirement already satisfied: packaging>=20.0 in /usr/local/lib/python3.10/dist-packages (from transformers==4.39.0.dev0) (24.0)\n",
      "Requirement already satisfied: pyyaml>=5.1 in /usr/local/lib/python3.10/dist-packages (from transformers==4.39.0.dev0) (6.0.1)\n",
      "Requirement already satisfied: regex!=2019.12.17 in /usr/local/lib/python3.10/dist-packages (from transformers==4.39.0.dev0) (2023.12.25)\n",
      "Requirement already satisfied: requests in /usr/local/lib/python3.10/dist-packages (from transformers==4.39.0.dev0) (2.31.0)\n",
      "Requirement already satisfied: tokenizers<0.19,>=0.14 in /usr/local/lib/python3.10/dist-packages (from transformers==4.39.0.dev0) (0.15.2)\n",
      "Requirement already satisfied: safetensors>=0.4.1 in /usr/local/lib/python3.10/dist-packages (from transformers==4.39.0.dev0) (0.4.2)\n",
      "Requirement already satisfied: tqdm>=4.27 in /usr/local/lib/python3.10/dist-packages (from transformers==4.39.0.dev0) (4.66.2)\n",
      "Requirement already satisfied: fsspec>=2023.5.0 in /usr/local/lib/python3.10/dist-packages (from huggingface-hub<1.0,>=0.19.3->transformers==4.39.0.dev0) (2023.6.0)\n",
      "Requirement already satisfied: typing-extensions>=3.7.4.3 in /usr/local/lib/python3.10/dist-packages (from huggingface-hub<1.0,>=0.19.3->transformers==4.39.0.dev0) (4.10.0)\n",
      "Requirement already satisfied: charset-normalizer<4,>=2 in /usr/local/lib/python3.10/dist-packages (from requests->transformers==4.39.0.dev0) (3.3.2)\n",
      "Requirement already satisfied: idna<4,>=2.5 in /usr/local/lib/python3.10/dist-packages (from requests->transformers==4.39.0.dev0) (3.6)\n",
      "Requirement already satisfied: urllib3<3,>=1.21.1 in /usr/local/lib/python3.10/dist-packages (from requests->transformers==4.39.0.dev0) (2.0.7)\n",
      "Requirement already satisfied: certifi>=2017.4.17 in /usr/local/lib/python3.10/dist-packages (from requests->transformers==4.39.0.dev0) (2024.2.2)\n",
      "Building wheels for collected packages: transformers\n",
      "  Building wheel for transformers (pyproject.toml) ... \u001b[?25l\u001b[?25hdone\n",
      "  Created wheel for transformers: filename=transformers-4.39.0.dev0-py3-none-any.whl size=8680419 sha256=32cd2504d7919ad6d42f2d672b7e6bd03a6faffd1fae90c885e2be156c0b8731\n",
      "  Stored in directory: /tmp/pip-ephem-wheel-cache-5awobez1/wheels/7c/35/80/e946b22a081210c6642e607ed65b2a5b9a4d9259695ee2caf5\n",
      "Successfully built transformers\n",
      "Installing collected packages: transformers\n",
      "  Attempting uninstall: transformers\n",
      "    Found existing installation: transformers 4.38.2\n",
      "    Uninstalling transformers-4.38.2:\n",
      "      Successfully uninstalled transformers-4.38.2\n",
      "Successfully installed transformers-4.39.0.dev0\n",
      "Collecting seqeval\n",
      "  Downloading seqeval-1.2.2.tar.gz (43 kB)\n",
      "\u001b[2K     \u001b[90m━━━━━━━━━━━━━━━━━━━━━━━━━━━━━━━━━━━━━━━━\u001b[0m \u001b[32m43.6/43.6 kB\u001b[0m \u001b[31m1.1 MB/s\u001b[0m eta \u001b[36m0:00:00\u001b[0m\n",
      "\u001b[?25h  Preparing metadata (setup.py) ... \u001b[?25l\u001b[?25hdone\n",
      "Requirement already satisfied: numpy>=1.14.0 in /usr/local/lib/python3.10/dist-packages (from seqeval) (1.25.2)\n",
      "Requirement already satisfied: scikit-learn>=0.21.3 in /usr/local/lib/python3.10/dist-packages (from seqeval) (1.2.2)\n",
      "Requirement already satisfied: scipy>=1.3.2 in /usr/local/lib/python3.10/dist-packages (from scikit-learn>=0.21.3->seqeval) (1.11.4)\n",
      "Requirement already satisfied: joblib>=1.1.1 in /usr/local/lib/python3.10/dist-packages (from scikit-learn>=0.21.3->seqeval) (1.3.2)\n",
      "Requirement already satisfied: threadpoolctl>=2.0.0 in /usr/local/lib/python3.10/dist-packages (from scikit-learn>=0.21.3->seqeval) (3.3.0)\n",
      "Building wheels for collected packages: seqeval\n",
      "  Building wheel for seqeval (setup.py) ... \u001b[?25l\u001b[?25hdone\n",
      "  Created wheel for seqeval: filename=seqeval-1.2.2-py3-none-any.whl size=16161 sha256=9c1a2f5e1df4f317fb6936309afbc2c02e5aa8e16135018c9e2b2766416251db\n",
      "  Stored in directory: /root/.cache/pip/wheels/1a/67/4a/ad4082dd7dfc30f2abfe4d80a2ed5926a506eb8a972b4767fa\n",
      "Successfully built seqeval\n",
      "Installing collected packages: seqeval\n",
      "Successfully installed seqeval-1.2.2\n",
      "/content\n"
     ]
    }
   ],
   "source": [
    "!git clone https://github.com/huggingface/transformers\n",
    "%cd transformers\n",
    "!pip install .\n",
    "!pip install seqeval\n",
    "%cd .."
   ]
  },
  {
   "cell_type": "markdown",
   "metadata": {
    "id": "6WMGkb4UtQWF"
   },
   "source": [
    "# Dataset overview and Preprocessing"
   ]
  },
  {
   "cell_type": "markdown",
   "metadata": {
    "id": "0EsoS5KOtY3r"
   },
   "source": [
    "**Check dataset size**"
   ]
  },
  {
   "cell_type": "code",
   "execution_count": null,
   "metadata": {
    "colab": {
     "base_uri": "https://localhost:8080/"
    },
    "executionInfo": {
     "elapsed": 2178,
     "status": "ok",
     "timestamp": 1709089104624,
     "user": {
      "displayName": "Slamet Riyanto",
      "userId": "06884706048938193264"
     },
     "user_tz": -420
    },
    "id": "U4MW8IFHsksm",
    "outputId": "2b95e8c2-f235-4a77-ad3e-8c6445247d00"
   },
   "outputs": [
    {
     "name": "stdout",
     "output_type": "stream",
     "text": [
      "144186 /content/drive/MyDrive/NER-BERT/data/pd-bc5/pd-bc5.train\n",
      "124420 /content/drive/MyDrive/NER-BERT/data/pd-bc5/pd-bc5.test\n",
      "123869 /content/drive/MyDrive/NER-BERT/data/pd-bc5/pd-bc5.dev\n"
     ]
    }
   ],
   "source": [
    "#!wc -l /content/drive/MyDrive/NER-BERT/Conll2003/train.txt\n",
    "#!wc -l /content/drive/MyDrive/NER-BERT/Conll2003/test.txt\n",
    "#!wc -l /content/drive/MyDrive/NER-BERT/Conll2003/valid.txt\n",
    "\n",
    "!wc -l /content/drive/MyDrive/NER-BERT/data/pd-bc5/pd-bc5.train\n",
    "!wc -l /content/drive/MyDrive/NER-BERT/data/pd-bc5/pd-bc5.test\n",
    "!wc -l /content/drive/MyDrive/NER-BERT/data/pd-bc5/pd-bc5.dev"
   ]
  },
  {
   "cell_type": "markdown",
   "metadata": {
    "id": "pr1bWUv8tkY_"
   },
   "source": [
    "**First 20 lines of train dataset**"
   ]
  },
  {
   "cell_type": "code",
   "execution_count": null,
   "metadata": {
    "colab": {
     "base_uri": "https://localhost:8080/"
    },
    "executionInfo": {
     "elapsed": 472,
     "status": "ok",
     "timestamp": 1709089163506,
     "user": {
      "displayName": "Slamet Riyanto",
      "userId": "06884706048938193264"
     },
     "user_tz": -420
    },
    "id": "6OpDnlSQteRm",
    "outputId": "b1944d13-5db0-43a3-e300-464058f9329d"
   },
   "outputs": [
    {
     "name": "stdout",
     "output_type": "stream",
     "text": [
      "studies O\n",
      "on O\n",
      "magnesiums O\n",
      "mechanism O\n",
      "of O\n",
      "action O\n",
      "in O\n",
      "digitalis B-Plant\n",
      "induced O\n",
      "arrhythmias B-Disease\n",
      "\n",
      "the O\n",
      "mechanism O\n",
      "by O\n",
      "which O\n",
      "magnesium O\n",
      "affects O\n",
      "digitalis B-Plant\n",
      "induced O\n",
      "arrhythmias B-Disease\n"
     ]
    }
   ],
   "source": [
    "!head -n20 /content/drive/MyDrive/NER-BERT/data/pd-bc5/pd-bc5.train"
   ]
  },
  {
   "cell_type": "markdown",
   "metadata": {
    "id": "XeSd9Msatr4h"
   },
   "source": [
    "**Keep only words and name entity tags**"
   ]
  },
  {
   "cell_type": "code",
   "execution_count": 4,
   "metadata": {
    "colab": {
     "base_uri": "https://localhost:8080/"
    },
    "executionInfo": {
     "elapsed": 529,
     "status": "ok",
     "timestamp": 1710397043801,
     "user": {
      "displayName": "Slamet Riyanto",
      "userId": "06884706048938193264"
     },
     "user_tz": -420
    },
    "id": "2_eGMQE17DWp",
    "outputId": "36b36779-2e28-4202-e37a-780b4524a3ae"
   },
   "outputs": [
    {
     "name": "stdout",
     "output_type": "stream",
     "text": [
      "/content/drive/MyDrive/NER-BERT/data/Multi-Source/S800-Plantblog-Textberg-PDR-BC5CDR\n"
     ]
    }
   ],
   "source": [
    "%cd /content/drive/MyDrive/NER-BERT/data/Multi-Source/S800-Plantblog-Textberg-PDR-BC5CDR"
   ]
  },
  {
   "cell_type": "code",
   "execution_count": null,
   "metadata": {
    "id": "0r_W5ivEuDrD"
   },
   "outputs": [],
   "source": [
    "!cat /content/drive/MyDrive/NER-BERT/data/pd-ncbi/pd-ncbi.train | cut -d \" \" -f 1,2 > pdncbi-train_temp.txt\n",
    "!cat /content/drive/MyDrive/NER-BERT/data/pd-ncbi/pd-ncbi.test | cut -d \" \" -f 1,2 > pdncbi-test_temp.txt\n",
    "!cat /content/drive/MyDrive/NER-BERT/data/pd-ncbi/pd-ncbi.dev| cut -d \" \" -f 1,2 > pdncbi-dev_temp.txt"
   ]
  },
  {
   "cell_type": "markdown",
   "metadata": {
    "id": "9AHGu3_7vC39"
   },
   "source": [
    "**Run preprocess script**"
   ]
  },
  {
   "cell_type": "code",
   "execution_count": 5,
   "metadata": {
    "executionInfo": {
     "elapsed": 2176,
     "status": "ok",
     "timestamp": 1710397056200,
     "user": {
      "displayName": "Slamet Riyanto",
      "userId": "06884706048938193264"
     },
     "user_tz": -420
    },
    "id": "yrHMnpstvIn3"
   },
   "outputs": [],
   "source": [
    "!cp /content/drive/MyDrive/NER-BERT/preprocess.py /content/drive/MyDrive/NER-BERT/data/Multi-Source/S800-Plantblog-Textberg-PDR-BC5CDR/preprocess.py"
   ]
  },
  {
   "cell_type": "code",
   "execution_count": 6,
   "metadata": {
    "colab": {
     "base_uri": "https://localhost:8080/"
    },
    "executionInfo": {
     "elapsed": 31049,
     "status": "ok",
     "timestamp": 1710397138221,
     "user": {
      "displayName": "Slamet Riyanto",
      "userId": "06884706048938193264"
     },
     "user_tz": -420
    },
    "id": "7FzwdV9Evccz",
    "outputId": "93b3fc9a-7ab1-4175-cdb4-7f17ce46797b"
   },
   "outputs": [
    {
     "name": "stdout",
     "output_type": "stream",
     "text": [
      "tokenizer_config.json: 100% 62.0/62.0 [00:00<00:00, 343kB/s]\n",
      "config.json: 100% 633/633 [00:00<00:00, 3.31MB/s]\n",
      "vocab.json: 100% 912k/912k [00:00<00:00, 3.74MB/s]\n",
      "merges.txt: 100% 472k/472k [00:00<00:00, 1.90MB/s]\n",
      "added_tokens.json: 100% 17.0/17.0 [00:00<00:00, 66.3kB/s]\n",
      "special_tokens_map.json: 100% 772/772 [00:00<00:00, 4.29MB/s]\n"
     ]
    }
   ],
   "source": [
    "#!python3 preprocess.py pd-ncbi.train \"bert-base-multilingual-cased\" 128 > ready/train.txt\n",
    "#!python3 preprocess.py pd-ncbi.test \"bert-base-multilingual-cased\" 128 > ready/test.txt\n",
    "#!python3 preprocess.py pd-ncbi.dev \"bert-base-multilingual-cased\" 128 > ready/dev.txt\n",
    "\n",
    "!python3 preprocess.py pst-pdr-bc5cdr.train \"dmis-lab/bern2-ner\" 128 > bern2-ner/train.txt\n",
    "!python3 preprocess.py pst-pdr-bc5cdr.test \"dmis-lab/bern2-ner\" 128 > bern2-ner/test.txt\n",
    "!python3 preprocess.py pst-pdr-bc5cdr.dev \"dmis-lab/bern2-ner\" 128 > bern2-ner/dev.txt\n",
    "\n",
    "\n",
    "#biobert-base-cased-v1.2-finetuned-ner"
   ]
  },
  {
   "cell_type": "code",
   "execution_count": 7,
   "metadata": {
    "colab": {
     "base_uri": "https://localhost:8080/"
    },
    "executionInfo": {
     "elapsed": 623,
     "status": "ok",
     "timestamp": 1710397246964,
     "user": {
      "displayName": "Slamet Riyanto",
      "userId": "06884706048938193264"
     },
     "user_tz": -420
    },
    "id": "9PglvYXIl5tj",
    "outputId": "fc3283da-99b2-471b-eedc-d3e0a85b2e29"
   },
   "outputs": [
    {
     "name": "stdout",
     "output_type": "stream",
     "text": [
      "/content/drive/MyDrive/NER-BERT/data/Multi-Source/S800-Plantblog-Textberg-PDR-BC5CDR/bern2-ner\n"
     ]
    }
   ],
   "source": [
    "%cd /content/drive/MyDrive/NER-BERT/data/Multi-Source/S800-Plantblog-Textberg-PDR-BC5CDR/bern2-ner"
   ]
  },
  {
   "cell_type": "code",
   "execution_count": 10,
   "metadata": {
    "executionInfo": {
     "elapsed": 1289,
     "status": "ok",
     "timestamp": 1710397881421,
     "user": {
      "displayName": "Slamet Riyanto",
      "userId": "06884706048938193264"
     },
     "user_tz": -420
    },
    "id": "pLR1lBbSw3sQ"
   },
   "outputs": [],
   "source": [
    "!cat train.txt | cut -d \" \" -f 2 | grep -v \"^$\"| sort | uniq > labels-train.txt"
   ]
  },
  {
   "cell_type": "markdown",
   "metadata": {
    "id": "RSbxPpMRpPuE"
   },
   "source": []
  },
  {
   "cell_type": "markdown",
   "metadata": {
    "id": "WWPxpJ-v3Vh8"
   },
   "source": [
    "# Train section"
   ]
  },
  {
   "cell_type": "code",
   "execution_count": 11,
   "metadata": {
    "executionInfo": {
     "elapsed": 2795,
     "status": "ok",
     "timestamp": 1710397964912,
     "user": {
      "displayName": "Slamet Riyanto",
      "userId": "06884706048938193264"
     },
     "user_tz": -420
    },
    "id": "1rgI6hCX3d00"
   },
   "outputs": [],
   "source": [
    "!cp /content/drive/MyDrive/NER-BERT/run_ner.py /content/drive/MyDrive/NER-BERT/data/Multi-Source/S800-Plantblog-Textberg-PDR-BC5CDR/bern2-ner/run_ner.py\n",
    "!cp /content/drive/MyDrive/NER-BERT/utils_ner.py /content/drive/MyDrive/NER-BERT/data/Multi-Source/S800-Plantblog-Textberg-PDR-BC5CDR/bern2-ner/utils_ner.py"
   ]
  },
  {
   "cell_type": "code",
   "execution_count": null,
   "metadata": {
    "colab": {
     "background_save": true,
     "base_uri": "https://localhost:8080/"
    },
    "id": "GLrVGc5P4Jpc"
   },
   "outputs": [
    {
     "name": "stdout",
     "output_type": "stream",
     "text": [
      "2024-03-15 01:28:34.556195: E external/local_xla/xla/stream_executor/cuda/cuda_dnn.cc:9261] Unable to register cuDNN factory: Attempting to register factory for plugin cuDNN when one has already been registered\n",
      "2024-03-15 01:28:34.556259: E external/local_xla/xla/stream_executor/cuda/cuda_fft.cc:607] Unable to register cuFFT factory: Attempting to register factory for plugin cuFFT when one has already been registered\n",
      "2024-03-15 01:28:34.557750: E external/local_xla/xla/stream_executor/cuda/cuda_blas.cc:1515] Unable to register cuBLAS factory: Attempting to register factory for plugin cuBLAS when one has already been registered\n",
      "2024-03-15 01:28:35.780614: W tensorflow/compiler/tf2tensorrt/utils/py_utils.cc:38] TF-TRT Warning: Could not find TensorRT\n",
      "03/15/2024 01:28:37 - WARNING - __main__ -   Process rank: -1, device: cuda, n_gpu: 1, distributed training: False, 16-bits training: False\n",
      "03/15/2024 01:28:39 - INFO - __main__ -   Tokenizer arguments: {'do_lower_case': False}\n",
      "pytorch_model.bin: 100% 440M/440M [00:29<00:00, 15.0MB/s]\n",
      "Some weights of BertForTokenClassification were not initialized from the model checkpoint at microsoft/BiomedNLP-BiomedBERT-base-uncased-abstract-fulltext and are newly initialized: ['classifier.bias', 'classifier.weight']\n",
      "You should probably TRAIN this model on a down-stream task to be able to use it for predictions and inference.\n",
      "03/15/2024 01:29:12 - INFO - __main__ -   Training/evaluation parameters Namespace(data_dir='/content/drive/MyDrive/NER-BERT/data/Multi-Source/S800-Plantblog-Textberg-PDR-BC5CDR/biomed', model_type='bert', model_name_or_path='microsoft/BiomedNLP-BiomedBERT-base-uncased-abstract-fulltext', output_dir='/content/drive/MyDrive/NER-BERT/model/pst-pdr-bc5cdr/biomed', labels='/content/drive/MyDrive/NER-BERT/data/Multi-Source/S800-Plantblog-Textberg-PDR-BC5CDR/biomed/labels.txt', config_name='', tokenizer_name='', cache_dir='', max_seq_length=128, do_train=True, do_eval=True, do_predict=True, evaluate_during_training=False, do_lower_case=False, keep_accents=None, strip_accents=None, use_fast=None, per_gpu_train_batch_size=32, per_gpu_eval_batch_size=8, gradient_accumulation_steps=1, learning_rate=5e-05, weight_decay=0.0, adam_epsilon=1e-08, max_grad_norm=1.0, num_train_epochs=4.0, max_steps=-1, warmup_steps=0, logging_steps=1000, save_steps=1000, eval_all_checkpoints=False, no_cuda=False, overwrite_output_dir=True, overwrite_cache=False, seed=43, fp16=False, fp16_opt_level='O1', local_rank=-1, server_ip='', server_port='', n_gpu=1, device=device(type='cuda'))\n",
      "03/15/2024 01:29:12 - INFO - __main__ -   Creating features from dataset file at /content/drive/MyDrive/NER-BERT/data/Multi-Source/S800-Plantblog-Textberg-PDR-BC5CDR/biomed\n",
      "03/15/2024 01:29:13 - INFO - utils_ner -   Writing example 0 of 10195\n",
      "03/15/2024 01:29:13 - INFO - utils_ner -   *** Example ***\n",
      "03/15/2024 01:29:13 - INFO - utils_ner -   guid: train-1\n",
      "03/15/2024 01:29:13 - INFO - utils_ner -   tokens: [CLS] sel ##eg ##iline - induced postural hypotension in parkinson ' s disease : a longitudinal study on the effects of drug withdrawal . [SEP]\n",
      "03/15/2024 01:29:13 - INFO - utils_ner -   input_ids: 2 2484 6541 19204 17 2719 17198 16453 1922 10124 11 61 2573 30 43 6676 2161 1990 1920 2564 1927 2838 9594 18 3 0 0 0 0 0 0 0 0 0 0 0 0 0 0 0 0 0 0 0 0 0 0 0 0 0 0 0 0 0 0 0 0 0 0 0 0 0 0 0 0 0 0 0 0 0 0 0 0 0 0 0 0 0 0 0 0 0 0 0 0 0 0 0 0 0 0 0 0 0 0 0 0 0 0 0 0 0 0 0 0 0 0 0 0 0 0 0 0 0 0 0 0 0 0 0 0 0 0 0 0 0 0 0\n",
      "03/15/2024 01:29:13 - INFO - utils_ner -   input_mask: 1 1 1 1 1 1 1 1 1 1 1 1 1 1 1 1 1 1 1 1 1 1 1 1 1 0 0 0 0 0 0 0 0 0 0 0 0 0 0 0 0 0 0 0 0 0 0 0 0 0 0 0 0 0 0 0 0 0 0 0 0 0 0 0 0 0 0 0 0 0 0 0 0 0 0 0 0 0 0 0 0 0 0 0 0 0 0 0 0 0 0 0 0 0 0 0 0 0 0 0 0 0 0 0 0 0 0 0 0 0 0 0 0 0 0 0 0 0 0 0 0 0 0 0 0 0 0 0\n",
      "03/15/2024 01:29:13 - INFO - utils_ner -   segment_ids: 0 0 0 0 0 0 0 0 0 0 0 0 0 0 0 0 0 0 0 0 0 0 0 0 0 0 0 0 0 0 0 0 0 0 0 0 0 0 0 0 0 0 0 0 0 0 0 0 0 0 0 0 0 0 0 0 0 0 0 0 0 0 0 0 0 0 0 0 0 0 0 0 0 0 0 0 0 0 0 0 0 0 0 0 0 0 0 0 0 0 0 0 0 0 0 0 0 0 0 0 0 0 0 0 0 0 0 0 0 0 0 0 0 0 0 0 0 0 0 0 0 0 0 0 0 0 0 0\n",
      "03/15/2024 01:29:13 - INFO - utils_ner -   label_ids: -100 4 -100 -100 4 4 0 2 4 0 2 2 2 4 4 4 4 4 4 4 4 4 4 4 -100 -100 -100 -100 -100 -100 -100 -100 -100 -100 -100 -100 -100 -100 -100 -100 -100 -100 -100 -100 -100 -100 -100 -100 -100 -100 -100 -100 -100 -100 -100 -100 -100 -100 -100 -100 -100 -100 -100 -100 -100 -100 -100 -100 -100 -100 -100 -100 -100 -100 -100 -100 -100 -100 -100 -100 -100 -100 -100 -100 -100 -100 -100 -100 -100 -100 -100 -100 -100 -100 -100 -100 -100 -100 -100 -100 -100 -100 -100 -100 -100 -100 -100 -100 -100 -100 -100 -100 -100 -100 -100 -100 -100 -100 -100 -100 -100 -100 -100 -100 -100 -100 -100 -100\n",
      "03/15/2024 01:29:13 - INFO - utils_ner -   *** Example ***\n",
      "03/15/2024 01:29:13 - INFO - utils_ner -   guid: train-2\n",
      "03/15/2024 01:29:13 - INFO - utils_ner -   tokens: [CLS] objectives : the united kingdom parkinson ' s disease research group ( uk ##pd ##r ##g ) trial found an increased mortality in patients with parkinson ' s disease ( pd ) randomized to receive 10 mg sel ##eg ##iline per day and l - dopa compared with those taking l - dopa alone . [SEP]\n",
      "03/15/2024 01:29:13 - INFO - utils_ner -   input_ids: 2 7634 30 1920 6128 13543 10124 11 61 2573 2659 2210 12 5999 10522 1005 1029 13 3046 2435 1925 2502 3885 1922 2132 1956 10124 11 61 2573 12 3203 13 5542 1942 7130 2119 2786 2484 6541 19204 2079 3007 1930 54 17 19428 2452 1956 2690 6303 54 17 19428 4298 18 3 0 0 0 0 0 0 0 0 0 0 0 0 0 0 0 0 0 0 0 0 0 0 0 0 0 0 0 0 0 0 0 0 0 0 0 0 0 0 0 0 0 0 0 0 0 0 0 0 0 0 0 0 0 0 0 0 0 0 0 0 0 0 0 0 0 0 0 0 0 0 0\n",
      "03/15/2024 01:29:13 - INFO - utils_ner -   input_mask: 1 1 1 1 1 1 1 1 1 1 1 1 1 1 1 1 1 1 1 1 1 1 1 1 1 1 1 1 1 1 1 1 1 1 1 1 1 1 1 1 1 1 1 1 1 1 1 1 1 1 1 1 1 1 1 1 1 0 0 0 0 0 0 0 0 0 0 0 0 0 0 0 0 0 0 0 0 0 0 0 0 0 0 0 0 0 0 0 0 0 0 0 0 0 0 0 0 0 0 0 0 0 0 0 0 0 0 0 0 0 0 0 0 0 0 0 0 0 0 0 0 0 0 0 0 0 0 0\n",
      "03/15/2024 01:29:13 - INFO - utils_ner -   segment_ids: 0 0 0 0 0 0 0 0 0 0 0 0 0 0 0 0 0 0 0 0 0 0 0 0 0 0 0 0 0 0 0 0 0 0 0 0 0 0 0 0 0 0 0 0 0 0 0 0 0 0 0 0 0 0 0 0 0 0 0 0 0 0 0 0 0 0 0 0 0 0 0 0 0 0 0 0 0 0 0 0 0 0 0 0 0 0 0 0 0 0 0 0 0 0 0 0 0 0 0 0 0 0 0 0 0 0 0 0 0 0 0 0 0 0 0 0 0 0 0 0 0 0 0 0 0 0 0 0\n",
      "03/15/2024 01:29:13 - INFO - utils_ner -   label_ids: -100 4 4 4 4 4 0 2 2 2 4 4 4 4 -100 -100 -100 4 4 4 4 4 4 4 4 4 0 2 2 2 4 0 4 4 4 4 4 4 4 -100 -100 4 4 4 4 4 4 4 4 4 4 4 4 4 4 4 -100 -100 -100 -100 -100 -100 -100 -100 -100 -100 -100 -100 -100 -100 -100 -100 -100 -100 -100 -100 -100 -100 -100 -100 -100 -100 -100 -100 -100 -100 -100 -100 -100 -100 -100 -100 -100 -100 -100 -100 -100 -100 -100 -100 -100 -100 -100 -100 -100 -100 -100 -100 -100 -100 -100 -100 -100 -100 -100 -100 -100 -100 -100 -100 -100 -100 -100 -100 -100 -100 -100 -100\n",
      "03/15/2024 01:29:13 - INFO - utils_ner -   *** Example ***\n",
      "03/15/2024 01:29:13 - INFO - utils_ner -   guid: train-3\n",
      "03/15/2024 01:29:13 - INFO - utils_ner -   tokens: [CLS] recently , we found that therapy with sel ##eg ##iline and l - dopa was associated with selective systolic ortho ##static hypotension which was abolished by withdrawal of sel ##eg ##iline . [SEP]\n",
      "03/15/2024 01:29:13 - INFO - utils_ner -   input_ids: 2 3998 16 2038 2435 1988 3181 1956 2484 6541 19204 1930 54 17 19428 1982 2458 1956 5328 8541 24343 11494 16453 2154 1982 10979 2007 9594 1927 2484 6541 19204 18 3 0 0 0 0 0 0 0 0 0 0 0 0 0 0 0 0 0 0 0 0 0 0 0 0 0 0 0 0 0 0 0 0 0 0 0 0 0 0 0 0 0 0 0 0 0 0 0 0 0 0 0 0 0 0 0 0 0 0 0 0 0 0 0 0 0 0 0 0 0 0 0 0 0 0 0 0 0 0 0 0 0 0 0 0 0 0 0 0 0 0 0 0 0 0\n",
      "03/15/2024 01:29:13 - INFO - utils_ner -   input_mask: 1 1 1 1 1 1 1 1 1 1 1 1 1 1 1 1 1 1 1 1 1 1 1 1 1 1 1 1 1 1 1 1 1 1 0 0 0 0 0 0 0 0 0 0 0 0 0 0 0 0 0 0 0 0 0 0 0 0 0 0 0 0 0 0 0 0 0 0 0 0 0 0 0 0 0 0 0 0 0 0 0 0 0 0 0 0 0 0 0 0 0 0 0 0 0 0 0 0 0 0 0 0 0 0 0 0 0 0 0 0 0 0 0 0 0 0 0 0 0 0 0 0 0 0 0 0 0 0\n",
      "03/15/2024 01:29:13 - INFO - utils_ner -   segment_ids: 0 0 0 0 0 0 0 0 0 0 0 0 0 0 0 0 0 0 0 0 0 0 0 0 0 0 0 0 0 0 0 0 0 0 0 0 0 0 0 0 0 0 0 0 0 0 0 0 0 0 0 0 0 0 0 0 0 0 0 0 0 0 0 0 0 0 0 0 0 0 0 0 0 0 0 0 0 0 0 0 0 0 0 0 0 0 0 0 0 0 0 0 0 0 0 0 0 0 0 0 0 0 0 0 0 0 0 0 0 0 0 0 0 0 0 0 0 0 0 0 0 0 0 0 0 0 0 0\n",
      "03/15/2024 01:29:13 - INFO - utils_ner -   label_ids: -100 4 4 4 4 4 4 4 4 -100 -100 4 4 4 4 4 4 4 4 0 2 -100 2 4 4 4 4 4 4 4 -100 -100 4 -100 -100 -100 -100 -100 -100 -100 -100 -100 -100 -100 -100 -100 -100 -100 -100 -100 -100 -100 -100 -100 -100 -100 -100 -100 -100 -100 -100 -100 -100 -100 -100 -100 -100 -100 -100 -100 -100 -100 -100 -100 -100 -100 -100 -100 -100 -100 -100 -100 -100 -100 -100 -100 -100 -100 -100 -100 -100 -100 -100 -100 -100 -100 -100 -100 -100 -100 -100 -100 -100 -100 -100 -100 -100 -100 -100 -100 -100 -100 -100 -100 -100 -100 -100 -100 -100 -100 -100 -100 -100 -100 -100 -100 -100 -100\n",
      "03/15/2024 01:29:13 - INFO - utils_ner -   *** Example ***\n",
      "03/15/2024 01:29:13 - INFO - utils_ner -   guid: train-4\n",
      "03/15/2024 01:29:13 - INFO - utils_ner -   tokens: [CLS] the aims of this study were to confirm our previous findings in a separate cohort of patients and to determine the time course of the cardiovascular consequences of stopping sel ##eg ##iline in the expectation that this might shed light on the mechanisms by which the drug causes ortho ##static hypotension . [SEP]\n",
      "03/15/2024 01:29:13 - INFO - utils_ner -   input_ids: 2 1920 8267 1927 2052 2161 1985 1942 4763 2342 2555 3056 1922 43 5850 4382 1927 2132 1930 1942 3415 1920 2367 4914 1927 1920 5321 7080 1927 20225 2484 6541 19204 1922 1920 15164 1988 2052 3284 10710 3696 1990 1920 3531 2007 2154 1920 2838 5092 24343 11494 16453 18 3 0 0 0 0 0 0 0 0 0 0 0 0 0 0 0 0 0 0 0 0 0 0 0 0 0 0 0 0 0 0 0 0 0 0 0 0 0 0 0 0 0 0 0 0 0 0 0 0 0 0 0 0 0 0 0 0 0 0 0 0 0 0 0 0 0 0 0 0 0 0 0 0 0 0\n",
      "03/15/2024 01:29:13 - INFO - utils_ner -   input_mask: 1 1 1 1 1 1 1 1 1 1 1 1 1 1 1 1 1 1 1 1 1 1 1 1 1 1 1 1 1 1 1 1 1 1 1 1 1 1 1 1 1 1 1 1 1 1 1 1 1 1 1 1 1 1 0 0 0 0 0 0 0 0 0 0 0 0 0 0 0 0 0 0 0 0 0 0 0 0 0 0 0 0 0 0 0 0 0 0 0 0 0 0 0 0 0 0 0 0 0 0 0 0 0 0 0 0 0 0 0 0 0 0 0 0 0 0 0 0 0 0 0 0 0 0 0 0 0 0\n",
      "03/15/2024 01:29:13 - INFO - utils_ner -   segment_ids: 0 0 0 0 0 0 0 0 0 0 0 0 0 0 0 0 0 0 0 0 0 0 0 0 0 0 0 0 0 0 0 0 0 0 0 0 0 0 0 0 0 0 0 0 0 0 0 0 0 0 0 0 0 0 0 0 0 0 0 0 0 0 0 0 0 0 0 0 0 0 0 0 0 0 0 0 0 0 0 0 0 0 0 0 0 0 0 0 0 0 0 0 0 0 0 0 0 0 0 0 0 0 0 0 0 0 0 0 0 0 0 0 0 0 0 0 0 0 0 0 0 0 0 0 0 0 0 0\n",
      "03/15/2024 01:29:13 - INFO - utils_ner -   label_ids: -100 4 4 4 4 4 4 4 4 4 4 4 4 4 4 4 4 4 4 4 4 4 4 4 4 4 4 4 4 4 4 -100 -100 4 4 4 4 4 4 4 4 4 4 4 4 4 4 4 4 0 -100 2 4 -100 -100 -100 -100 -100 -100 -100 -100 -100 -100 -100 -100 -100 -100 -100 -100 -100 -100 -100 -100 -100 -100 -100 -100 -100 -100 -100 -100 -100 -100 -100 -100 -100 -100 -100 -100 -100 -100 -100 -100 -100 -100 -100 -100 -100 -100 -100 -100 -100 -100 -100 -100 -100 -100 -100 -100 -100 -100 -100 -100 -100 -100 -100 -100 -100 -100 -100 -100 -100 -100 -100 -100 -100 -100 -100\n",
      "03/15/2024 01:29:13 - INFO - utils_ner -   *** Example ***\n",
      "03/15/2024 01:29:13 - INFO - utils_ner -   guid: train-5\n",
      "03/15/2024 01:29:13 - INFO - utils_ner -   tokens: [CLS] methods : the cardiovascular responses to standing and head - up tilt were studied repeatedly in pd patients receiving sel ##eg ##iline and as the drug was withdrawn . [SEP]\n",
      "03/15/2024 01:29:13 - INFO - utils_ner -   input_ids: 2 2860 30 1920 5321 3387 1942 11982 1930 4469 17 2353 18322 1985 3942 14959 1922 3203 2132 5962 2484 6541 19204 1930 1966 1920 2838 1982 19540 18 3 0 0 0 0 0 0 0 0 0 0 0 0 0 0 0 0 0 0 0 0 0 0 0 0 0 0 0 0 0 0 0 0 0 0 0 0 0 0 0 0 0 0 0 0 0 0 0 0 0 0 0 0 0 0 0 0 0 0 0 0 0 0 0 0 0 0 0 0 0 0 0 0 0 0 0 0 0 0 0 0 0 0 0 0 0 0 0 0 0 0 0 0 0 0 0 0 0\n",
      "03/15/2024 01:29:13 - INFO - utils_ner -   input_mask: 1 1 1 1 1 1 1 1 1 1 1 1 1 1 1 1 1 1 1 1 1 1 1 1 1 1 1 1 1 1 1 0 0 0 0 0 0 0 0 0 0 0 0 0 0 0 0 0 0 0 0 0 0 0 0 0 0 0 0 0 0 0 0 0 0 0 0 0 0 0 0 0 0 0 0 0 0 0 0 0 0 0 0 0 0 0 0 0 0 0 0 0 0 0 0 0 0 0 0 0 0 0 0 0 0 0 0 0 0 0 0 0 0 0 0 0 0 0 0 0 0 0 0 0 0 0 0 0\n",
      "03/15/2024 01:29:13 - INFO - utils_ner -   segment_ids: 0 0 0 0 0 0 0 0 0 0 0 0 0 0 0 0 0 0 0 0 0 0 0 0 0 0 0 0 0 0 0 0 0 0 0 0 0 0 0 0 0 0 0 0 0 0 0 0 0 0 0 0 0 0 0 0 0 0 0 0 0 0 0 0 0 0 0 0 0 0 0 0 0 0 0 0 0 0 0 0 0 0 0 0 0 0 0 0 0 0 0 0 0 0 0 0 0 0 0 0 0 0 0 0 0 0 0 0 0 0 0 0 0 0 0 0 0 0 0 0 0 0 0 0 0 0 0 0\n",
      "03/15/2024 01:29:13 - INFO - utils_ner -   label_ids: -100 4 4 4 4 4 4 4 4 4 4 4 4 4 4 4 4 0 4 4 4 -100 -100 4 4 4 4 4 4 4 -100 -100 -100 -100 -100 -100 -100 -100 -100 -100 -100 -100 -100 -100 -100 -100 -100 -100 -100 -100 -100 -100 -100 -100 -100 -100 -100 -100 -100 -100 -100 -100 -100 -100 -100 -100 -100 -100 -100 -100 -100 -100 -100 -100 -100 -100 -100 -100 -100 -100 -100 -100 -100 -100 -100 -100 -100 -100 -100 -100 -100 -100 -100 -100 -100 -100 -100 -100 -100 -100 -100 -100 -100 -100 -100 -100 -100 -100 -100 -100 -100 -100 -100 -100 -100 -100 -100 -100 -100 -100 -100 -100 -100 -100 -100 -100 -100 -100\n",
      "03/15/2024 01:29:21 - INFO - utils_ner -   Writing example 10000 of 10195\n",
      "03/15/2024 01:29:21 - INFO - __main__ -   Saving features into cached file /content/drive/MyDrive/NER-BERT/data/Multi-Source/S800-Plantblog-Textberg-PDR-BC5CDR/biomed/cached_train_BiomedNLP-BiomedBERT-base-uncased-abstract-fulltext_128\n",
      "/usr/local/lib/python3.10/dist-packages/transformers/optimization.py:429: FutureWarning: This implementation of AdamW is deprecated and will be removed in a future version. Use the PyTorch implementation torch.optim.AdamW instead, or set `no_deprecation_warning=True` to disable this warning\n",
      "  warnings.warn(\n",
      "03/15/2024 01:29:25 - INFO - __main__ -   ***** Running training *****\n",
      "03/15/2024 01:29:25 - INFO - __main__ -     Num examples = 10195\n",
      "03/15/2024 01:29:25 - INFO - __main__ -     Num Epochs = 4\n",
      "03/15/2024 01:29:25 - INFO - __main__ -     Instantaneous batch size per GPU = 32\n",
      "03/15/2024 01:29:25 - INFO - __main__ -     Total train batch size (w. parallel, distributed & accumulation) = 32\n",
      "03/15/2024 01:29:25 - INFO - __main__ -     Gradient Accumulation steps = 1\n",
      "03/15/2024 01:29:25 - INFO - __main__ -     Total optimization steps = 1276\n",
      "Epoch:   0% 0/4 [00:00<?, ?it/s]\n",
      "Iteration:   0% 0/319 [00:00<?, ?it/s]\u001b[A\n",
      "Iteration:   0% 1/319 [00:01<09:08,  1.72s/it]\u001b[A\n",
      "Iteration:   1% 2/319 [00:02<05:24,  1.02s/it]\u001b[A\n",
      "Iteration:   1% 3/319 [00:02<04:15,  1.24it/s]\u001b[A\n",
      "Iteration:   1% 4/319 [00:03<03:41,  1.42it/s]\u001b[A\n",
      "Iteration:   2% 5/319 [00:03<03:23,  1.54it/s]\u001b[A\n",
      "Iteration:   2% 6/319 [00:04<03:11,  1.63it/s]\u001b[A\n",
      "Iteration:   2% 7/319 [00:04<03:05,  1.69it/s]\u001b[A\n",
      "Iteration:   3% 8/319 [00:05<02:59,  1.73it/s]\u001b[A\n",
      "Iteration:   3% 9/319 [00:06<02:56,  1.76it/s]\u001b[A\n",
      "Iteration:   3% 10/319 [00:06<03:04,  1.67it/s]\u001b[A\n",
      "Iteration:   3% 11/319 [00:07<03:00,  1.70it/s]\u001b[A\n",
      "Iteration:   4% 12/319 [00:07<03:02,  1.69it/s]\u001b[A\n",
      "Iteration:   4% 13/319 [00:08<02:56,  1.73it/s]\u001b[A\n",
      "Iteration:   4% 14/319 [00:09<02:53,  1.75it/s]\u001b[A\n",
      "Iteration:   5% 15/319 [00:09<02:50,  1.78it/s]\u001b[A\n",
      "Iteration:   5% 16/319 [00:10<02:48,  1.79it/s]\u001b[A\n",
      "Iteration:   5% 17/319 [00:10<02:47,  1.80it/s]\u001b[A\n",
      "Iteration:   6% 18/319 [00:11<02:46,  1.81it/s]\u001b[A\n",
      "Iteration:   6% 19/319 [00:11<02:45,  1.81it/s]\u001b[A\n",
      "Iteration:   6% 20/319 [00:12<02:44,  1.82it/s]\u001b[A\n",
      "Iteration:   7% 21/319 [00:12<02:43,  1.82it/s]\u001b[A\n",
      "Iteration:   7% 22/319 [00:13<02:43,  1.82it/s]\u001b[A\n",
      "Iteration:   7% 23/319 [00:13<02:43,  1.82it/s]\u001b[A\n",
      "Iteration:   8% 24/319 [00:14<02:42,  1.82it/s]\u001b[A\n",
      "Iteration:   8% 25/319 [00:15<02:41,  1.82it/s]\u001b[A\n",
      "Iteration:   8% 26/319 [00:15<02:41,  1.81it/s]\u001b[A\n",
      "Iteration:   8% 27/319 [00:16<02:40,  1.82it/s]\u001b[A\n",
      "Iteration:   9% 28/319 [00:16<02:40,  1.81it/s]\u001b[A\n",
      "Iteration:   9% 29/319 [00:17<02:40,  1.81it/s]\u001b[A\n",
      "Iteration:   9% 30/319 [00:17<02:39,  1.81it/s]\u001b[A\n",
      "Iteration:  10% 31/319 [00:18<02:38,  1.81it/s]\u001b[A\n",
      "Iteration:  10% 32/319 [00:18<02:38,  1.81it/s]\u001b[A\n",
      "Iteration:  10% 33/319 [00:19<02:37,  1.81it/s]\u001b[A\n",
      "Iteration:  11% 34/319 [00:20<02:37,  1.81it/s]\u001b[A\n",
      "Iteration:  11% 35/319 [00:20<02:36,  1.81it/s]\u001b[A\n",
      "Iteration:  11% 36/319 [00:21<02:36,  1.81it/s]\u001b[A\n",
      "Iteration:  12% 37/319 [00:21<02:35,  1.81it/s]\u001b[A\n",
      "Iteration:  12% 38/319 [00:22<02:35,  1.81it/s]\u001b[A\n",
      "Iteration:  12% 39/319 [00:22<02:35,  1.81it/s]\u001b[A\n",
      "Iteration:  13% 40/319 [00:23<02:34,  1.81it/s]\u001b[A\n",
      "Iteration:  13% 41/319 [00:23<02:33,  1.81it/s]\u001b[A\n",
      "Iteration:  13% 42/319 [00:24<02:33,  1.81it/s]\u001b[A\n",
      "Iteration:  13% 43/319 [00:25<02:32,  1.81it/s]\u001b[A\n",
      "Iteration:  14% 44/319 [00:25<02:32,  1.81it/s]\u001b[A\n",
      "Iteration:  14% 45/319 [00:26<02:31,  1.80it/s]\u001b[A\n",
      "Iteration:  14% 46/319 [00:26<02:31,  1.81it/s]\u001b[A\n",
      "Iteration:  15% 47/319 [00:27<02:30,  1.81it/s]\u001b[A\n",
      "Iteration:  15% 48/319 [00:27<02:34,  1.75it/s]\u001b[A\n",
      "Iteration:  15% 49/319 [00:28<02:32,  1.77it/s]\u001b[A\n",
      "Iteration:  16% 50/319 [00:28<02:31,  1.78it/s]\u001b[A\n",
      "Iteration:  16% 51/319 [00:29<02:30,  1.79it/s]\u001b[A\n",
      "Iteration:  16% 52/319 [00:30<02:29,  1.79it/s]\u001b[A\n",
      "Iteration:  17% 53/319 [00:30<02:28,  1.79it/s]\u001b[A\n",
      "Iteration:  17% 54/319 [00:31<02:27,  1.79it/s]\u001b[A\n",
      "Iteration:  17% 55/319 [00:31<02:27,  1.79it/s]\u001b[A\n",
      "Iteration:  18% 56/319 [00:32<02:26,  1.79it/s]\u001b[A\n",
      "Iteration:  18% 57/319 [00:32<02:26,  1.79it/s]\u001b[A\n",
      "Iteration:  18% 58/319 [00:33<02:25,  1.79it/s]\u001b[A\n",
      "Iteration:  18% 59/319 [00:33<02:24,  1.79it/s]\u001b[A\n",
      "Iteration:  19% 60/319 [00:34<02:24,  1.80it/s]\u001b[A\n",
      "Iteration:  19% 61/319 [00:35<02:23,  1.80it/s]\u001b[A\n",
      "Iteration:  19% 62/319 [00:35<02:23,  1.80it/s]\u001b[A\n",
      "Iteration:  20% 63/319 [00:36<02:22,  1.79it/s]\u001b[A\n",
      "Iteration:  20% 64/319 [00:36<02:22,  1.80it/s]\u001b[A\n",
      "Iteration:  20% 65/319 [00:37<02:21,  1.80it/s]\u001b[A\n",
      "Iteration:  21% 66/319 [00:37<02:21,  1.79it/s]\u001b[A\n",
      "Iteration:  21% 67/319 [00:38<02:20,  1.80it/s]\u001b[A\n",
      "Iteration:  21% 68/319 [00:38<02:19,  1.80it/s]\u001b[A\n",
      "Iteration:  22% 69/319 [00:39<02:19,  1.80it/s]\u001b[A\n",
      "Iteration:  22% 70/319 [00:40<02:18,  1.79it/s]\u001b[A\n",
      "Iteration:  22% 71/319 [00:40<02:18,  1.79it/s]\u001b[A\n",
      "Iteration:  23% 72/319 [00:41<02:17,  1.79it/s]\u001b[A\n",
      "Iteration:  23% 73/319 [00:41<02:17,  1.79it/s]\u001b[A\n",
      "Iteration:  23% 74/319 [00:42<02:16,  1.79it/s]\u001b[A\n",
      "Iteration:  24% 75/319 [00:42<02:16,  1.79it/s]\u001b[A\n",
      "Iteration:  24% 76/319 [00:43<02:15,  1.79it/s]\u001b[A\n",
      "Iteration:  24% 77/319 [00:43<02:14,  1.79it/s]\u001b[A\n",
      "Iteration:  24% 78/319 [00:44<02:14,  1.79it/s]\u001b[A\n",
      "Iteration:  25% 79/319 [00:45<02:14,  1.79it/s]\u001b[A\n",
      "Iteration:  25% 80/319 [00:45<02:13,  1.79it/s]\u001b[A\n",
      "Iteration:  25% 81/319 [00:46<02:13,  1.79it/s]\u001b[A\n",
      "Iteration:  26% 82/319 [00:46<02:12,  1.78it/s]\u001b[A\n",
      "Iteration:  26% 83/319 [00:47<02:12,  1.79it/s]\u001b[A\n",
      "Iteration:  26% 84/319 [00:47<02:11,  1.78it/s]\u001b[A\n",
      "Iteration:  27% 85/319 [00:48<02:11,  1.78it/s]\u001b[A\n",
      "Iteration:  27% 86/319 [00:49<02:10,  1.78it/s]\u001b[A\n",
      "Iteration:  27% 87/319 [00:49<02:10,  1.78it/s]\u001b[A\n",
      "Iteration:  28% 88/319 [00:50<02:09,  1.78it/s]\u001b[A\n",
      "Iteration:  28% 89/319 [00:50<02:09,  1.78it/s]\u001b[A\n",
      "Iteration:  28% 90/319 [00:51<02:08,  1.78it/s]\u001b[A\n",
      "Iteration:  29% 91/319 [00:51<02:07,  1.78it/s]\u001b[A\n",
      "Iteration:  29% 92/319 [00:52<02:07,  1.78it/s]\u001b[A\n",
      "Iteration:  29% 93/319 [00:52<02:06,  1.78it/s]\u001b[A\n",
      "Iteration:  29% 94/319 [00:53<02:06,  1.78it/s]\u001b[A\n",
      "Iteration:  30% 95/319 [00:54<02:05,  1.78it/s]\u001b[A\n",
      "Iteration:  30% 96/319 [00:54<02:05,  1.78it/s]\u001b[A\n",
      "Iteration:  30% 97/319 [00:55<02:04,  1.78it/s]\u001b[A\n",
      "Iteration:  31% 98/319 [00:55<02:04,  1.78it/s]\u001b[A\n",
      "Iteration:  31% 99/319 [00:56<02:03,  1.78it/s]\u001b[A\n",
      "Iteration:  31% 100/319 [00:56<02:03,  1.78it/s]\u001b[A\n",
      "Iteration:  32% 101/319 [00:57<02:02,  1.78it/s]\u001b[A\n",
      "Iteration:  32% 102/319 [00:58<02:02,  1.78it/s]\u001b[A\n",
      "Iteration:  32% 103/319 [00:58<02:01,  1.77it/s]\u001b[A\n",
      "Iteration:  33% 104/319 [00:59<02:01,  1.77it/s]\u001b[A\n",
      "Iteration:  33% 105/319 [00:59<02:00,  1.77it/s]\u001b[A\n",
      "Iteration:  33% 106/319 [01:00<02:00,  1.77it/s]\u001b[A\n",
      "Iteration:  34% 107/319 [01:00<01:59,  1.77it/s]\u001b[A\n",
      "Iteration:  34% 108/319 [01:01<01:59,  1.77it/s]\u001b[A\n",
      "Iteration:  34% 109/319 [01:01<01:58,  1.77it/s]\u001b[A\n",
      "Iteration:  34% 110/319 [01:02<01:57,  1.77it/s]\u001b[A\n",
      "Iteration:  35% 111/319 [01:03<01:57,  1.78it/s]\u001b[A\n",
      "Iteration:  35% 112/319 [01:03<01:56,  1.77it/s]\u001b[A\n",
      "Iteration:  35% 113/319 [01:04<01:56,  1.77it/s]\u001b[A\n",
      "Iteration:  36% 114/319 [01:04<01:55,  1.77it/s]\u001b[A\n",
      "Iteration:  36% 115/319 [01:05<01:54,  1.77it/s]\u001b[A\n",
      "Iteration:  36% 116/319 [01:05<01:54,  1.77it/s]\u001b[A\n",
      "Iteration:  37% 117/319 [01:06<01:53,  1.77it/s]\u001b[A\n",
      "Iteration:  37% 118/319 [01:07<01:53,  1.77it/s]\u001b[A\n",
      "Iteration:  37% 119/319 [01:07<01:52,  1.77it/s]\u001b[A\n",
      "Iteration:  38% 120/319 [01:08<01:52,  1.77it/s]\u001b[A\n",
      "Iteration:  38% 121/319 [01:08<01:51,  1.77it/s]\u001b[A\n",
      "Iteration:  38% 122/319 [01:09<01:51,  1.77it/s]\u001b[A\n",
      "Iteration:  39% 123/319 [01:09<01:50,  1.77it/s]\u001b[A\n",
      "Iteration:  39% 124/319 [01:10<01:50,  1.77it/s]\u001b[A\n",
      "Iteration:  39% 125/319 [01:11<01:49,  1.77it/s]\u001b[A\n",
      "Iteration:  39% 126/319 [01:11<01:49,  1.77it/s]\u001b[A\n",
      "Iteration:  40% 127/319 [01:12<01:48,  1.77it/s]\u001b[A\n",
      "Iteration:  40% 128/319 [01:12<01:48,  1.76it/s]\u001b[A\n",
      "Iteration:  40% 129/319 [01:13<01:47,  1.77it/s]\u001b[A\n",
      "Iteration:  41% 130/319 [01:13<01:46,  1.77it/s]\u001b[A\n",
      "Iteration:  41% 131/319 [01:14<01:46,  1.77it/s]\u001b[A\n",
      "Iteration:  41% 132/319 [01:14<01:45,  1.77it/s]\u001b[A\n",
      "Iteration:  42% 133/319 [01:15<01:45,  1.77it/s]\u001b[A\n",
      "Iteration:  42% 134/319 [01:16<01:44,  1.76it/s]\u001b[A\n",
      "Iteration:  42% 135/319 [01:16<01:44,  1.76it/s]\u001b[A\n",
      "Iteration:  43% 136/319 [01:17<01:43,  1.76it/s]\u001b[A\n",
      "Iteration:  43% 137/319 [01:17<01:43,  1.76it/s]\u001b[A\n",
      "Iteration:  43% 138/319 [01:18<01:42,  1.76it/s]\u001b[A\n",
      "Iteration:  44% 139/319 [01:18<01:42,  1.76it/s]\u001b[A\n",
      "Iteration:  44% 140/319 [01:19<01:41,  1.76it/s]\u001b[A\n",
      "Iteration:  44% 141/319 [01:20<01:41,  1.76it/s]\u001b[A\n",
      "Iteration:  45% 142/319 [01:20<01:40,  1.76it/s]\u001b[A\n",
      "Iteration:  45% 143/319 [01:21<01:39,  1.76it/s]\u001b[A\n",
      "Iteration:  45% 144/319 [01:21<01:39,  1.76it/s]\u001b[A\n",
      "Iteration:  45% 145/319 [01:22<01:38,  1.76it/s]\u001b[A\n",
      "Iteration:  46% 146/319 [01:22<01:38,  1.76it/s]\u001b[A\n",
      "Iteration:  46% 147/319 [01:23<01:37,  1.76it/s]\u001b[A\n",
      "Iteration:  46% 148/319 [01:24<01:37,  1.76it/s]\u001b[A\n",
      "Iteration:  47% 149/319 [01:24<01:36,  1.75it/s]\u001b[A\n",
      "Iteration:  47% 150/319 [01:25<01:36,  1.75it/s]\u001b[A\n",
      "Iteration:  47% 151/319 [01:25<01:35,  1.76it/s]\u001b[A\n",
      "Iteration:  48% 152/319 [01:26<01:35,  1.76it/s]\u001b[A\n",
      "Iteration:  48% 153/319 [01:26<01:34,  1.76it/s]\u001b[A\n",
      "Iteration:  48% 154/319 [01:27<01:33,  1.76it/s]\u001b[A\n",
      "Iteration:  49% 155/319 [01:28<01:33,  1.75it/s]\u001b[A\n",
      "Iteration:  49% 156/319 [01:28<01:32,  1.75it/s]\u001b[A\n",
      "Iteration:  49% 157/319 [01:29<01:32,  1.75it/s]\u001b[A\n",
      "Iteration:  50% 158/319 [01:29<01:31,  1.75it/s]\u001b[A\n",
      "Iteration:  50% 159/319 [01:30<01:31,  1.75it/s]\u001b[A\n",
      "Iteration:  50% 160/319 [01:30<01:30,  1.75it/s]\u001b[A\n",
      "Iteration:  50% 161/319 [01:31<01:30,  1.75it/s]\u001b[A\n",
      "Iteration:  51% 162/319 [01:32<01:29,  1.75it/s]\u001b[A\n",
      "Iteration:  51% 163/319 [01:32<01:29,  1.75it/s]\u001b[A\n",
      "Iteration:  51% 164/319 [01:33<01:28,  1.75it/s]\u001b[A\n",
      "Iteration:  52% 165/319 [01:33<01:27,  1.75it/s]\u001b[A\n",
      "Iteration:  52% 166/319 [01:34<01:27,  1.75it/s]\u001b[A\n",
      "Iteration:  52% 167/319 [01:34<01:26,  1.76it/s]\u001b[A\n",
      "Iteration:  53% 168/319 [01:35<01:26,  1.75it/s]\u001b[A\n",
      "Iteration:  53% 169/319 [01:36<01:25,  1.75it/s]\u001b[A\n",
      "Iteration:  53% 170/319 [01:36<01:24,  1.75it/s]\u001b[A\n",
      "Iteration:  54% 171/319 [01:37<01:24,  1.75it/s]\u001b[A\n",
      "Iteration:  54% 172/319 [01:37<01:24,  1.75it/s]\u001b[A\n",
      "Iteration:  54% 173/319 [01:38<01:23,  1.75it/s]\u001b[A\n",
      "Iteration:  55% 174/319 [01:38<01:23,  1.75it/s]\u001b[A\n",
      "Iteration:  55% 175/319 [01:39<01:22,  1.75it/s]\u001b[A\n",
      "Iteration:  55% 176/319 [01:40<01:21,  1.75it/s]\u001b[A\n",
      "Iteration:  55% 177/319 [01:40<01:21,  1.75it/s]\u001b[A\n",
      "Iteration:  56% 178/319 [01:41<01:20,  1.75it/s]\u001b[A\n",
      "Iteration:  56% 179/319 [01:41<01:20,  1.75it/s]\u001b[A\n",
      "Iteration:  56% 180/319 [01:42<01:19,  1.75it/s]\u001b[A\n",
      "Iteration:  57% 181/319 [01:42<01:19,  1.75it/s]\u001b[A\n",
      "Iteration:  57% 182/319 [01:43<01:18,  1.75it/s]\u001b[A\n",
      "Iteration:  57% 183/319 [01:44<01:17,  1.75it/s]\u001b[A\n",
      "Iteration:  58% 184/319 [01:44<01:17,  1.75it/s]\u001b[A\n",
      "Iteration:  58% 185/319 [01:45<01:16,  1.75it/s]\u001b[A\n",
      "Iteration:  58% 186/319 [01:45<01:16,  1.75it/s]\u001b[A\n",
      "Iteration:  59% 187/319 [01:46<01:15,  1.75it/s]\u001b[A\n",
      "Iteration:  59% 188/319 [01:46<01:15,  1.74it/s]\u001b[A\n",
      "Iteration:  59% 189/319 [01:47<01:14,  1.74it/s]\u001b[A\n",
      "Iteration:  60% 190/319 [01:48<01:13,  1.74it/s]\u001b[A\n",
      "Iteration:  60% 191/319 [01:48<01:13,  1.74it/s]\u001b[A\n",
      "Iteration:  60% 192/319 [01:49<01:12,  1.74it/s]\u001b[A\n",
      "Iteration:  61% 193/319 [01:49<01:12,  1.74it/s]\u001b[A\n",
      "Iteration:  61% 194/319 [01:50<01:11,  1.74it/s]\u001b[A\n",
      "Iteration:  61% 195/319 [01:50<01:11,  1.74it/s]\u001b[A\n",
      "Iteration:  61% 196/319 [01:51<01:10,  1.74it/s]\u001b[A\n",
      "Iteration:  62% 197/319 [01:52<01:10,  1.74it/s]\u001b[A\n",
      "Iteration:  62% 198/319 [01:52<01:09,  1.74it/s]\u001b[A\n",
      "Iteration:  62% 199/319 [01:53<01:08,  1.74it/s]\u001b[A\n",
      "Iteration:  63% 200/319 [01:53<01:08,  1.74it/s]\u001b[A\n",
      "Iteration:  63% 201/319 [01:54<01:07,  1.74it/s]\u001b[A\n",
      "Iteration:  63% 202/319 [01:54<01:07,  1.74it/s]\u001b[A\n",
      "Iteration:  64% 203/319 [01:55<01:06,  1.74it/s]\u001b[A\n",
      "Iteration:  64% 204/319 [01:56<01:06,  1.74it/s]\u001b[A\n",
      "Iteration:  64% 205/319 [01:56<01:05,  1.74it/s]\u001b[A\n",
      "Iteration:  65% 206/319 [01:57<01:04,  1.74it/s]\u001b[A\n",
      "Iteration:  65% 207/319 [01:57<01:04,  1.74it/s]\u001b[A\n",
      "Iteration:  65% 208/319 [01:58<01:03,  1.74it/s]\u001b[A\n",
      "Iteration:  66% 209/319 [01:58<01:03,  1.74it/s]\u001b[A\n",
      "Iteration:  66% 210/319 [01:59<01:02,  1.74it/s]\u001b[A\n",
      "Iteration:  66% 211/319 [02:00<01:02,  1.74it/s]\u001b[A\n",
      "Iteration:  66% 212/319 [02:00<01:01,  1.74it/s]\u001b[A\n",
      "Iteration:  67% 213/319 [02:01<01:00,  1.74it/s]\u001b[A\n",
      "Iteration:  67% 214/319 [02:01<01:00,  1.74it/s]\u001b[A\n",
      "Iteration:  67% 215/319 [02:02<00:59,  1.74it/s]\u001b[A\n",
      "Iteration:  68% 216/319 [02:03<00:59,  1.73it/s]\u001b[A\n",
      "Iteration:  68% 217/319 [02:03<00:58,  1.73it/s]\u001b[A\n",
      "Iteration:  68% 218/319 [02:04<00:58,  1.73it/s]\u001b[A\n",
      "Iteration:  69% 219/319 [02:04<00:57,  1.73it/s]\u001b[A\n",
      "Iteration:  69% 220/319 [02:05<00:57,  1.73it/s]\u001b[A\n",
      "Iteration:  69% 221/319 [02:05<00:56,  1.73it/s]\u001b[A\n",
      "Iteration:  70% 222/319 [02:06<00:55,  1.73it/s]\u001b[A\n",
      "Iteration:  70% 223/319 [02:07<00:55,  1.73it/s]\u001b[A\n",
      "Iteration:  70% 224/319 [02:07<00:54,  1.73it/s]\u001b[A\n",
      "Iteration:  71% 225/319 [02:08<00:54,  1.73it/s]\u001b[A\n",
      "Iteration:  71% 226/319 [02:08<00:53,  1.73it/s]\u001b[A\n",
      "Iteration:  71% 227/319 [02:09<00:53,  1.73it/s]\u001b[A\n",
      "Iteration:  71% 228/319 [02:09<00:52,  1.73it/s]\u001b[A\n",
      "Iteration:  72% 229/319 [02:10<00:51,  1.73it/s]\u001b[A\n",
      "Iteration:  72% 230/319 [02:11<00:51,  1.73it/s]\u001b[A\n",
      "Iteration:  72% 231/319 [02:11<00:50,  1.73it/s]\u001b[A\n",
      "Iteration:  73% 232/319 [02:12<00:50,  1.73it/s]\u001b[A\n",
      "Iteration:  73% 233/319 [02:12<00:49,  1.73it/s]\u001b[A\n",
      "Iteration:  73% 234/319 [02:13<00:49,  1.73it/s]\u001b[A\n",
      "Iteration:  74% 235/319 [02:13<00:48,  1.73it/s]\u001b[A\n",
      "Iteration:  74% 236/319 [02:14<00:48,  1.70it/s]\u001b[A\n",
      "Iteration:  74% 237/319 [02:15<00:47,  1.71it/s]\u001b[A\n",
      "Iteration:  75% 238/319 [02:15<00:47,  1.71it/s]\u001b[A\n",
      "Iteration:  75% 239/319 [02:16<00:46,  1.72it/s]\u001b[A\n",
      "Iteration:  75% 240/319 [02:16<00:46,  1.72it/s]\u001b[A\n",
      "Iteration:  76% 241/319 [02:17<00:45,  1.72it/s]\u001b[A\n",
      "Iteration:  76% 242/319 [02:18<00:44,  1.72it/s]\u001b[A\n",
      "Iteration:  76% 243/319 [02:18<00:44,  1.73it/s]\u001b[A\n",
      "Iteration:  76% 244/319 [02:19<00:43,  1.72it/s]\u001b[A\n",
      "Iteration:  77% 245/319 [02:19<00:42,  1.73it/s]\u001b[A\n",
      "Iteration:  77% 246/319 [02:20<00:42,  1.73it/s]\u001b[A\n",
      "Iteration:  77% 247/319 [02:20<00:41,  1.73it/s]\u001b[A\n",
      "Iteration:  78% 248/319 [02:21<00:41,  1.73it/s]\u001b[A\n",
      "Iteration:  78% 249/319 [02:22<00:40,  1.73it/s]\u001b[A\n",
      "Iteration:  78% 250/319 [02:22<00:39,  1.73it/s]\u001b[A\n",
      "Iteration:  79% 251/319 [02:23<00:39,  1.73it/s]\u001b[A\n",
      "Iteration:  79% 252/319 [02:23<00:38,  1.73it/s]\u001b[A\n",
      "Iteration:  79% 253/319 [02:24<00:38,  1.73it/s]\u001b[A\n",
      "Iteration:  80% 254/319 [02:25<00:37,  1.73it/s]\u001b[A\n",
      "Iteration:  80% 255/319 [02:25<00:37,  1.73it/s]\u001b[A\n",
      "Iteration:  80% 256/319 [02:26<00:36,  1.73it/s]\u001b[A\n",
      "Iteration:  81% 257/319 [02:26<00:35,  1.73it/s]\u001b[A\n",
      "Iteration:  81% 258/319 [02:27<00:35,  1.73it/s]\u001b[A\n",
      "Iteration:  81% 259/319 [02:27<00:34,  1.73it/s]\u001b[A\n",
      "Iteration:  82% 260/319 [02:28<00:34,  1.73it/s]\u001b[A\n",
      "Iteration:  82% 261/319 [02:29<00:33,  1.73it/s]\u001b[A\n",
      "Iteration:  82% 262/319 [02:29<00:33,  1.73it/s]\u001b[A\n",
      "Iteration:  82% 263/319 [02:30<00:32,  1.73it/s]\u001b[A\n",
      "Iteration:  83% 264/319 [02:30<00:31,  1.73it/s]\u001b[A\n",
      "Iteration:  83% 265/319 [02:31<00:31,  1.72it/s]\u001b[A\n",
      "Iteration:  83% 266/319 [02:31<00:30,  1.72it/s]\u001b[A\n",
      "Iteration:  84% 267/319 [02:32<00:30,  1.73it/s]\u001b[A\n",
      "Iteration:  84% 268/319 [02:33<00:29,  1.72it/s]\u001b[A\n",
      "Iteration:  84% 269/319 [02:33<00:29,  1.72it/s]\u001b[A\n",
      "Iteration:  85% 270/319 [02:34<00:28,  1.72it/s]\u001b[A\n",
      "Iteration:  85% 271/319 [02:34<00:27,  1.72it/s]\u001b[A\n",
      "Iteration:  85% 272/319 [02:35<00:27,  1.72it/s]\u001b[A\n",
      "Iteration:  86% 273/319 [02:36<00:26,  1.72it/s]\u001b[A\n",
      "Iteration:  86% 274/319 [02:36<00:26,  1.72it/s]\u001b[A\n",
      "Iteration:  86% 275/319 [02:37<00:25,  1.72it/s]\u001b[A\n",
      "Iteration:  87% 276/319 [02:37<00:24,  1.72it/s]\u001b[A\n",
      "Iteration:  87% 277/319 [02:38<00:24,  1.73it/s]\u001b[A\n",
      "Iteration:  87% 278/319 [02:38<00:23,  1.73it/s]\u001b[A\n",
      "Iteration:  87% 279/319 [02:39<00:23,  1.73it/s]\u001b[A\n",
      "Iteration:  88% 280/319 [02:40<00:22,  1.72it/s]\u001b[A\n",
      "Iteration:  88% 281/319 [02:40<00:22,  1.72it/s]\u001b[A\n",
      "Iteration:  88% 282/319 [02:41<00:21,  1.72it/s]\u001b[A\n",
      "Iteration:  89% 283/319 [02:41<00:20,  1.72it/s]\u001b[A\n",
      "Iteration:  89% 284/319 [02:42<00:20,  1.72it/s]\u001b[A\n",
      "Iteration:  89% 285/319 [02:43<00:19,  1.72it/s]\u001b[A\n",
      "Iteration:  90% 286/319 [02:43<00:19,  1.72it/s]\u001b[A\n",
      "Iteration:  90% 287/319 [02:44<00:18,  1.72it/s]\u001b[A\n",
      "Iteration:  90% 288/319 [02:44<00:18,  1.72it/s]\u001b[A\n",
      "Iteration:  91% 289/319 [02:45<00:17,  1.72it/s]\u001b[A\n",
      "Iteration:  91% 290/319 [02:45<00:16,  1.72it/s]\u001b[A\n",
      "Iteration:  91% 291/319 [02:46<00:16,  1.72it/s]\u001b[A\n",
      "Iteration:  92% 292/319 [02:47<00:15,  1.72it/s]\u001b[A\n",
      "Iteration:  92% 293/319 [02:47<00:15,  1.72it/s]\u001b[A\n",
      "Iteration:  92% 294/319 [02:48<00:14,  1.72it/s]\u001b[A\n",
      "Iteration:  92% 295/319 [02:48<00:13,  1.72it/s]\u001b[A\n",
      "Iteration:  93% 296/319 [02:49<00:13,  1.72it/s]\u001b[A\n",
      "Iteration:  93% 297/319 [02:49<00:12,  1.72it/s]\u001b[A\n",
      "Iteration:  93% 298/319 [02:50<00:12,  1.72it/s]\u001b[A\n",
      "Iteration:  94% 299/319 [02:51<00:11,  1.72it/s]\u001b[A\n",
      "Iteration:  94% 300/319 [02:51<00:11,  1.72it/s]\u001b[A\n",
      "Iteration:  94% 301/319 [02:52<00:10,  1.72it/s]\u001b[A\n",
      "Iteration:  95% 302/319 [02:52<00:09,  1.72it/s]\u001b[A\n",
      "Iteration:  95% 303/319 [02:53<00:09,  1.72it/s]\u001b[A\n",
      "Iteration:  95% 304/319 [02:54<00:08,  1.72it/s]\u001b[A\n",
      "Iteration:  96% 305/319 [02:54<00:08,  1.72it/s]\u001b[A\n",
      "Iteration:  96% 306/319 [02:55<00:07,  1.72it/s]\u001b[A\n",
      "Iteration:  96% 307/319 [02:55<00:06,  1.72it/s]\u001b[A\n",
      "Iteration:  97% 308/319 [02:56<00:06,  1.72it/s]\u001b[A\n",
      "Iteration:  97% 309/319 [02:56<00:05,  1.72it/s]\u001b[A\n",
      "Iteration:  97% 310/319 [02:57<00:05,  1.71it/s]\u001b[A\n",
      "Iteration:  97% 311/319 [02:58<00:04,  1.71it/s]\u001b[A\n",
      "Iteration:  98% 312/319 [02:58<00:04,  1.72it/s]\u001b[A\n",
      "Iteration:  98% 313/319 [02:59<00:03,  1.72it/s]\u001b[A\n",
      "Iteration:  98% 314/319 [02:59<00:02,  1.72it/s]\u001b[A\n",
      "Iteration:  99% 315/319 [03:00<00:02,  1.72it/s]\u001b[A\n",
      "Iteration:  99% 316/319 [03:01<00:01,  1.71it/s]\u001b[A\n",
      "Iteration:  99% 317/319 [03:01<00:01,  1.72it/s]\u001b[A\n",
      "Iteration: 100% 318/319 [03:02<00:00,  1.71it/s]\u001b[A\n",
      "Iteration: 100% 319/319 [03:02<00:00,  1.75it/s]\n",
      "Epoch:  25% 1/4 [03:02<09:07, 182.60s/it]\n",
      "Iteration:   0% 0/319 [00:00<?, ?it/s]\u001b[A\n",
      "Iteration:   0% 1/319 [00:00<03:05,  1.72it/s]\u001b[A\n",
      "Iteration:   1% 2/319 [00:01<03:05,  1.71it/s]\u001b[A\n",
      "Iteration:   1% 3/319 [00:01<03:09,  1.67it/s]\u001b[A\n",
      "Iteration:   1% 4/319 [00:02<03:06,  1.69it/s]\u001b[A\n",
      "Iteration:   2% 5/319 [00:02<03:05,  1.69it/s]\u001b[A\n",
      "Iteration:   2% 6/319 [00:03<03:03,  1.71it/s]\u001b[A\n",
      "Iteration:   2% 7/319 [00:04<03:03,  1.70it/s]\u001b[A\n",
      "Iteration:   3% 8/319 [00:04<03:02,  1.71it/s]\u001b[A\n",
      "Iteration:   3% 9/319 [00:05<03:01,  1.71it/s]\u001b[A\n",
      "Iteration:   3% 10/319 [00:05<03:00,  1.71it/s]\u001b[A\n",
      "Iteration:   3% 11/319 [00:06<02:59,  1.71it/s]\u001b[A\n",
      "Iteration:   4% 12/319 [00:07<02:59,  1.71it/s]\u001b[A\n",
      "Iteration:   4% 13/319 [00:07<02:58,  1.71it/s]\u001b[A\n",
      "Iteration:   4% 14/319 [00:08<02:58,  1.71it/s]\u001b[A\n",
      "Iteration:   5% 15/319 [00:08<02:57,  1.71it/s]\u001b[A\n",
      "Iteration:   5% 16/319 [00:09<02:57,  1.71it/s]\u001b[A\n",
      "Iteration:   5% 17/319 [00:09<02:56,  1.71it/s]\u001b[A\n",
      "Iteration:   6% 18/319 [00:10<02:55,  1.71it/s]\u001b[A\n",
      "Iteration:   6% 19/319 [00:11<02:55,  1.71it/s]\u001b[A\n",
      "Iteration:   6% 20/319 [00:11<02:54,  1.71it/s]\u001b[A\n",
      "Iteration:   7% 21/319 [00:12<02:53,  1.71it/s]\u001b[A\n",
      "Iteration:   7% 22/319 [00:12<02:53,  1.71it/s]\u001b[A\n",
      "Iteration:   7% 23/319 [00:13<02:52,  1.71it/s]\u001b[A\n",
      "Iteration:   8% 24/319 [00:14<02:52,  1.71it/s]\u001b[A\n",
      "Iteration:   8% 25/319 [00:14<02:51,  1.71it/s]\u001b[A\n",
      "Iteration:   8% 26/319 [00:15<02:51,  1.71it/s]\u001b[A\n",
      "Iteration:   8% 27/319 [00:15<02:51,  1.71it/s]\u001b[A\n",
      "Iteration:   9% 28/319 [00:16<02:50,  1.71it/s]\u001b[A\n",
      "Iteration:   9% 29/319 [00:16<02:49,  1.71it/s]\u001b[A\n",
      "Iteration:   9% 30/319 [00:17<02:49,  1.71it/s]\u001b[A\n",
      "Iteration:  10% 31/319 [00:18<02:48,  1.71it/s]\u001b[A\n",
      "Iteration:  10% 32/319 [00:18<02:48,  1.71it/s]\u001b[A\n",
      "Iteration:  10% 33/319 [00:19<02:47,  1.71it/s]\u001b[A\n",
      "Iteration:  11% 34/319 [00:19<02:46,  1.71it/s]\u001b[A\n",
      "Iteration:  11% 35/319 [00:20<02:46,  1.71it/s]\u001b[A\n",
      "Iteration:  11% 36/319 [00:21<02:45,  1.71it/s]\u001b[A\n",
      "Iteration:  12% 37/319 [00:21<02:45,  1.71it/s]\u001b[A\n",
      "Iteration:  12% 38/319 [00:22<02:44,  1.71it/s]\u001b[A\n",
      "Iteration:  12% 39/319 [00:22<02:44,  1.71it/s]\u001b[A\n",
      "Iteration:  13% 40/319 [00:23<02:43,  1.71it/s]\u001b[A\n",
      "Iteration:  13% 41/319 [00:24<02:42,  1.71it/s]\u001b[A\n",
      "Iteration:  13% 42/319 [00:24<02:42,  1.71it/s]\u001b[A\n",
      "Iteration:  13% 43/319 [00:25<02:41,  1.71it/s]\u001b[A\n",
      "Iteration:  14% 44/319 [00:25<02:40,  1.71it/s]\u001b[A\n",
      "Iteration:  14% 45/319 [00:26<02:40,  1.71it/s]\u001b[A\n",
      "Iteration:  14% 46/319 [00:26<02:39,  1.71it/s]\u001b[A\n",
      "Iteration:  15% 47/319 [00:27<02:39,  1.71it/s]\u001b[A\n",
      "Iteration:  15% 48/319 [00:28<02:38,  1.71it/s]\u001b[A\n",
      "Iteration:  15% 49/319 [00:28<02:38,  1.71it/s]\u001b[A\n",
      "Iteration:  16% 50/319 [00:29<02:37,  1.71it/s]\u001b[A\n",
      "Iteration:  16% 51/319 [00:29<02:37,  1.70it/s]\u001b[A\n",
      "Iteration:  16% 52/319 [00:30<02:36,  1.70it/s]\u001b[A\n",
      "Iteration:  17% 53/319 [00:31<02:36,  1.70it/s]\u001b[A\n",
      "Iteration:  17% 54/319 [00:31<02:35,  1.71it/s]\u001b[A\n",
      "Iteration:  17% 55/319 [00:32<02:34,  1.71it/s]\u001b[A\n",
      "Iteration:  18% 56/319 [00:32<02:34,  1.71it/s]\u001b[A\n",
      "Iteration:  18% 57/319 [00:33<02:33,  1.70it/s]\u001b[A\n",
      "Iteration:  18% 58/319 [00:33<02:33,  1.71it/s]\u001b[A\n",
      "Iteration:  18% 59/319 [00:34<02:32,  1.71it/s]\u001b[A\n",
      "Iteration:  19% 60/319 [00:35<02:31,  1.71it/s]\u001b[A\n",
      "Iteration:  19% 61/319 [00:35<02:31,  1.71it/s]\u001b[A\n",
      "Iteration:  19% 62/319 [00:36<02:30,  1.71it/s]\u001b[A\n",
      "Iteration:  20% 63/319 [00:36<02:29,  1.71it/s]\u001b[A\n",
      "Iteration:  20% 64/319 [00:37<02:29,  1.71it/s]\u001b[A\n",
      "Iteration:  20% 65/319 [00:38<02:28,  1.70it/s]\u001b[A\n",
      "Iteration:  21% 66/319 [00:38<02:28,  1.71it/s]\u001b[A\n",
      "Iteration:  21% 67/319 [00:39<02:27,  1.70it/s]\u001b[A\n",
      "Iteration:  21% 68/319 [00:39<02:27,  1.70it/s]\u001b[A\n",
      "Iteration:  22% 69/319 [00:40<02:26,  1.70it/s]\u001b[A\n",
      "Iteration:  22% 70/319 [00:41<02:25,  1.71it/s]\u001b[A\n",
      "Iteration:  22% 71/319 [00:41<02:25,  1.70it/s]\u001b[A\n",
      "Iteration:  23% 72/319 [00:42<02:24,  1.70it/s]\u001b[A\n",
      "Iteration:  23% 73/319 [00:42<02:24,  1.71it/s]\u001b[A\n",
      "Iteration:  23% 74/319 [00:43<02:23,  1.70it/s]\u001b[A\n",
      "Iteration:  24% 75/319 [00:43<02:23,  1.70it/s]\u001b[A\n",
      "Iteration:  24% 76/319 [00:44<02:22,  1.70it/s]\u001b[A\n",
      "Iteration:  24% 77/319 [00:45<02:22,  1.70it/s]\u001b[A\n",
      "Iteration:  24% 78/319 [00:45<02:21,  1.70it/s]\u001b[A\n",
      "Iteration:  25% 79/319 [00:46<02:21,  1.70it/s]\u001b[A\n",
      "Iteration:  25% 80/319 [00:46<02:20,  1.70it/s]\u001b[A\n",
      "Iteration:  25% 81/319 [00:47<02:19,  1.70it/s]\u001b[A\n",
      "Iteration:  26% 82/319 [00:48<02:19,  1.70it/s]\u001b[A\n",
      "Iteration:  26% 83/319 [00:48<02:18,  1.70it/s]\u001b[A\n",
      "Iteration:  26% 84/319 [00:49<02:17,  1.71it/s]\u001b[A\n",
      "Iteration:  27% 85/319 [00:49<02:17,  1.70it/s]\u001b[A\n",
      "Iteration:  27% 86/319 [00:50<02:16,  1.70it/s]\u001b[A\n",
      "Iteration:  27% 87/319 [00:50<02:16,  1.70it/s]\u001b[A\n",
      "Iteration:  28% 88/319 [00:51<02:15,  1.70it/s]\u001b[A\n",
      "Iteration:  28% 89/319 [00:52<02:15,  1.70it/s]\u001b[A\n",
      "Iteration:  28% 90/319 [00:52<02:14,  1.70it/s]\u001b[A\n",
      "Iteration:  29% 91/319 [00:53<02:14,  1.70it/s]\u001b[A\n",
      "Iteration:  29% 92/319 [00:53<02:13,  1.70it/s]\u001b[A\n",
      "Iteration:  29% 93/319 [00:54<02:12,  1.70it/s]\u001b[A\n",
      "Iteration:  29% 94/319 [00:55<02:12,  1.70it/s]\u001b[A\n",
      "Iteration:  30% 95/319 [00:55<02:11,  1.70it/s]\u001b[A\n",
      "Iteration:  30% 96/319 [00:56<02:11,  1.70it/s]\u001b[A\n",
      "Iteration:  30% 97/319 [00:56<02:10,  1.70it/s]\u001b[A\n",
      "Iteration:  31% 98/319 [00:57<02:10,  1.70it/s]\u001b[A\n",
      "Iteration:  31% 99/319 [00:58<02:09,  1.70it/s]\u001b[A\n",
      "Iteration:  31% 100/319 [00:58<02:09,  1.70it/s]\u001b[A\n",
      "Iteration:  32% 101/319 [00:59<02:08,  1.70it/s]\u001b[A\n",
      "Iteration:  32% 102/319 [00:59<02:08,  1.69it/s]\u001b[A\n",
      "Iteration:  32% 103/319 [01:00<02:07,  1.70it/s]\u001b[A\n",
      "Iteration:  33% 104/319 [01:00<02:06,  1.70it/s]\u001b[A\n",
      "Iteration:  33% 105/319 [01:01<02:06,  1.70it/s]\u001b[A\n",
      "Iteration:  33% 106/319 [01:02<02:05,  1.70it/s]\u001b[A\n",
      "Iteration:  34% 107/319 [01:02<02:05,  1.70it/s]\u001b[A\n",
      "Iteration:  34% 108/319 [01:03<02:04,  1.70it/s]\u001b[A\n",
      "Iteration:  34% 109/319 [01:03<02:03,  1.70it/s]\u001b[A\n",
      "Iteration:  34% 110/319 [01:04<02:03,  1.70it/s]\u001b[A\n",
      "Iteration:  35% 111/319 [01:05<02:02,  1.70it/s]\u001b[A\n",
      "Iteration:  35% 112/319 [01:05<02:01,  1.70it/s]\u001b[A\n",
      "Iteration:  35% 113/319 [01:06<02:00,  1.70it/s]\u001b[A\n",
      "Iteration:  36% 114/319 [01:06<02:00,  1.70it/s]\u001b[A\n",
      "Iteration:  36% 115/319 [01:07<01:59,  1.70it/s]\u001b[A\n",
      "Iteration:  36% 116/319 [01:08<01:59,  1.70it/s]\u001b[A\n",
      "Iteration:  37% 117/319 [01:08<01:58,  1.70it/s]\u001b[A\n",
      "Iteration:  37% 118/319 [01:09<01:58,  1.70it/s]\u001b[A\n",
      "Iteration:  37% 119/319 [01:09<01:57,  1.70it/s]\u001b[A\n",
      "Iteration:  38% 120/319 [01:10<01:57,  1.70it/s]\u001b[A\n",
      "Iteration:  38% 121/319 [01:11<01:57,  1.69it/s]\u001b[A\n",
      "Iteration:  38% 122/319 [01:11<01:56,  1.69it/s]\u001b[A\n",
      "Iteration:  39% 123/319 [01:12<01:55,  1.69it/s]\u001b[A\n",
      "Iteration:  39% 124/319 [01:12<01:55,  1.69it/s]\u001b[A\n",
      "Iteration:  39% 125/319 [01:13<01:54,  1.69it/s]\u001b[A\n",
      "Iteration:  39% 126/319 [01:13<01:53,  1.70it/s]\u001b[A\n",
      "Iteration:  40% 127/319 [01:14<01:53,  1.70it/s]\u001b[A\n",
      "Iteration:  40% 128/319 [01:15<01:52,  1.70it/s]\u001b[A\n",
      "Iteration:  40% 129/319 [01:15<01:52,  1.70it/s]\u001b[A\n",
      "Iteration:  41% 130/319 [01:16<01:51,  1.69it/s]\u001b[A\n",
      "Iteration:  41% 131/319 [01:16<01:50,  1.70it/s]\u001b[A\n",
      "Iteration:  41% 132/319 [01:17<01:50,  1.70it/s]\u001b[A\n",
      "Iteration:  42% 133/319 [01:18<01:49,  1.70it/s]\u001b[A\n",
      "Iteration:  42% 134/319 [01:18<01:48,  1.70it/s]\u001b[A\n",
      "Iteration:  42% 135/319 [01:19<01:48,  1.70it/s]\u001b[A\n",
      "Iteration:  43% 136/319 [01:19<01:47,  1.70it/s]\u001b[A\n",
      "Iteration:  43% 137/319 [01:20<01:47,  1.70it/s]\u001b[A\n",
      "Iteration:  43% 138/319 [01:21<01:46,  1.70it/s]\u001b[A\n",
      "Iteration:  44% 139/319 [01:21<01:45,  1.70it/s]\u001b[A\n",
      "Iteration:  44% 140/319 [01:22<01:45,  1.70it/s]\u001b[A\n",
      "Iteration:  44% 141/319 [01:22<01:44,  1.70it/s]\u001b[A\n",
      "Iteration:  45% 142/319 [01:23<01:44,  1.69it/s]\u001b[A\n",
      "Iteration:  45% 143/319 [01:23<01:43,  1.70it/s]\u001b[A\n",
      "Iteration:  45% 144/319 [01:24<01:43,  1.69it/s]\u001b[A\n",
      "Iteration:  45% 145/319 [01:25<01:42,  1.69it/s]\u001b[A\n",
      "Iteration:  46% 146/319 [01:25<01:42,  1.69it/s]\u001b[A\n",
      "Iteration:  46% 147/319 [01:26<01:41,  1.70it/s]\u001b[A\n",
      "Iteration:  46% 148/319 [01:26<01:40,  1.70it/s]\u001b[A\n",
      "Iteration:  47% 149/319 [01:27<01:40,  1.69it/s]\u001b[A\n",
      "Iteration:  47% 150/319 [01:28<01:39,  1.69it/s]\u001b[A\n",
      "Iteration:  47% 151/319 [01:28<01:39,  1.69it/s]\u001b[A\n",
      "Iteration:  48% 152/319 [01:29<01:38,  1.69it/s]\u001b[A\n",
      "Iteration:  48% 153/319 [01:29<01:38,  1.69it/s]\u001b[A\n",
      "Iteration:  48% 154/319 [01:30<01:37,  1.70it/s]\u001b[A\n",
      "Iteration:  49% 155/319 [01:31<01:36,  1.70it/s]\u001b[A\n",
      "Iteration:  49% 156/319 [01:31<01:36,  1.69it/s]\u001b[A\n",
      "Iteration:  49% 157/319 [01:32<01:35,  1.69it/s]\u001b[A\n",
      "Iteration:  50% 158/319 [01:32<01:35,  1.69it/s]\u001b[A\n",
      "Iteration:  50% 159/319 [01:33<01:34,  1.69it/s]\u001b[A\n",
      "Iteration:  50% 160/319 [01:34<01:33,  1.69it/s]\u001b[A\n",
      "Iteration:  50% 161/319 [01:34<01:33,  1.69it/s]\u001b[A\n",
      "Iteration:  51% 162/319 [01:35<01:32,  1.69it/s]\u001b[A\n",
      "Iteration:  51% 163/319 [01:35<01:32,  1.69it/s]\u001b[A\n",
      "Iteration:  51% 164/319 [01:36<01:31,  1.69it/s]\u001b[A\n",
      "Iteration:  52% 165/319 [01:36<01:31,  1.69it/s]\u001b[A\n",
      "Iteration:  52% 166/319 [01:37<01:30,  1.69it/s]\u001b[A\n",
      "Iteration:  52% 167/319 [01:38<01:29,  1.69it/s]\u001b[A\n",
      "Iteration:  53% 168/319 [01:38<01:29,  1.69it/s]\u001b[A\n",
      "Iteration:  53% 169/319 [01:39<01:28,  1.69it/s]\u001b[A\n",
      "Iteration:  53% 170/319 [01:39<01:27,  1.69it/s]\u001b[A\n",
      "Iteration:  54% 171/319 [01:40<01:27,  1.69it/s]\u001b[A\n",
      "Iteration:  54% 172/319 [01:41<01:26,  1.69it/s]\u001b[A\n",
      "Iteration:  54% 173/319 [01:41<01:26,  1.69it/s]\u001b[A\n",
      "Iteration:  55% 174/319 [01:42<01:25,  1.69it/s]\u001b[A\n",
      "Iteration:  55% 175/319 [01:42<01:25,  1.69it/s]\u001b[A\n",
      "Iteration:  55% 176/319 [01:43<01:24,  1.69it/s]\u001b[A\n",
      "Iteration:  55% 177/319 [01:44<01:24,  1.69it/s]\u001b[A\n",
      "Iteration:  56% 178/319 [01:44<01:23,  1.69it/s]\u001b[A\n",
      "Iteration:  56% 179/319 [01:45<01:22,  1.69it/s]\u001b[A\n",
      "Iteration:  56% 180/319 [01:45<01:22,  1.69it/s]\u001b[A\n",
      "Iteration:  57% 181/319 [01:46<01:21,  1.69it/s]\u001b[A\n",
      "Iteration:  57% 182/319 [01:47<01:20,  1.69it/s]\u001b[A\n",
      "Iteration:  57% 183/319 [01:47<01:20,  1.69it/s]\u001b[A\n",
      "Iteration:  58% 184/319 [01:48<01:19,  1.70it/s]\u001b[A\n",
      "Iteration:  58% 185/319 [01:48<01:19,  1.69it/s]\u001b[A\n",
      "Iteration:  58% 186/319 [01:49<01:18,  1.69it/s]\u001b[A\n",
      "Iteration:  59% 187/319 [01:49<01:18,  1.69it/s]\u001b[A\n",
      "Iteration:  59% 188/319 [01:50<01:17,  1.69it/s]\u001b[A\n",
      "Iteration:  59% 189/319 [01:51<01:17,  1.69it/s]\u001b[A\n",
      "Iteration:  60% 190/319 [01:51<01:16,  1.69it/s]\u001b[A\n",
      "Iteration:  60% 191/319 [01:52<01:15,  1.69it/s]\u001b[A\n",
      "Iteration:  60% 192/319 [01:52<01:15,  1.69it/s]\u001b[A\n",
      "Iteration:  61% 193/319 [01:53<01:14,  1.69it/s]\u001b[A\n",
      "Iteration:  61% 194/319 [01:54<01:14,  1.69it/s]\u001b[A\n",
      "Iteration:  61% 195/319 [01:54<01:13,  1.69it/s]\u001b[A\n",
      "Iteration:  61% 196/319 [01:55<01:12,  1.69it/s]\u001b[A\n",
      "Iteration:  62% 197/319 [01:55<01:12,  1.69it/s]\u001b[A\n",
      "Iteration:  62% 198/319 [01:56<01:11,  1.69it/s]\u001b[A\n",
      "Iteration:  62% 199/319 [01:57<01:11,  1.69it/s]\u001b[A\n",
      "Iteration:  63% 200/319 [01:57<01:10,  1.69it/s]\u001b[A\n",
      "Iteration:  63% 201/319 [01:58<01:09,  1.69it/s]\u001b[A\n",
      "Iteration:  63% 202/319 [01:58<01:09,  1.69it/s]\u001b[A\n",
      "Iteration:  64% 203/319 [01:59<01:08,  1.69it/s]\u001b[A\n",
      "Iteration:  64% 204/319 [02:00<01:08,  1.69it/s]\u001b[A\n",
      "Iteration:  64% 205/319 [02:00<01:07,  1.69it/s]\u001b[A\n",
      "Iteration:  65% 206/319 [02:01<01:06,  1.69it/s]\u001b[A\n",
      "Iteration:  65% 207/319 [02:01<01:06,  1.69it/s]\u001b[A\n",
      "Iteration:  65% 208/319 [02:02<01:05,  1.69it/s]\u001b[A\n",
      "Iteration:  66% 209/319 [02:03<01:05,  1.69it/s]\u001b[A\n",
      "Iteration:  66% 210/319 [02:03<01:04,  1.68it/s]\u001b[A\n",
      "Iteration:  66% 211/319 [02:04<01:04,  1.69it/s]\u001b[A\n",
      "Iteration:  66% 212/319 [02:04<01:03,  1.69it/s]\u001b[A\n",
      "Iteration:  67% 213/319 [02:05<01:02,  1.69it/s]\u001b[A\n",
      "Iteration:  67% 214/319 [02:05<01:02,  1.69it/s]\u001b[A\n",
      "Iteration:  67% 215/319 [02:06<01:01,  1.69it/s]\u001b[A\n",
      "Iteration:  68% 216/319 [02:07<01:01,  1.69it/s]\u001b[A\n",
      "Iteration:  68% 217/319 [02:07<01:00,  1.69it/s]\u001b[A\n",
      "Iteration:  68% 218/319 [02:08<00:59,  1.69it/s]\u001b[A\n",
      "Iteration:  69% 219/319 [02:08<00:59,  1.69it/s]\u001b[A\n",
      "Iteration:  69% 220/319 [02:09<00:58,  1.69it/s]\u001b[A\n",
      "Iteration:  69% 221/319 [02:10<00:58,  1.69it/s]\u001b[A\n",
      "Iteration:  70% 222/319 [02:10<00:57,  1.69it/s]\u001b[A\n",
      "Iteration:  70% 223/319 [02:11<00:56,  1.69it/s]\u001b[A\n",
      "Iteration:  70% 224/319 [02:11<00:56,  1.69it/s]\u001b[A\n",
      "Iteration:  71% 225/319 [02:12<00:55,  1.69it/s]\u001b[A\n",
      "Iteration:  71% 226/319 [02:13<00:55,  1.69it/s]\u001b[A\n",
      "Iteration:  71% 227/319 [02:13<00:54,  1.69it/s]\u001b[A\n",
      "Iteration:  71% 228/319 [02:14<00:53,  1.69it/s]\u001b[A\n",
      "Iteration:  72% 229/319 [02:14<00:53,  1.69it/s]\u001b[A\n",
      "Iteration:  72% 230/319 [02:15<00:52,  1.69it/s]\u001b[A\n",
      "Iteration:  72% 231/319 [02:16<00:52,  1.69it/s]\u001b[A\n",
      "Iteration:  73% 232/319 [02:16<00:51,  1.69it/s]\u001b[A\n",
      "Iteration:  73% 233/319 [02:17<00:50,  1.69it/s]\u001b[A\n",
      "Iteration:  73% 234/319 [02:17<00:50,  1.68it/s]\u001b[A\n",
      "Iteration:  74% 235/319 [02:18<00:49,  1.69it/s]\u001b[A\n",
      "Iteration:  74% 236/319 [02:19<00:49,  1.69it/s]\u001b[A\n",
      "Iteration:  74% 237/319 [02:19<00:48,  1.69it/s]\u001b[A\n",
      "Iteration:  75% 238/319 [02:20<00:48,  1.69it/s]\u001b[A\n",
      "Iteration:  75% 239/319 [02:20<00:47,  1.69it/s]\u001b[A\n",
      "Iteration:  75% 240/319 [02:21<00:46,  1.69it/s]\u001b[A\n",
      "Iteration:  76% 241/319 [02:21<00:46,  1.69it/s]\u001b[A\n",
      "Iteration:  76% 242/319 [02:22<00:45,  1.69it/s]\u001b[A\n",
      "Iteration:  76% 243/319 [02:23<00:45,  1.69it/s]\u001b[A\n",
      "Iteration:  76% 244/319 [02:23<00:44,  1.69it/s]\u001b[A\n",
      "Iteration:  77% 245/319 [02:24<00:43,  1.69it/s]\u001b[A\n",
      "Iteration:  77% 246/319 [02:24<00:43,  1.69it/s]\u001b[A\n",
      "Iteration:  77% 247/319 [02:25<00:42,  1.69it/s]\u001b[A\n",
      "Iteration:  78% 248/319 [02:26<00:42,  1.69it/s]\u001b[A\n",
      "Iteration:  78% 249/319 [02:26<00:41,  1.69it/s]\u001b[A\n",
      "Iteration:  78% 250/319 [02:27<00:40,  1.69it/s]\u001b[A\n",
      "Iteration:  79% 251/319 [02:27<00:40,  1.69it/s]\u001b[A\n",
      "Iteration:  79% 252/319 [02:28<00:39,  1.69it/s]\u001b[A\n",
      "Iteration:  79% 253/319 [02:29<00:39,  1.69it/s]\u001b[A\n",
      "Iteration:  80% 254/319 [02:29<00:38,  1.69it/s]\u001b[A\n",
      "Iteration:  80% 255/319 [02:30<00:37,  1.69it/s]\u001b[A\n",
      "Iteration:  80% 256/319 [02:30<00:37,  1.69it/s]\u001b[A\n",
      "Iteration:  81% 257/319 [02:31<00:36,  1.69it/s]\u001b[A\n",
      "Iteration:  81% 258/319 [02:32<00:36,  1.69it/s]\u001b[A\n",
      "Iteration:  81% 259/319 [02:32<00:35,  1.69it/s]\u001b[A\n",
      "Iteration:  82% 260/319 [02:33<00:34,  1.69it/s]\u001b[A\n",
      "Iteration:  82% 261/319 [02:33<00:34,  1.69it/s]\u001b[A\n",
      "Iteration:  82% 262/319 [02:34<00:33,  1.69it/s]\u001b[A\n",
      "Iteration:  82% 263/319 [02:34<00:33,  1.69it/s]\u001b[A\n",
      "Iteration:  83% 264/319 [02:35<00:32,  1.69it/s]\u001b[A\n",
      "Iteration:  83% 265/319 [02:36<00:31,  1.69it/s]\u001b[A\n",
      "Iteration:  83% 266/319 [02:36<00:31,  1.69it/s]\u001b[A\n",
      "Iteration:  84% 267/319 [02:37<00:30,  1.69it/s]\u001b[A\n",
      "Iteration:  84% 268/319 [02:37<00:30,  1.69it/s]\u001b[A\n",
      "Iteration:  84% 269/319 [02:38<00:29,  1.69it/s]\u001b[A\n",
      "Iteration:  85% 270/319 [02:39<00:29,  1.69it/s]\u001b[A\n",
      "Iteration:  85% 271/319 [02:39<00:28,  1.69it/s]\u001b[A\n",
      "Iteration:  85% 272/319 [02:40<00:27,  1.69it/s]\u001b[A\n",
      "Iteration:  86% 273/319 [02:40<00:27,  1.69it/s]\u001b[A\n",
      "Iteration:  86% 274/319 [02:41<00:26,  1.69it/s]\u001b[A\n",
      "Iteration:  86% 275/319 [02:42<00:26,  1.69it/s]\u001b[A\n",
      "Iteration:  87% 276/319 [02:42<00:25,  1.69it/s]\u001b[A\n",
      "Iteration:  87% 277/319 [02:43<00:24,  1.69it/s]\u001b[A\n",
      "Iteration:  87% 278/319 [02:43<00:24,  1.68it/s]\u001b[A\n",
      "Iteration:  87% 279/319 [02:44<00:23,  1.68it/s]\u001b[A\n",
      "Iteration:  88% 280/319 [02:45<00:23,  1.68it/s]\u001b[A\n",
      "Iteration:  88% 281/319 [02:45<00:22,  1.69it/s]\u001b[A\n",
      "Iteration:  88% 282/319 [02:46<00:21,  1.69it/s]\u001b[A\n",
      "Iteration:  89% 283/319 [02:46<00:21,  1.68it/s]\u001b[A\n",
      "Iteration:  89% 284/319 [02:47<00:20,  1.68it/s]\u001b[A\n",
      "Iteration:  89% 285/319 [02:48<00:20,  1.68it/s]\u001b[A\n",
      "Iteration:  90% 286/319 [02:48<00:19,  1.68it/s]\u001b[A\n",
      "Iteration:  90% 287/319 [02:49<00:18,  1.69it/s]\u001b[A\n",
      "Iteration:  90% 288/319 [02:49<00:18,  1.69it/s]\u001b[A\n",
      "Iteration:  91% 289/319 [02:50<00:17,  1.69it/s]\u001b[A\n",
      "Iteration:  91% 290/319 [02:50<00:17,  1.69it/s]\u001b[A\n",
      "Iteration:  91% 291/319 [02:51<00:16,  1.69it/s]\u001b[A\n",
      "Iteration:  92% 292/319 [02:52<00:15,  1.69it/s]\u001b[A\n",
      "Iteration:  92% 293/319 [02:52<00:15,  1.69it/s]\u001b[A\n",
      "Iteration:  92% 294/319 [02:53<00:14,  1.68it/s]\u001b[A\n",
      "Iteration:  92% 295/319 [02:53<00:14,  1.69it/s]\u001b[A\n",
      "Iteration:  93% 296/319 [02:54<00:13,  1.68it/s]\u001b[A\n",
      "Iteration:  93% 297/319 [02:55<00:13,  1.69it/s]\u001b[A\n",
      "Iteration:  93% 298/319 [02:55<00:12,  1.69it/s]\u001b[A\n",
      "Iteration:  94% 299/319 [02:56<00:11,  1.68it/s]\u001b[A\n",
      "Iteration:  94% 300/319 [02:56<00:11,  1.68it/s]\u001b[A\n",
      "Iteration:  94% 301/319 [02:57<00:10,  1.68it/s]\u001b[A\n",
      "Iteration:  95% 302/319 [02:58<00:10,  1.69it/s]\u001b[A\n",
      "Iteration:  95% 303/319 [02:58<00:09,  1.68it/s]\u001b[A\n",
      "Iteration:  95% 304/319 [02:59<00:08,  1.69it/s]\u001b[A\n",
      "Iteration:  96% 305/319 [02:59<00:08,  1.69it/s]\u001b[A\n",
      "Iteration:  96% 306/319 [03:00<00:07,  1.69it/s]\u001b[A\n",
      "Iteration:  96% 307/319 [03:01<00:07,  1.68it/s]\u001b[A\n",
      "Iteration:  97% 308/319 [03:01<00:06,  1.69it/s]\u001b[A\n",
      "Iteration:  97% 309/319 [03:02<00:05,  1.68it/s]\u001b[A\n",
      "Iteration:  97% 310/319 [03:02<00:05,  1.68it/s]\u001b[A\n",
      "Iteration:  97% 311/319 [03:03<00:04,  1.69it/s]\u001b[A\n",
      "Iteration:  98% 312/319 [03:04<00:04,  1.69it/s]\u001b[A\n",
      "Iteration:  98% 313/319 [03:04<00:03,  1.68it/s]\u001b[A\n",
      "Iteration:  98% 314/319 [03:05<00:02,  1.68it/s]\u001b[A\n",
      "Iteration:  99% 315/319 [03:05<00:02,  1.68it/s]\u001b[A\n",
      "Iteration:  99% 316/319 [03:06<00:01,  1.68it/s]\u001b[A\n",
      "Iteration:  99% 317/319 [03:07<00:01,  1.68it/s]\u001b[A\n",
      "Iteration: 100% 318/319 [03:07<00:00,  1.68it/s]\u001b[A\n",
      "Iteration: 100% 319/319 [03:08<00:00,  1.70it/s]\n",
      "Epoch:  50% 2/4 [06:10<06:11, 185.78s/it]\n",
      "Iteration:   0% 0/319 [00:00<?, ?it/s]\u001b[A\n",
      "Iteration:   0% 1/319 [00:00<03:07,  1.69it/s]\u001b[A\n",
      "Iteration:   1% 2/319 [00:01<03:08,  1.68it/s]\u001b[A\n",
      "Iteration:   1% 3/319 [00:01<03:08,  1.68it/s]\u001b[A\n",
      "Iteration:   1% 4/319 [00:02<03:07,  1.68it/s]\u001b[A\n",
      "Iteration:   2% 5/319 [00:02<03:06,  1.68it/s]\u001b[A\n",
      "Iteration:   2% 6/319 [00:03<03:05,  1.68it/s]\u001b[A\n",
      "Iteration:   2% 7/319 [00:04<03:05,  1.68it/s]\u001b[A\n",
      "Iteration:   3% 8/319 [00:04<03:04,  1.68it/s]\u001b[A\n",
      "Iteration:   3% 9/319 [00:05<03:04,  1.68it/s]\u001b[A\n",
      "Iteration:   3% 10/319 [00:05<03:03,  1.68it/s]\u001b[A\n",
      "Iteration:   3% 11/319 [00:06<03:03,  1.68it/s]\u001b[A\n",
      "Iteration:   4% 12/319 [00:07<03:02,  1.68it/s]\u001b[A\n",
      "Iteration:   4% 13/319 [00:07<03:01,  1.68it/s]\u001b[A\n",
      "Iteration:   4% 14/319 [00:08<03:01,  1.68it/s]\u001b[A\n",
      "Iteration:   5% 15/319 [00:08<03:00,  1.68it/s]\u001b[A\n",
      "Iteration:   5% 16/319 [00:09<02:59,  1.68it/s]\u001b[A\n",
      "Iteration:   5% 17/319 [00:10<02:59,  1.68it/s]\u001b[A\n",
      "Iteration:   6% 18/319 [00:10<02:59,  1.68it/s]\u001b[A\n",
      "Iteration:   6% 19/319 [00:11<02:58,  1.68it/s]\u001b[A\n",
      "Iteration:   6% 20/319 [00:11<02:57,  1.68it/s]\u001b[A\n",
      "Iteration:   7% 21/319 [00:12<02:57,  1.68it/s]\u001b[A\n",
      "Iteration:   7% 22/319 [00:13<02:56,  1.68it/s]\u001b[A\n",
      "Iteration:   7% 23/319 [00:13<02:56,  1.68it/s]\u001b[A\n",
      "Iteration:   8% 24/319 [00:14<02:55,  1.68it/s]\u001b[A\n",
      "Iteration:   8% 25/319 [00:14<02:54,  1.68it/s]\u001b[A\n",
      "Iteration:   8% 26/319 [00:15<02:54,  1.68it/s]\u001b[A\n",
      "Iteration:   8% 27/319 [00:16<02:53,  1.68it/s]\u001b[A\n",
      "Iteration:   9% 28/319 [00:16<02:52,  1.68it/s]\u001b[A\n",
      "Iteration:   9% 29/319 [00:17<02:52,  1.68it/s]\u001b[A\n",
      "Iteration:   9% 30/319 [00:17<02:51,  1.68it/s]\u001b[A\n",
      "Iteration:  10% 31/319 [00:18<02:50,  1.68it/s]\u001b[A\n",
      "Iteration:  10% 32/319 [00:19<02:50,  1.68it/s]\u001b[A\n",
      "Iteration:  10% 33/319 [00:19<02:50,  1.68it/s]\u001b[A\n",
      "Iteration:  11% 34/319 [00:20<02:49,  1.68it/s]\u001b[A\n",
      "Iteration:  11% 35/319 [00:20<02:48,  1.68it/s]\u001b[A\n",
      "Iteration:  11% 36/319 [00:21<02:48,  1.68it/s]\u001b[A\n",
      "Iteration:  12% 37/319 [00:22<02:47,  1.68it/s]\u001b[A\n",
      "Iteration:  12% 38/319 [00:22<02:47,  1.68it/s]\u001b[A\n",
      "Iteration:  12% 39/319 [00:23<02:46,  1.68it/s]\u001b[A\n",
      "Iteration:  13% 40/319 [00:23<02:45,  1.68it/s]\u001b[A\n",
      "Iteration:  13% 41/319 [00:24<02:45,  1.68it/s]\u001b[A\n",
      "Iteration:  13% 42/319 [00:24<02:44,  1.68it/s]\u001b[A\n",
      "Iteration:  13% 43/319 [00:25<02:43,  1.68it/s]\u001b[A\n",
      "Iteration:  14% 44/319 [00:26<02:43,  1.68it/s]\u001b[A\n",
      "Iteration:  14% 45/319 [00:26<02:42,  1.68it/s]\u001b[A\n",
      "Iteration:  14% 46/319 [00:27<02:42,  1.68it/s]\u001b[A\n",
      "Iteration:  15% 47/319 [00:27<02:41,  1.68it/s]\u001b[A\n",
      "Iteration:  15% 48/319 [00:28<02:41,  1.68it/s]\u001b[A\n",
      "Iteration:  15% 49/319 [00:29<02:40,  1.68it/s]\u001b[A\n",
      "Iteration:  16% 50/319 [00:29<02:39,  1.68it/s]\u001b[A\n",
      "Iteration:  16% 51/319 [00:30<02:39,  1.68it/s]\u001b[A\n",
      "Iteration:  16% 52/319 [00:30<02:38,  1.68it/s]\u001b[A\n",
      "Iteration:  17% 53/319 [00:31<02:38,  1.68it/s]\u001b[A\n",
      "Iteration:  17% 54/319 [00:32<02:37,  1.68it/s]\u001b[A\n",
      "Iteration:  17% 55/319 [00:32<02:37,  1.68it/s]\u001b[A\n",
      "Iteration:  18% 56/319 [00:33<02:36,  1.68it/s]\u001b[A\n",
      "Iteration:  18% 57/319 [00:33<02:36,  1.68it/s]\u001b[A\n",
      "Iteration:  18% 58/319 [00:34<02:35,  1.68it/s]\u001b[A\n",
      "Iteration:  18% 59/319 [00:35<02:34,  1.68it/s]\u001b[A\n",
      "Iteration:  19% 60/319 [00:35<02:33,  1.68it/s]\u001b[A\n",
      "Iteration:  19% 61/319 [00:36<02:33,  1.68it/s]\u001b[A\n",
      "Iteration:  19% 62/319 [00:36<02:32,  1.68it/s]\u001b[A\n",
      "Iteration:  20% 63/319 [00:37<02:32,  1.68it/s]\u001b[A\n",
      "Iteration:  20% 64/319 [00:38<02:31,  1.68it/s]\u001b[A\n",
      "Iteration:  20% 65/319 [00:38<02:31,  1.68it/s]\u001b[A\n",
      "Iteration:  21% 66/319 [00:39<02:30,  1.68it/s]\u001b[A\n",
      "Iteration:  21% 67/319 [00:39<02:29,  1.68it/s]\u001b[A\n",
      "Iteration:  21% 68/319 [00:40<02:29,  1.68it/s]\u001b[A\n",
      "Iteration:  22% 69/319 [00:41<02:28,  1.68it/s]\u001b[A\n",
      "Iteration:  22% 70/319 [00:41<02:28,  1.68it/s]\u001b[A\n",
      "Iteration:  22% 71/319 [00:42<02:27,  1.68it/s]\u001b[A\n",
      "Iteration:  23% 72/319 [00:42<02:26,  1.68it/s]\u001b[A\n",
      "Iteration:  23% 73/319 [00:43<02:26,  1.68it/s]\u001b[A\n",
      "Iteration:  23% 74/319 [00:43<02:25,  1.68it/s]\u001b[A\n",
      "Iteration:  24% 75/319 [00:44<02:25,  1.68it/s]\u001b[A\n",
      "Iteration:  24% 76/319 [00:45<02:24,  1.68it/s]\u001b[A\n",
      "Iteration:  24% 77/319 [00:45<02:24,  1.68it/s]\u001b[A\n",
      "Iteration:  24% 78/319 [00:46<02:23,  1.68it/s]\u001b[A\n",
      "Iteration:  25% 79/319 [00:46<02:22,  1.68it/s]\u001b[A\n",
      "Iteration:  25% 80/319 [00:47<02:22,  1.68it/s]\u001b[A\n",
      "Iteration:  25% 81/319 [00:48<02:21,  1.68it/s]\u001b[A\n",
      "Iteration:  26% 82/319 [00:48<02:21,  1.68it/s]\u001b[A\n",
      "Iteration:  26% 83/319 [00:49<02:20,  1.68it/s]\u001b[A\n",
      "Iteration:  26% 84/319 [00:49<02:19,  1.68it/s]\u001b[A\n",
      "Iteration:  27% 85/319 [00:50<02:18,  1.68it/s]\u001b[A\n",
      "Iteration:  27% 86/319 [00:51<02:18,  1.68it/s]\u001b[A\n",
      "Iteration:  27% 87/319 [00:51<02:17,  1.68it/s]\u001b[A\n",
      "Iteration:  28% 88/319 [00:52<02:17,  1.68it/s]\u001b[A\n",
      "Iteration:  28% 89/319 [00:52<02:16,  1.68it/s]\u001b[A\n",
      "Iteration:  28% 90/319 [00:53<02:16,  1.68it/s]\u001b[A\n",
      "Iteration:  29% 91/319 [00:54<02:15,  1.68it/s]\u001b[A\n",
      "Iteration:  29% 92/319 [00:54<02:15,  1.68it/s]\u001b[A\n",
      "Iteration:  29% 93/319 [00:55<02:14,  1.68it/s]\u001b[A\n",
      "Iteration:  29% 94/319 [00:55<02:13,  1.68it/s]\u001b[A\n",
      "Iteration:  30% 95/319 [00:56<02:13,  1.68it/s]\u001b[A\n",
      "Iteration:  30% 96/319 [00:57<02:12,  1.68it/s]\u001b[A\n",
      "Iteration:  30% 97/319 [00:57<02:11,  1.68it/s]\u001b[A\n",
      "Iteration:  31% 98/319 [00:58<02:11,  1.68it/s]\u001b[A\n",
      "Iteration:  31% 99/319 [00:58<02:10,  1.68it/s]\u001b[A\n",
      "Iteration:  31% 100/319 [00:59<02:10,  1.68it/s]\u001b[A\n",
      "Iteration:  32% 101/319 [01:00<02:09,  1.68it/s]\u001b[A\n",
      "Iteration:  32% 102/319 [01:00<02:09,  1.68it/s]\u001b[A\n",
      "Iteration:  32% 103/319 [01:01<02:08,  1.68it/s]\u001b[A\n",
      "Iteration:  33% 104/319 [01:01<02:08,  1.68it/s]\u001b[A\n",
      "Iteration:  33% 105/319 [01:02<02:07,  1.68it/s]\u001b[A\n",
      "Iteration:  33% 106/319 [01:03<02:06,  1.68it/s]\u001b[A\n",
      "Iteration:  34% 107/319 [01:03<02:06,  1.68it/s]\u001b[A\n",
      "Iteration:  34% 108/319 [01:04<02:05,  1.67it/s]\u001b[A\n",
      "Iteration:  34% 109/319 [01:04<02:05,  1.68it/s]\u001b[A\n",
      "Iteration:  34% 110/319 [01:05<02:04,  1.68it/s]\u001b[A\n",
      "Iteration:  35% 111/319 [01:06<02:03,  1.68it/s]\u001b[A\n",
      "Iteration:  35% 112/319 [01:06<02:03,  1.68it/s]\u001b[A\n",
      "Iteration:  35% 113/319 [01:07<02:02,  1.68it/s]\u001b[A\n",
      "Iteration:  36% 114/319 [01:07<02:01,  1.68it/s]\u001b[A\n",
      "Iteration:  36% 115/319 [01:08<02:01,  1.68it/s]\u001b[A\n",
      "Iteration:  36% 116/319 [01:08<02:00,  1.68it/s]\u001b[A\n",
      "Iteration:  37% 117/319 [01:09<02:00,  1.68it/s]\u001b[A\n",
      "Iteration:  37% 118/319 [01:10<01:59,  1.68it/s]\u001b[A\n",
      "Iteration:  37% 119/319 [01:10<01:58,  1.68it/s]\u001b[A\n",
      "Iteration:  38% 120/319 [01:11<01:58,  1.68it/s]\u001b[A\n",
      "Iteration:  38% 121/319 [01:11<01:57,  1.68it/s]\u001b[A\n",
      "Iteration:  38% 122/319 [01:12<01:57,  1.68it/s]\u001b[A\n",
      "Iteration:  39% 123/319 [01:13<01:56,  1.68it/s]\u001b[A\n",
      "Iteration:  39% 124/319 [01:13<01:56,  1.68it/s]\u001b[A\n",
      "Iteration:  39% 125/319 [01:14<01:55,  1.68it/s]\u001b[A\n",
      "Iteration:  39% 126/319 [01:14<01:54,  1.68it/s]\u001b[A\n",
      "Iteration:  40% 127/319 [01:15<01:54,  1.68it/s]\u001b[A\n",
      "Iteration:  40% 128/319 [01:16<01:53,  1.68it/s]\u001b[A\n",
      "Iteration:  40% 129/319 [01:16<01:52,  1.68it/s]\u001b[A\n",
      "Iteration:  41% 130/319 [01:17<01:52,  1.68it/s]\u001b[A\n",
      "Iteration:  41% 131/319 [01:17<01:51,  1.68it/s]\u001b[A\n",
      "Iteration:  41% 132/319 [01:18<01:51,  1.68it/s]\u001b[A\n",
      "Iteration:  42% 133/319 [01:19<01:50,  1.68it/s]\u001b[A\n",
      "Iteration:  42% 134/319 [01:19<01:49,  1.68it/s]\u001b[A\n",
      "Iteration:  42% 135/319 [01:20<01:49,  1.68it/s]\u001b[A\n",
      "Iteration:  43% 136/319 [01:20<01:48,  1.68it/s]\u001b[A\n",
      "Iteration:  43% 137/319 [01:21<01:48,  1.68it/s]\u001b[A\n",
      "Iteration:  43% 138/319 [01:22<01:47,  1.68it/s]\u001b[A\n",
      "Iteration:  44% 139/319 [01:22<01:47,  1.68it/s]\u001b[A\n",
      "Iteration:  44% 140/319 [01:23<01:46,  1.68it/s]\u001b[A\n",
      "Iteration:  44% 141/319 [01:23<01:45,  1.68it/s]\u001b[A\n",
      "Iteration:  45% 142/319 [01:24<01:45,  1.68it/s]\u001b[A\n",
      "Iteration:  45% 143/319 [01:25<01:44,  1.68it/s]\u001b[A\n",
      "Iteration:  45% 144/319 [01:25<01:44,  1.68it/s]\u001b[A\n",
      "Iteration:  45% 145/319 [01:26<01:43,  1.68it/s]\u001b[A\n",
      "Iteration:  46% 146/319 [01:26<01:42,  1.68it/s]\u001b[A\n",
      "Iteration:  46% 147/319 [01:27<01:42,  1.68it/s]\u001b[A\n",
      "Iteration:  46% 148/319 [01:28<01:41,  1.68it/s]\u001b[A\n",
      "Iteration:  47% 149/319 [01:28<01:41,  1.68it/s]\u001b[A\n",
      "Iteration:  47% 150/319 [01:29<01:40,  1.68it/s]\u001b[A\n",
      "Iteration:  47% 151/319 [01:29<01:39,  1.68it/s]\u001b[A\n",
      "Iteration:  48% 152/319 [01:30<01:39,  1.68it/s]\u001b[A\n",
      "Iteration:  48% 153/319 [01:30<01:38,  1.68it/s]\u001b[A\n",
      "Iteration:  48% 154/319 [01:31<01:38,  1.68it/s]\u001b[A\n",
      "Iteration:  49% 155/319 [01:32<01:37,  1.68it/s]\u001b[A\n",
      "Iteration:  49% 156/319 [01:32<01:37,  1.68it/s]\u001b[A\n",
      "Iteration:  49% 157/319 [01:33<01:36,  1.68it/s]\u001b[A\n",
      "Iteration:  50% 158/319 [01:33<01:36,  1.68it/s]\u001b[A\n",
      "Iteration:  50% 159/319 [01:34<01:35,  1.68it/s]\u001b[A\n",
      "Iteration:  50% 160/319 [01:35<01:34,  1.68it/s]\u001b[A\n",
      "Iteration:  50% 161/319 [01:35<01:33,  1.68it/s]\u001b[A\n",
      "Iteration:  51% 162/319 [01:36<01:33,  1.68it/s]\u001b[A\n",
      "Iteration:  51% 163/319 [01:36<01:32,  1.68it/s]\u001b[A\n",
      "Iteration:  51% 164/319 [01:37<01:32,  1.68it/s]\u001b[A\n",
      "Iteration:  52% 165/319 [01:38<01:31,  1.68it/s]\u001b[A\n",
      "Iteration:  52% 166/319 [01:38<01:31,  1.68it/s]\u001b[A\n",
      "Iteration:  52% 167/319 [01:39<01:30,  1.68it/s]\u001b[A\n",
      "Iteration:  53% 168/319 [01:39<01:29,  1.68it/s]\u001b[A\n",
      "Iteration:  53% 169/319 [01:40<01:29,  1.68it/s]\u001b[A\n",
      "Iteration:  53% 170/319 [01:41<01:28,  1.68it/s]\u001b[A\n",
      "Iteration:  54% 171/319 [01:41<01:27,  1.68it/s]\u001b[A\n",
      "Iteration:  54% 172/319 [01:42<01:27,  1.68it/s]\u001b[A\n",
      "Iteration:  54% 173/319 [01:42<01:26,  1.68it/s]\u001b[A\n",
      "Iteration:  55% 174/319 [01:43<01:26,  1.68it/s]\u001b[A\n",
      "Iteration:  55% 175/319 [01:44<01:25,  1.68it/s]\u001b[A\n",
      "Iteration:  55% 176/319 [01:44<01:24,  1.68it/s]\u001b[A\n",
      "Iteration:  55% 177/319 [01:45<01:24,  1.68it/s]\u001b[A\n",
      "Iteration:  56% 178/319 [01:45<01:23,  1.68it/s]\u001b[A\n",
      "Iteration:  56% 179/319 [01:46<01:23,  1.68it/s]\u001b[A\n",
      "Iteration:  56% 180/319 [01:47<01:22,  1.68it/s]\u001b[A\n",
      "Iteration:  57% 181/319 [01:47<01:22,  1.68it/s]\u001b[A\n",
      "Iteration:  57% 182/319 [01:48<01:21,  1.68it/s]\u001b[A\n",
      "Iteration:  57% 183/319 [01:48<01:20,  1.68it/s]\u001b[A\n",
      "Iteration:  58% 184/319 [01:49<01:20,  1.68it/s]\u001b[A\n",
      "Iteration:  58% 185/319 [01:50<01:19,  1.68it/s]\u001b[A\n",
      "Iteration:  58% 186/319 [01:50<01:19,  1.68it/s]\u001b[A\n",
      "Iteration:  59% 187/319 [01:51<01:18,  1.68it/s]\u001b[A\n",
      "Iteration:  59% 188/319 [01:51<01:18,  1.68it/s]\u001b[A\n",
      "Iteration:  59% 189/319 [01:52<01:17,  1.68it/s]\u001b[A\n",
      "Iteration:  60% 190/319 [01:53<01:16,  1.68it/s]\u001b[A\n",
      "Iteration:  60% 191/319 [01:53<01:16,  1.68it/s]\u001b[A\n",
      "Iteration:  60% 192/319 [01:54<01:15,  1.68it/s]\u001b[A\n",
      "Iteration:  61% 193/319 [01:54<01:14,  1.68it/s]\u001b[A\n",
      "Iteration:  61% 194/319 [01:55<01:14,  1.68it/s]\u001b[A\n",
      "Iteration:  61% 195/319 [01:55<01:13,  1.68it/s]\u001b[A\n",
      "Iteration:  61% 196/319 [01:56<01:13,  1.68it/s]\u001b[A\n",
      "Iteration:  62% 197/319 [01:57<01:12,  1.68it/s]\u001b[A\n",
      "Iteration:  62% 198/319 [01:57<01:12,  1.68it/s]\u001b[A\n",
      "Iteration:  62% 199/319 [01:58<01:11,  1.68it/s]\u001b[A\n",
      "Iteration:  63% 200/319 [01:58<01:10,  1.68it/s]\u001b[A\n",
      "Iteration:  63% 201/319 [01:59<01:10,  1.68it/s]\u001b[A\n",
      "Iteration:  63% 202/319 [02:00<01:09,  1.68it/s]\u001b[A\n",
      "Iteration:  64% 203/319 [02:00<01:09,  1.68it/s]\u001b[A\n",
      "Iteration:  64% 204/319 [02:01<01:08,  1.68it/s]\u001b[A\n",
      "Iteration:  64% 205/319 [02:01<01:07,  1.68it/s]\u001b[A\n",
      "Iteration:  65% 206/319 [02:02<01:07,  1.68it/s]\u001b[A\n",
      "Iteration:  65% 207/319 [02:03<01:06,  1.68it/s]\u001b[A\n",
      "Iteration:  65% 208/319 [02:03<01:06,  1.68it/s]\u001b[A\n",
      "Iteration:  66% 209/319 [02:04<01:05,  1.68it/s]\u001b[A\n",
      "Iteration:  66% 210/319 [02:04<01:04,  1.68it/s]\u001b[A\n",
      "Iteration:  66% 211/319 [02:05<01:04,  1.68it/s]\u001b[A\n",
      "Iteration:  66% 212/319 [02:06<01:03,  1.68it/s]\u001b[A\n",
      "Iteration:  67% 213/319 [02:06<01:03,  1.68it/s]\u001b[A\n",
      "Iteration:  67% 214/319 [02:07<01:02,  1.68it/s]\u001b[A\n",
      "Iteration:  67% 215/319 [02:07<01:01,  1.68it/s]\u001b[A\n",
      "Iteration:  68% 216/319 [02:08<01:01,  1.68it/s]\u001b[A\n",
      "Iteration:  68% 217/319 [02:09<01:00,  1.68it/s]\u001b[A\n",
      "Iteration:  68% 218/319 [02:09<01:00,  1.68it/s]\u001b[A\n",
      "Iteration:  69% 219/319 [02:10<00:59,  1.68it/s]\u001b[A\n",
      "Iteration:  69% 220/319 [02:10<00:59,  1.68it/s]\u001b[A\n",
      "Iteration:  69% 221/319 [02:11<00:58,  1.68it/s]\u001b[A\n",
      "Iteration:  70% 222/319 [02:12<00:57,  1.68it/s]\u001b[A\n",
      "Iteration:  70% 223/319 [02:12<00:57,  1.68it/s]\u001b[A\n",
      "Iteration:  70% 224/319 [02:13<00:56,  1.68it/s]\u001b[A\n",
      "Iteration:  71% 225/319 [02:13<00:55,  1.68it/s]\u001b[A\n",
      "Iteration:  71% 226/319 [02:14<00:55,  1.68it/s]\u001b[A\n",
      "Iteration:  71% 227/319 [02:15<00:54,  1.68it/s]\u001b[A\n",
      "Iteration:  71% 228/319 [02:15<00:54,  1.68it/s]\u001b[A\n",
      "Iteration:  72% 229/319 [02:16<00:53,  1.68it/s]\u001b[A\n",
      "Iteration:  72% 230/319 [02:16<00:52,  1.68it/s]\u001b[A\n",
      "Iteration:  72% 231/319 [02:17<00:52,  1.68it/s]\u001b[A\n",
      "Iteration:  73% 232/319 [02:18<00:51,  1.68it/s]\u001b[A\n",
      "Iteration:  73% 233/319 [02:18<00:51,  1.68it/s]\u001b[A\n",
      "Iteration:  73% 234/319 [02:19<00:50,  1.68it/s]\u001b[A\n",
      "Iteration:  74% 235/319 [02:19<00:49,  1.68it/s]\u001b[A\n",
      "Iteration:  74% 236/319 [02:20<00:49,  1.68it/s]\u001b[A\n",
      "Iteration:  74% 237/319 [02:20<00:48,  1.68it/s]\u001b[A\n",
      "Iteration:  75% 238/319 [02:21<00:48,  1.68it/s]\u001b[A\n",
      "Iteration:  75% 239/319 [02:22<00:47,  1.68it/s]\u001b[A\n",
      "Iteration:  75% 240/319 [02:22<00:47,  1.68it/s]\u001b[A\n",
      "Iteration:  76% 241/319 [02:23<00:46,  1.68it/s]\u001b[A\n",
      "Iteration:  76% 242/319 [02:23<00:45,  1.68it/s]\u001b[A\n",
      "Iteration:  76% 243/319 [02:24<00:45,  1.68it/s]\u001b[A\n",
      "Iteration:  76% 244/319 [02:25<00:44,  1.68it/s]\u001b[A\n",
      "Iteration:  77% 245/319 [02:25<00:44,  1.68it/s]\u001b[A\n",
      "Iteration:  77% 246/319 [02:26<00:43,  1.68it/s]\u001b[A\n",
      "Iteration:  77% 247/319 [02:26<00:42,  1.68it/s]\u001b[A\n",
      "Iteration:  78% 248/319 [02:27<00:42,  1.68it/s]\u001b[A\n",
      "Iteration:  78% 249/319 [02:28<00:41,  1.68it/s]\u001b[A\n",
      "Iteration:  78% 250/319 [02:28<00:41,  1.68it/s]\u001b[A\n",
      "Iteration:  79% 251/319 [02:29<00:40,  1.68it/s]\u001b[A\n",
      "Iteration:  79% 252/319 [02:29<00:39,  1.68it/s]\u001b[A\n",
      "Iteration:  79% 253/319 [02:30<00:39,  1.68it/s]\u001b[A\n",
      "Iteration:  80% 254/319 [02:31<00:38,  1.68it/s]\u001b[A\n",
      "Iteration:  80% 255/319 [02:31<00:38,  1.68it/s]\u001b[A\n",
      "Iteration:  80% 256/319 [02:32<00:37,  1.68it/s]\u001b[A\n",
      "Iteration:  81% 257/319 [02:32<00:36,  1.68it/s]\u001b[A\n",
      "Iteration:  81% 258/319 [02:33<00:36,  1.68it/s]\u001b[A\n",
      "Iteration:  81% 259/319 [02:34<00:35,  1.68it/s]\u001b[A\n",
      "Iteration:  82% 260/319 [02:34<00:35,  1.68it/s]\u001b[A\n",
      "Iteration:  82% 261/319 [02:35<00:34,  1.68it/s]\u001b[A\n",
      "Iteration:  82% 262/319 [02:35<00:33,  1.68it/s]\u001b[A\n",
      "Iteration:  82% 263/319 [02:36<00:33,  1.68it/s]\u001b[A\n",
      "Iteration:  83% 264/319 [02:37<00:32,  1.67it/s]\u001b[A\n",
      "Iteration:  83% 265/319 [02:37<00:32,  1.68it/s]\u001b[A\n",
      "Iteration:  83% 266/319 [02:38<00:31,  1.68it/s]\u001b[A\n",
      "Iteration:  84% 267/319 [02:38<00:30,  1.68it/s]\u001b[A\n",
      "Iteration:  84% 268/319 [02:39<00:30,  1.68it/s]\u001b[A\n",
      "Iteration:  84% 269/319 [02:40<00:29,  1.68it/s]\u001b[A\n",
      "Iteration:  85% 270/319 [02:40<00:29,  1.68it/s]\u001b[A\n",
      "Iteration:  85% 271/319 [02:41<00:28,  1.68it/s]\u001b[A\n",
      "Iteration:  85% 272/319 [02:41<00:27,  1.68it/s]\u001b[A\n",
      "Iteration:  86% 273/319 [02:42<00:27,  1.68it/s]\u001b[A\n",
      "Iteration:  86% 274/319 [02:43<00:26,  1.68it/s]\u001b[A\n",
      "Iteration:  86% 275/319 [02:43<00:26,  1.68it/s]\u001b[A\n",
      "Iteration:  87% 276/319 [02:44<00:25,  1.68it/s]\u001b[A\n",
      "Iteration:  87% 277/319 [02:44<00:25,  1.68it/s]\u001b[A\n",
      "Iteration:  87% 278/319 [02:45<00:24,  1.68it/s]\u001b[A\n",
      "Iteration:  87% 279/319 [02:46<00:23,  1.68it/s]\u001b[A\n",
      "Iteration:  88% 280/319 [02:46<00:23,  1.68it/s]\u001b[A\n",
      "Iteration:  88% 281/319 [02:47<00:22,  1.68it/s]\u001b[A\n",
      "Iteration:  88% 282/319 [02:47<00:22,  1.68it/s]\u001b[A\n",
      "Iteration:  89% 283/319 [02:48<00:21,  1.68it/s]\u001b[A\n",
      "Iteration:  89% 284/319 [02:48<00:20,  1.68it/s]\u001b[A\n",
      "Iteration:  89% 285/319 [02:49<00:20,  1.68it/s]\u001b[A\n",
      "Iteration:  90% 286/319 [02:50<00:19,  1.68it/s]\u001b[A\n",
      "Iteration:  90% 287/319 [02:50<00:19,  1.68it/s]\u001b[A\n",
      "Iteration:  90% 288/319 [02:51<00:18,  1.68it/s]\u001b[A\n",
      "Iteration:  91% 289/319 [02:51<00:17,  1.68it/s]\u001b[A\n",
      "Iteration:  91% 290/319 [02:52<00:17,  1.68it/s]\u001b[A\n",
      "Iteration:  91% 291/319 [02:53<00:16,  1.68it/s]\u001b[A\n",
      "Iteration:  92% 292/319 [02:53<00:16,  1.68it/s]\u001b[A\n",
      "Iteration:  92% 293/319 [02:54<00:15,  1.68it/s]\u001b[A\n",
      "Iteration:  92% 294/319 [02:54<00:14,  1.68it/s]\u001b[A\n",
      "Iteration:  92% 295/319 [02:55<00:14,  1.68it/s]\u001b[A\n",
      "Iteration:  93% 296/319 [02:56<00:13,  1.68it/s]\u001b[A\n",
      "Iteration:  93% 297/319 [02:56<00:13,  1.68it/s]\u001b[A\n",
      "Iteration:  93% 298/319 [02:57<00:12,  1.68it/s]\u001b[A\n",
      "Iteration:  94% 299/319 [02:57<00:11,  1.68it/s]\u001b[A\n",
      "Iteration:  94% 300/319 [02:58<00:11,  1.68it/s]\u001b[A\n",
      "Iteration:  94% 301/319 [02:59<00:10,  1.68it/s]\u001b[A\n",
      "Iteration:  95% 302/319 [02:59<00:10,  1.68it/s]\u001b[A\n",
      "Iteration:  95% 303/319 [03:00<00:09,  1.68it/s]\u001b[A\n",
      "Iteration:  95% 304/319 [03:00<00:08,  1.68it/s]\u001b[A\n",
      "Iteration:  96% 305/319 [03:01<00:08,  1.68it/s]\u001b[A\n",
      "Iteration:  96% 306/319 [03:02<00:07,  1.68it/s]\u001b[A\n",
      "Iteration:  96% 307/319 [03:02<00:07,  1.68it/s]\u001b[A\n",
      "Iteration:  97% 308/319 [03:03<00:06,  1.68it/s]\u001b[A\n",
      "Iteration:  97% 309/319 [03:03<00:05,  1.68it/s]\u001b[A\n",
      "Iteration:  97% 310/319 [03:04<00:05,  1.68it/s]\u001b[A\n",
      "Iteration:  97% 311/319 [03:05<00:04,  1.68it/s]\u001b[A\n",
      "Iteration:  98% 312/319 [03:05<00:04,  1.68it/s]\u001b[A\n",
      "Iteration:  98% 313/319 [03:06<00:03,  1.68it/s]\u001b[A\n",
      "Iteration:  98% 314/319 [03:06<00:02,  1.68it/s]\u001b[A\n",
      "Iteration:  99% 315/319 [03:07<00:02,  1.68it/s]\u001b[A\n",
      "Iteration:  99% 316/319 [03:08<00:01,  1.68it/s]\u001b[A\n",
      "Iteration:  99% 317/319 [03:08<00:01,  1.68it/s]\u001b[A\n",
      "Iteration: 100% 318/319 [03:09<00:00,  1.68it/s]\u001b[A\n",
      "Iteration: 100% 319/319 [03:09<00:00,  1.68it/s]\n",
      "Epoch:  75% 3/4 [09:20<03:07, 187.54s/it]\n",
      "Iteration:   0% 0/319 [00:00<?, ?it/s]\u001b[A\n",
      "Iteration:   0% 1/319 [00:00<03:08,  1.69it/s]\u001b[A\n",
      "Iteration:   1% 2/319 [00:01<03:08,  1.69it/s]\u001b[A\n",
      "Iteration:   1% 3/319 [00:01<03:07,  1.69it/s]\u001b[A\n",
      "Iteration:   1% 4/319 [00:02<03:06,  1.68it/s]\u001b[A\n",
      "Iteration:   2% 5/319 [00:02<03:06,  1.68it/s]\u001b[A\n",
      "Iteration:   2% 6/319 [00:03<03:06,  1.68it/s]\u001b[A\n",
      "Iteration:   2% 7/319 [00:04<03:05,  1.68it/s]\u001b[A\n",
      "Iteration:   3% 8/319 [00:04<03:05,  1.68it/s]\u001b[A\n",
      "Iteration:   3% 9/319 [00:05<03:04,  1.68it/s]\u001b[A\n",
      "Iteration:   3% 10/319 [00:05<03:03,  1.68it/s]\u001b[A\n",
      "Iteration:   3% 11/319 [00:06<03:03,  1.68it/s]\u001b[A\n",
      "Iteration:   4% 12/319 [00:07<03:03,  1.68it/s]\u001b[A\n",
      "Iteration:   4% 13/319 [00:07<03:02,  1.68it/s]\u001b[A\n",
      "Iteration:   4% 14/319 [00:08<03:01,  1.68it/s]\u001b[A\n",
      "Iteration:   5% 15/319 [00:08<03:01,  1.68it/s]\u001b[A\n",
      "Iteration:   5% 16/319 [00:09<03:00,  1.68it/s]\u001b[A\n",
      "Iteration:   5% 17/319 [00:10<02:59,  1.68it/s]\u001b[A\n",
      "Iteration:   6% 18/319 [00:10<02:58,  1.68it/s]\u001b[A\n",
      "Iteration:   6% 19/319 [00:11<02:58,  1.68it/s]\u001b[A\n",
      "Iteration:   6% 20/319 [00:11<02:58,  1.68it/s]\u001b[A\n",
      "Iteration:   7% 21/319 [00:12<02:57,  1.68it/s]\u001b[A\n",
      "Iteration:   7% 22/319 [00:13<02:56,  1.68it/s]\u001b[A\n",
      "Iteration:   7% 23/319 [00:13<02:55,  1.68it/s]\u001b[A\n",
      "Iteration:   8% 24/319 [00:14<02:55,  1.68it/s]\u001b[A\n",
      "Iteration:   8% 25/319 [00:14<02:54,  1.68it/s]\u001b[A\n",
      "Iteration:   8% 26/319 [00:15<02:54,  1.68it/s]\u001b[A\n",
      "Iteration:   8% 27/319 [00:16<02:53,  1.68it/s]\u001b[A\n",
      "Iteration:   9% 28/319 [00:16<02:53,  1.68it/s]\u001b[A\n",
      "Iteration:   9% 29/319 [00:17<02:52,  1.68it/s]\u001b[A\n",
      "Iteration:   9% 30/319 [00:17<02:52,  1.68it/s]\u001b[A\n",
      "Iteration:  10% 31/319 [00:18<02:51,  1.68it/s]\u001b[A\n",
      "Iteration:  10% 32/319 [00:19<02:50,  1.68it/s]\u001b[A\n",
      "Iteration:  10% 33/319 [00:19<02:50,  1.68it/s]\u001b[A\n",
      "Iteration:  11% 34/319 [00:20<02:49,  1.68it/s]\u001b[A\n",
      "Iteration:  11% 35/319 [00:20<02:49,  1.68it/s]\u001b[A\n",
      "Iteration:  11% 36/319 [00:21<02:48,  1.68it/s]\u001b[A\n",
      "Iteration:  12% 37/319 [00:22<02:47,  1.68it/s]\u001b[A\n",
      "Iteration:  12% 38/319 [00:22<02:47,  1.68it/s]\u001b[A\n",
      "Iteration:  12% 39/319 [00:23<02:46,  1.68it/s]\u001b[A\n",
      "Iteration:  13% 40/319 [00:23<02:46,  1.68it/s]\u001b[A\n",
      "Iteration:  13% 41/319 [00:24<02:45,  1.68it/s]\u001b[A\n",
      "Iteration:  13% 42/319 [00:24<02:44,  1.68it/s]\u001b[A/usr/local/lib/python3.10/dist-packages/torch/optim/lr_scheduler.py:271: UserWarning: To get the last learning rate computed by the scheduler, please use `get_last_lr()`.\n",
      "  warnings.warn(\"To get the last learning rate computed by the scheduler, \"\n",
      "03/15/2024 01:39:17 - INFO - __main__ -   Saving model checkpoint to /content/drive/MyDrive/NER-BERT/model/pst-pdr-bc5cdr/biomed/checkpoint-1000\n",
      "03/15/2024 01:39:21 - INFO - __main__ -   Saving optimizer and scheduler states to /content/drive/MyDrive/NER-BERT/model/pst-pdr-bc5cdr/biomed/checkpoint-1000\n",
      "\n",
      "Iteration:  13% 43/319 [00:35<16:21,  3.56s/it]\u001b[A\n",
      "Iteration:  14% 44/319 [00:36<12:17,  2.68s/it]\u001b[A\n",
      "Iteration:  14% 45/319 [00:36<09:22,  2.05s/it]\u001b[A\n",
      "Iteration:  14% 46/319 [00:37<07:20,  1.61s/it]\u001b[A\n",
      "Iteration:  15% 47/319 [00:37<05:54,  1.31s/it]\u001b[A\n",
      "Iteration:  15% 48/319 [00:38<04:55,  1.09s/it]\u001b[A\n",
      "Iteration:  15% 49/319 [00:39<04:13,  1.06it/s]\u001b[A\n",
      "Iteration:  16% 50/319 [00:39<03:44,  1.20it/s]\u001b[A\n",
      "Iteration:  16% 51/319 [00:40<03:23,  1.31it/s]\u001b[A\n",
      "Iteration:  16% 52/319 [00:40<03:09,  1.41it/s]\u001b[A\n",
      "Iteration:  17% 53/319 [00:41<02:58,  1.49it/s]\u001b[A\n",
      "Iteration:  17% 54/319 [00:41<02:51,  1.55it/s]\u001b[A\n",
      "Iteration:  17% 55/319 [00:42<02:46,  1.59it/s]\u001b[A\n",
      "Iteration:  18% 56/319 [00:43<02:42,  1.62it/s]\u001b[A\n",
      "Iteration:  18% 57/319 [00:43<02:39,  1.64it/s]\u001b[A\n",
      "Iteration:  18% 58/319 [00:44<02:37,  1.66it/s]\u001b[A\n",
      "Iteration:  18% 59/319 [00:44<02:35,  1.67it/s]\u001b[A\n",
      "Iteration:  19% 60/319 [00:45<02:34,  1.68it/s]\u001b[A\n",
      "Iteration:  19% 61/319 [00:46<02:34,  1.67it/s]\u001b[A\n",
      "Iteration:  19% 62/319 [00:46<02:33,  1.67it/s]\u001b[A\n",
      "Iteration:  20% 63/319 [00:47<02:33,  1.67it/s]\u001b[A\n",
      "Iteration:  20% 64/319 [00:47<02:32,  1.67it/s]\u001b[A\n",
      "Iteration:  20% 65/319 [00:48<02:32,  1.66it/s]\u001b[A\n",
      "Iteration:  21% 66/319 [00:49<02:31,  1.67it/s]\u001b[A\n",
      "Iteration:  21% 67/319 [00:49<02:30,  1.68it/s]\u001b[A\n",
      "Iteration:  21% 68/319 [00:50<02:28,  1.69it/s]\u001b[A\n",
      "Iteration:  22% 69/319 [00:50<02:27,  1.69it/s]\u001b[A\n",
      "Iteration:  22% 70/319 [00:51<02:27,  1.69it/s]\u001b[A\n",
      "Iteration:  22% 71/319 [00:52<02:26,  1.69it/s]\u001b[A\n",
      "Iteration:  23% 72/319 [00:52<02:26,  1.69it/s]\u001b[A\n",
      "Iteration:  23% 73/319 [00:53<02:25,  1.69it/s]\u001b[A\n",
      "Iteration:  23% 74/319 [00:53<02:24,  1.69it/s]\u001b[A\n",
      "Iteration:  24% 75/319 [00:54<02:23,  1.69it/s]\u001b[A\n",
      "Iteration:  24% 76/319 [00:55<02:23,  1.69it/s]\u001b[A\n",
      "Iteration:  24% 77/319 [00:55<02:22,  1.69it/s]\u001b[A\n",
      "Iteration:  24% 78/319 [00:56<02:22,  1.69it/s]\u001b[A\n",
      "Iteration:  25% 79/319 [00:56<02:21,  1.69it/s]\u001b[A\n",
      "Iteration:  25% 80/319 [00:57<02:21,  1.69it/s]\u001b[A\n",
      "Iteration:  25% 81/319 [00:57<02:21,  1.69it/s]\u001b[A\n",
      "Iteration:  26% 82/319 [00:58<02:20,  1.69it/s]\u001b[A\n",
      "Iteration:  26% 83/319 [00:59<02:19,  1.69it/s]\u001b[A\n",
      "Iteration:  26% 84/319 [00:59<02:19,  1.69it/s]\u001b[A\n",
      "Iteration:  27% 85/319 [01:00<02:18,  1.69it/s]\u001b[A\n",
      "Iteration:  27% 86/319 [01:00<02:18,  1.69it/s]\u001b[A\n",
      "Iteration:  27% 87/319 [01:01<02:17,  1.69it/s]\u001b[A\n",
      "Iteration:  28% 88/319 [01:02<02:18,  1.67it/s]\u001b[A\n",
      "Iteration:  28% 89/319 [01:02<02:16,  1.68it/s]\u001b[A\n",
      "Iteration:  28% 90/319 [01:03<02:16,  1.68it/s]\u001b[A\n",
      "Iteration:  29% 91/319 [01:03<02:15,  1.69it/s]\u001b[A\n",
      "Iteration:  29% 92/319 [01:04<02:14,  1.69it/s]\u001b[A\n",
      "Iteration:  29% 93/319 [01:05<02:14,  1.69it/s]\u001b[A\n",
      "Iteration:  29% 94/319 [01:05<02:13,  1.69it/s]\u001b[A\n",
      "Iteration:  30% 95/319 [01:06<02:12,  1.69it/s]\u001b[A\n",
      "Iteration:  30% 96/319 [01:06<02:11,  1.69it/s]\u001b[A\n",
      "Iteration:  30% 97/319 [01:07<02:11,  1.69it/s]\u001b[A\n",
      "Iteration:  31% 98/319 [01:08<02:10,  1.69it/s]\u001b[A\n",
      "Iteration:  31% 99/319 [01:08<02:10,  1.69it/s]\u001b[A\n",
      "Iteration:  31% 100/319 [01:09<02:09,  1.69it/s]\u001b[A\n",
      "Iteration:  32% 101/319 [01:09<02:08,  1.69it/s]\u001b[A\n",
      "Iteration:  32% 102/319 [01:10<02:08,  1.69it/s]\u001b[A\n",
      "Iteration:  32% 103/319 [01:10<02:07,  1.69it/s]\u001b[A\n",
      "Iteration:  33% 104/319 [01:11<02:07,  1.69it/s]\u001b[A\n",
      "Iteration:  33% 105/319 [01:12<02:06,  1.69it/s]\u001b[A\n",
      "Iteration:  33% 106/319 [01:12<02:06,  1.69it/s]\u001b[A\n",
      "Iteration:  34% 107/319 [01:13<02:05,  1.69it/s]\u001b[A\n",
      "Iteration:  34% 108/319 [01:13<02:04,  1.69it/s]\u001b[A\n",
      "Iteration:  34% 109/319 [01:14<02:04,  1.69it/s]\u001b[A\n",
      "Iteration:  34% 110/319 [01:15<02:03,  1.69it/s]\u001b[A\n",
      "Iteration:  35% 111/319 [01:15<02:03,  1.69it/s]\u001b[A\n",
      "Iteration:  35% 112/319 [01:16<02:02,  1.69it/s]\u001b[A\n",
      "Iteration:  35% 113/319 [01:16<02:01,  1.69it/s]\u001b[A\n",
      "Iteration:  36% 114/319 [01:17<02:01,  1.69it/s]\u001b[A\n",
      "Iteration:  36% 115/319 [01:18<02:00,  1.69it/s]\u001b[A\n",
      "Iteration:  36% 116/319 [01:18<02:00,  1.69it/s]\u001b[A\n",
      "Iteration:  37% 117/319 [01:19<01:59,  1.69it/s]\u001b[A\n",
      "Iteration:  37% 118/319 [01:19<01:58,  1.69it/s]\u001b[A\n",
      "Iteration:  37% 119/319 [01:20<01:58,  1.69it/s]\u001b[A\n",
      "Iteration:  38% 120/319 [01:21<01:57,  1.69it/s]\u001b[A\n",
      "Iteration:  38% 121/319 [01:21<01:57,  1.69it/s]\u001b[A\n",
      "Iteration:  38% 122/319 [01:22<01:56,  1.69it/s]\u001b[A\n",
      "Iteration:  39% 123/319 [01:22<01:55,  1.69it/s]\u001b[A\n",
      "Iteration:  39% 124/319 [01:23<01:55,  1.69it/s]\u001b[A\n",
      "Iteration:  39% 125/319 [01:24<01:54,  1.69it/s]\u001b[A\n",
      "Iteration:  39% 126/319 [01:24<01:54,  1.69it/s]\u001b[A\n",
      "Iteration:  40% 127/319 [01:25<01:53,  1.69it/s]\u001b[A\n",
      "Iteration:  40% 128/319 [01:25<01:53,  1.69it/s]\u001b[A\n",
      "Iteration:  40% 129/319 [01:26<01:52,  1.69it/s]\u001b[A\n",
      "Iteration:  41% 130/319 [01:26<01:52,  1.69it/s]\u001b[A\n",
      "Iteration:  41% 131/319 [01:27<01:51,  1.69it/s]\u001b[A\n",
      "Iteration:  41% 132/319 [01:28<01:50,  1.69it/s]\u001b[A\n",
      "Iteration:  42% 133/319 [01:28<01:50,  1.69it/s]\u001b[A\n",
      "Iteration:  42% 134/319 [01:29<01:49,  1.69it/s]\u001b[A\n",
      "Iteration:  42% 135/319 [01:29<01:48,  1.69it/s]\u001b[A\n",
      "Iteration:  43% 136/319 [01:30<01:48,  1.69it/s]\u001b[A\n",
      "Iteration:  43% 137/319 [01:31<01:47,  1.69it/s]\u001b[A\n",
      "Iteration:  43% 138/319 [01:31<01:47,  1.68it/s]\u001b[A\n",
      "Iteration:  44% 139/319 [01:32<01:46,  1.68it/s]\u001b[A\n",
      "Iteration:  44% 140/319 [01:32<01:46,  1.68it/s]\u001b[A\n",
      "Iteration:  44% 141/319 [01:33<01:45,  1.69it/s]\u001b[A\n",
      "Iteration:  45% 142/319 [01:34<01:45,  1.68it/s]\u001b[A\n",
      "Iteration:  45% 143/319 [01:34<01:44,  1.69it/s]\u001b[A\n",
      "Iteration:  45% 144/319 [01:35<01:43,  1.69it/s]\u001b[A\n",
      "Iteration:  45% 145/319 [01:35<01:43,  1.69it/s]\u001b[A\n",
      "Iteration:  46% 146/319 [01:36<01:42,  1.69it/s]\u001b[A\n",
      "Iteration:  46% 147/319 [01:37<01:42,  1.69it/s]\u001b[A\n",
      "Iteration:  46% 148/319 [01:37<01:41,  1.69it/s]\u001b[A\n",
      "Iteration:  47% 149/319 [01:38<01:40,  1.68it/s]\u001b[A\n",
      "Iteration:  47% 150/319 [01:38<01:40,  1.68it/s]\u001b[A\n",
      "Iteration:  47% 151/319 [01:39<01:39,  1.68it/s]\u001b[A\n",
      "Iteration:  48% 152/319 [01:40<01:39,  1.68it/s]\u001b[A\n",
      "Iteration:  48% 153/319 [01:40<01:38,  1.68it/s]\u001b[A\n",
      "Iteration:  48% 154/319 [01:41<01:38,  1.68it/s]\u001b[A\n",
      "Iteration:  49% 155/319 [01:41<01:37,  1.68it/s]\u001b[A\n",
      "Iteration:  49% 156/319 [01:42<01:36,  1.68it/s]\u001b[A\n",
      "Iteration:  49% 157/319 [01:42<01:36,  1.68it/s]\u001b[A\n",
      "Iteration:  50% 158/319 [01:43<01:35,  1.69it/s]\u001b[A\n",
      "Iteration:  50% 159/319 [01:44<01:34,  1.69it/s]\u001b[A\n",
      "Iteration:  50% 160/319 [01:44<01:34,  1.69it/s]\u001b[A\n",
      "Iteration:  50% 161/319 [01:45<01:33,  1.69it/s]\u001b[A\n",
      "Iteration:  51% 162/319 [01:45<01:33,  1.69it/s]\u001b[A\n",
      "Iteration:  51% 163/319 [01:46<01:32,  1.69it/s]\u001b[A\n",
      "Iteration:  51% 164/319 [01:47<01:31,  1.69it/s]\u001b[A\n",
      "Iteration:  52% 165/319 [01:47<01:31,  1.69it/s]\u001b[A\n",
      "Iteration:  52% 166/319 [01:48<01:30,  1.69it/s]\u001b[A\n",
      "Iteration:  52% 167/319 [01:48<01:30,  1.69it/s]\u001b[A\n",
      "Iteration:  53% 168/319 [01:49<01:29,  1.68it/s]\u001b[A\n",
      "Iteration:  53% 169/319 [01:50<01:29,  1.68it/s]\u001b[A\n",
      "Iteration:  53% 170/319 [01:50<01:28,  1.68it/s]\u001b[A\n",
      "Iteration:  54% 171/319 [01:51<01:27,  1.68it/s]\u001b[A\n",
      "Iteration:  54% 172/319 [01:51<01:27,  1.68it/s]\u001b[A\n",
      "Iteration:  54% 173/319 [01:52<01:26,  1.68it/s]\u001b[A\n",
      "Iteration:  55% 174/319 [01:53<01:26,  1.68it/s]\u001b[A\n",
      "Iteration:  55% 175/319 [01:53<01:25,  1.68it/s]\u001b[A\n",
      "Iteration:  55% 176/319 [01:54<01:25,  1.68it/s]\u001b[A\n",
      "Iteration:  55% 177/319 [01:54<01:24,  1.68it/s]\u001b[A\n",
      "Iteration:  56% 178/319 [01:55<01:23,  1.68it/s]\u001b[A\n",
      "Iteration:  56% 179/319 [01:56<01:23,  1.68it/s]\u001b[A\n",
      "Iteration:  56% 180/319 [01:56<01:22,  1.68it/s]\u001b[A\n",
      "Iteration:  57% 181/319 [01:57<01:21,  1.68it/s]\u001b[A\n",
      "Iteration:  57% 182/319 [01:57<01:21,  1.69it/s]\u001b[A\n",
      "Iteration:  57% 183/319 [01:58<01:20,  1.69it/s]\u001b[A\n",
      "Iteration:  58% 184/319 [01:59<01:20,  1.68it/s]\u001b[A\n",
      "Iteration:  58% 185/319 [01:59<01:19,  1.69it/s]\u001b[A\n",
      "Iteration:  58% 186/319 [02:00<01:18,  1.69it/s]\u001b[A\n",
      "Iteration:  59% 187/319 [02:00<01:18,  1.68it/s]\u001b[A\n",
      "Iteration:  59% 188/319 [02:01<01:17,  1.69it/s]\u001b[A\n",
      "Iteration:  59% 189/319 [02:01<01:17,  1.68it/s]\u001b[A\n",
      "Iteration:  60% 190/319 [02:02<01:16,  1.69it/s]\u001b[A\n",
      "Iteration:  60% 191/319 [02:03<01:16,  1.68it/s]\u001b[A\n",
      "Iteration:  60% 192/319 [02:03<01:15,  1.68it/s]\u001b[A\n",
      "Iteration:  61% 193/319 [02:04<01:14,  1.68it/s]\u001b[A\n",
      "Iteration:  61% 194/319 [02:04<01:14,  1.68it/s]\u001b[A\n",
      "Iteration:  61% 195/319 [02:05<01:13,  1.68it/s]\u001b[A\n",
      "Iteration:  61% 196/319 [02:06<01:13,  1.68it/s]\u001b[A\n",
      "Iteration:  62% 197/319 [02:06<01:12,  1.68it/s]\u001b[A\n",
      "Iteration:  62% 198/319 [02:07<01:12,  1.68it/s]\u001b[A\n",
      "Iteration:  62% 199/319 [02:07<01:11,  1.68it/s]\u001b[A\n",
      "Iteration:  63% 200/319 [02:08<01:10,  1.68it/s]\u001b[A\n",
      "Iteration:  63% 201/319 [02:09<01:10,  1.68it/s]\u001b[A\n",
      "Iteration:  63% 202/319 [02:09<01:09,  1.68it/s]\u001b[A\n",
      "Iteration:  64% 203/319 [02:10<01:08,  1.68it/s]\u001b[A\n",
      "Iteration:  64% 204/319 [02:10<01:08,  1.68it/s]\u001b[A\n",
      "Iteration:  64% 205/319 [02:11<01:07,  1.68it/s]\u001b[A\n",
      "Iteration:  65% 206/319 [02:12<01:07,  1.68it/s]\u001b[A\n",
      "Iteration:  65% 207/319 [02:12<01:06,  1.68it/s]\u001b[A\n",
      "Iteration:  65% 208/319 [02:13<01:06,  1.68it/s]\u001b[A\n",
      "Iteration:  66% 209/319 [02:13<01:05,  1.68it/s]\u001b[A\n",
      "Iteration:  66% 210/319 [02:14<01:04,  1.68it/s]\u001b[A\n",
      "Iteration:  66% 211/319 [02:15<01:04,  1.68it/s]\u001b[A\n",
      "Iteration:  66% 212/319 [02:15<01:03,  1.68it/s]\u001b[A\n",
      "Iteration:  67% 213/319 [02:16<01:03,  1.68it/s]\u001b[A\n",
      "Iteration:  67% 214/319 [02:16<01:02,  1.68it/s]\u001b[A\n",
      "Iteration:  67% 215/319 [02:17<01:01,  1.68it/s]\u001b[A\n",
      "Iteration:  68% 216/319 [02:18<01:01,  1.68it/s]\u001b[A\n",
      "Iteration:  68% 217/319 [02:18<01:00,  1.68it/s]\u001b[A\n",
      "Iteration:  68% 218/319 [02:19<01:00,  1.68it/s]\u001b[A\n",
      "Iteration:  69% 219/319 [02:19<00:59,  1.68it/s]\u001b[A\n",
      "Iteration:  69% 220/319 [02:20<00:58,  1.68it/s]\u001b[A\n",
      "Iteration:  69% 221/319 [02:21<00:58,  1.68it/s]\u001b[A\n",
      "Iteration:  70% 222/319 [02:21<00:57,  1.68it/s]\u001b[A\n",
      "Iteration:  70% 223/319 [02:22<00:57,  1.68it/s]\u001b[A\n",
      "Iteration:  70% 224/319 [02:22<00:56,  1.68it/s]\u001b[A\n",
      "Iteration:  71% 225/319 [02:23<00:55,  1.68it/s]\u001b[A\n",
      "Iteration:  71% 226/319 [02:24<00:55,  1.68it/s]\u001b[A\n",
      "Iteration:  71% 227/319 [02:24<00:54,  1.68it/s]\u001b[A\n",
      "Iteration:  71% 228/319 [02:25<00:54,  1.68it/s]\u001b[A\n",
      "Iteration:  72% 229/319 [02:25<00:53,  1.68it/s]\u001b[A\n",
      "Iteration:  72% 230/319 [02:26<00:52,  1.69it/s]\u001b[A\n",
      "Iteration:  72% 231/319 [02:26<00:52,  1.68it/s]\u001b[A\n",
      "Iteration:  73% 232/319 [02:27<00:51,  1.68it/s]\u001b[A\n",
      "Iteration:  73% 233/319 [02:28<00:51,  1.68it/s]\u001b[A\n",
      "Iteration:  73% 234/319 [02:28<00:50,  1.68it/s]\u001b[A\n",
      "Iteration:  74% 235/319 [02:29<00:49,  1.68it/s]\u001b[A\n",
      "Iteration:  74% 236/319 [02:29<00:49,  1.68it/s]\u001b[A\n",
      "Iteration:  74% 237/319 [02:30<00:48,  1.68it/s]\u001b[A\n",
      "Iteration:  75% 238/319 [02:31<00:48,  1.68it/s]\u001b[A\n",
      "Iteration:  75% 239/319 [02:31<00:47,  1.68it/s]\u001b[A\n",
      "Iteration:  75% 240/319 [02:32<00:47,  1.68it/s]\u001b[A\n",
      "Iteration:  76% 241/319 [02:32<00:46,  1.68it/s]\u001b[A\n",
      "Iteration:  76% 242/319 [02:33<00:45,  1.68it/s]\u001b[A\n",
      "Iteration:  76% 243/319 [02:34<00:45,  1.68it/s]\u001b[A\n",
      "Iteration:  76% 244/319 [02:34<00:44,  1.68it/s]\u001b[A\n",
      "Iteration:  77% 245/319 [02:35<00:44,  1.68it/s]\u001b[A\n",
      "Iteration:  77% 246/319 [02:35<00:43,  1.68it/s]\u001b[A\n",
      "Iteration:  77% 247/319 [02:36<00:42,  1.68it/s]\u001b[A\n",
      "Iteration:  78% 248/319 [02:37<00:42,  1.68it/s]\u001b[A\n",
      "Iteration:  78% 249/319 [02:37<00:41,  1.68it/s]\u001b[A\n",
      "Iteration:  78% 250/319 [02:38<00:40,  1.69it/s]\u001b[A\n",
      "Iteration:  79% 251/319 [02:38<00:40,  1.69it/s]\u001b[A\n",
      "Iteration:  79% 252/319 [02:39<00:39,  1.69it/s]\u001b[A\n",
      "Iteration:  79% 253/319 [02:40<00:39,  1.68it/s]\u001b[A\n",
      "Iteration:  80% 254/319 [02:40<00:38,  1.68it/s]\u001b[A\n",
      "Iteration:  80% 255/319 [02:41<00:38,  1.68it/s]\u001b[A\n",
      "Iteration:  80% 256/319 [02:41<00:37,  1.68it/s]\u001b[A\n",
      "Iteration:  81% 257/319 [02:42<00:36,  1.69it/s]\u001b[A\n",
      "Iteration:  81% 258/319 [02:43<00:36,  1.68it/s]\u001b[A\n",
      "Iteration:  81% 259/319 [02:43<00:35,  1.68it/s]\u001b[A\n",
      "Iteration:  82% 260/319 [02:44<00:35,  1.68it/s]\u001b[A\n",
      "Iteration:  82% 261/319 [02:44<00:34,  1.68it/s]\u001b[A\n",
      "Iteration:  82% 262/319 [02:45<00:33,  1.68it/s]\u001b[A\n",
      "Iteration:  82% 263/319 [02:45<00:33,  1.68it/s]\u001b[A\n",
      "Iteration:  83% 264/319 [02:46<00:32,  1.68it/s]\u001b[A\n",
      "Iteration:  83% 265/319 [02:47<00:32,  1.68it/s]\u001b[A\n",
      "Iteration:  83% 266/319 [02:47<00:31,  1.68it/s]\u001b[A\n",
      "Iteration:  84% 267/319 [02:48<00:30,  1.68it/s]\u001b[A\n",
      "Iteration:  84% 268/319 [02:48<00:30,  1.68it/s]\u001b[A\n",
      "Iteration:  84% 269/319 [02:49<00:29,  1.68it/s]\u001b[A\n",
      "Iteration:  85% 270/319 [02:50<00:29,  1.68it/s]\u001b[A\n",
      "Iteration:  85% 271/319 [02:50<00:28,  1.68it/s]\u001b[A\n",
      "Iteration:  85% 272/319 [02:51<00:27,  1.68it/s]\u001b[A\n",
      "Iteration:  86% 273/319 [02:51<00:27,  1.68it/s]\u001b[A\n",
      "Iteration:  86% 274/319 [02:52<00:26,  1.68it/s]\u001b[A\n",
      "Iteration:  86% 275/319 [02:53<00:26,  1.68it/s]\u001b[A\n",
      "Iteration:  87% 276/319 [02:53<00:25,  1.68it/s]\u001b[A\n",
      "Iteration:  87% 277/319 [02:54<00:24,  1.68it/s]\u001b[A\n",
      "Iteration:  87% 278/319 [02:54<00:24,  1.68it/s]\u001b[A\n",
      "Iteration:  87% 279/319 [02:55<00:23,  1.68it/s]\u001b[A\n",
      "Iteration:  88% 280/319 [02:56<00:23,  1.68it/s]\u001b[A\n",
      "Iteration:  88% 281/319 [02:56<00:22,  1.68it/s]\u001b[A\n",
      "Iteration:  88% 282/319 [02:57<00:21,  1.68it/s]\u001b[A\n",
      "Iteration:  89% 283/319 [02:57<00:21,  1.68it/s]\u001b[A\n",
      "Iteration:  89% 284/319 [02:58<00:20,  1.68it/s]\u001b[A\n",
      "Iteration:  89% 285/319 [02:59<00:20,  1.68it/s]\u001b[A\n",
      "Iteration:  90% 286/319 [02:59<00:19,  1.68it/s]\u001b[A\n",
      "Iteration:  90% 287/319 [03:00<00:19,  1.68it/s]\u001b[A\n",
      "Iteration:  90% 288/319 [03:00<00:18,  1.68it/s]\u001b[A\n",
      "Iteration:  91% 289/319 [03:01<00:17,  1.68it/s]\u001b[A\n",
      "Iteration:  91% 290/319 [03:02<00:17,  1.68it/s]\u001b[A\n",
      "Iteration:  91% 291/319 [03:02<00:16,  1.68it/s]\u001b[A\n",
      "Iteration:  92% 292/319 [03:03<00:16,  1.68it/s]\u001b[A\n",
      "Iteration:  92% 293/319 [03:03<00:15,  1.68it/s]\u001b[A\n",
      "Iteration:  92% 294/319 [03:04<00:14,  1.68it/s]\u001b[A\n",
      "Iteration:  92% 295/319 [03:05<00:14,  1.68it/s]\u001b[A\n",
      "Iteration:  93% 296/319 [03:05<00:13,  1.68it/s]\u001b[A\n",
      "Iteration:  93% 297/319 [03:06<00:13,  1.68it/s]\u001b[A\n",
      "Iteration:  93% 298/319 [03:06<00:12,  1.68it/s]\u001b[A\n",
      "Iteration:  94% 299/319 [03:07<00:11,  1.68it/s]\u001b[A\n",
      "Iteration:  94% 300/319 [03:07<00:11,  1.68it/s]\u001b[A\n",
      "Iteration:  94% 301/319 [03:08<00:10,  1.68it/s]\u001b[A\n",
      "Iteration:  95% 302/319 [03:09<00:10,  1.68it/s]\u001b[A\n",
      "Iteration:  95% 303/319 [03:09<00:09,  1.68it/s]\u001b[A\n",
      "Iteration:  95% 304/319 [03:10<00:08,  1.68it/s]\u001b[A\n",
      "Iteration:  96% 305/319 [03:10<00:08,  1.68it/s]\u001b[A\n",
      "Iteration:  96% 306/319 [03:11<00:07,  1.68it/s]\u001b[A\n",
      "Iteration:  96% 307/319 [03:12<00:07,  1.68it/s]\u001b[A\n",
      "Iteration:  97% 308/319 [03:12<00:06,  1.68it/s]\u001b[A\n",
      "Iteration:  97% 309/319 [03:13<00:05,  1.68it/s]\u001b[A\n",
      "Iteration:  97% 310/319 [03:13<00:05,  1.68it/s]\u001b[A\n",
      "Iteration:  97% 311/319 [03:14<00:04,  1.68it/s]\u001b[A\n",
      "Iteration:  98% 312/319 [03:15<00:04,  1.68it/s]\u001b[A\n",
      "Iteration:  98% 313/319 [03:15<00:03,  1.68it/s]\u001b[A\n",
      "Iteration:  98% 314/319 [03:16<00:02,  1.68it/s]\u001b[A\n",
      "Iteration:  99% 315/319 [03:16<00:02,  1.68it/s]\u001b[A\n",
      "Iteration:  99% 316/319 [03:17<00:01,  1.68it/s]\u001b[A\n",
      "Iteration:  99% 317/319 [03:18<00:01,  1.68it/s]\u001b[A\n",
      "Iteration: 100% 318/319 [03:18<00:00,  1.68it/s]\u001b[A\n",
      "Iteration: 100% 319/319 [03:19<00:00,  1.60it/s]\n",
      "Epoch: 100% 4/4 [12:39<00:00, 189.83s/it]\n",
      "03/15/2024 01:42:04 - INFO - __main__ -    global_step = 1276, average loss = 0.04847362587258707\n",
      "03/15/2024 01:42:04 - INFO - __main__ -   Saving model checkpoint to /content/drive/MyDrive/NER-BERT/model/pst-pdr-bc5cdr/biomed\n",
      "03/15/2024 01:42:06 - INFO - __main__ -   Evaluate the following checkpoints: ['/content/drive/MyDrive/NER-BERT/model/pst-pdr-bc5cdr/biomed']\n",
      "03/15/2024 01:42:07 - INFO - __main__ -   Creating features from dataset file at /content/drive/MyDrive/NER-BERT/data/Multi-Source/S800-Plantblog-Textberg-PDR-BC5CDR/biomed\n",
      "03/15/2024 01:42:07 - INFO - utils_ner -   Writing example 0 of 1325\n",
      "03/15/2024 01:42:07 - INFO - utils_ner -   *** Example ***\n",
      "03/15/2024 01:42:07 - INFO - utils_ner -   guid: dev-1\n",
      "03/15/2024 01:42:07 - INFO - utils_ner -   tokens: [CLS] we studied a thiamine - dependent enzyme , trans ##ket ##olase , from fibroblasts of a diabetic patient who developed wer ##nick ##e ' s encephalopathy when treated with tol ##az ##amide , in order to delineate if this patient also had trans ##ket ##olase abnormality [ high km for thiamine pyrophosphate ( tpp ) ] , as previously reported in post ##alcoholic wer ##nick ##e - kor ##sa ##ko ##ff syndrome . [SEP]\n",
      "03/15/2024 01:42:07 - INFO - utils_ner -   input_ids: 2 2038 3942 43 26901 17 3100 4113 16 2127 18540 21524 16 2037 7001 1927 43 6152 2774 2746 3530 22210 25576 1021 11 61 19393 2469 2868 1956 21930 3408 5482 16 1922 3238 1942 19222 2647 2052 2774 2222 2430 2127 18540 21524 14311 37 2149 7477 1958 26901 24937 12 25282 13 39 16 1966 3024 2568 1922 2753 29576 22210 25576 1021 17 21136 5735 8323 2040 4741 18 3 0 0 0 0 0 0 0 0 0 0 0 0 0 0 0 0 0 0 0 0 0 0 0 0 0 0 0 0 0 0 0 0 0 0 0 0 0 0 0 0 0 0 0 0 0 0 0 0 0 0 0 0 0\n",
      "03/15/2024 01:42:07 - INFO - utils_ner -   input_mask: 1 1 1 1 1 1 1 1 1 1 1 1 1 1 1 1 1 1 1 1 1 1 1 1 1 1 1 1 1 1 1 1 1 1 1 1 1 1 1 1 1 1 1 1 1 1 1 1 1 1 1 1 1 1 1 1 1 1 1 1 1 1 1 1 1 1 1 1 1 1 1 1 1 1 1 0 0 0 0 0 0 0 0 0 0 0 0 0 0 0 0 0 0 0 0 0 0 0 0 0 0 0 0 0 0 0 0 0 0 0 0 0 0 0 0 0 0 0 0 0 0 0 0 0 0 0 0 0\n",
      "03/15/2024 01:42:07 - INFO - utils_ner -   segment_ids: 0 0 0 0 0 0 0 0 0 0 0 0 0 0 0 0 0 0 0 0 0 0 0 0 0 0 0 0 0 0 0 0 0 0 0 0 0 0 0 0 0 0 0 0 0 0 0 0 0 0 0 0 0 0 0 0 0 0 0 0 0 0 0 0 0 0 0 0 0 0 0 0 0 0 0 0 0 0 0 0 0 0 0 0 0 0 0 0 0 0 0 0 0 0 0 0 0 0 0 0 0 0 0 0 0 0 0 0 0 0 0 0 0 0 0 0 0 0 0 0 0 0 0 0 0 0 0 0\n",
      "03/15/2024 01:42:07 - INFO - utils_ner -   label_ids: -100 4 4 4 4 4 4 4 4 4 -100 -100 4 4 4 4 4 0 4 4 4 0 -100 -100 2 2 2 4 4 4 4 -100 -100 4 4 4 4 4 4 4 4 4 4 4 -100 -100 4 4 4 4 4 4 4 4 4 4 4 4 4 4 4 4 4 -100 0 -100 -100 2 2 -100 -100 -100 2 4 -100 -100 -100 -100 -100 -100 -100 -100 -100 -100 -100 -100 -100 -100 -100 -100 -100 -100 -100 -100 -100 -100 -100 -100 -100 -100 -100 -100 -100 -100 -100 -100 -100 -100 -100 -100 -100 -100 -100 -100 -100 -100 -100 -100 -100 -100 -100 -100 -100 -100 -100 -100 -100 -100\n",
      "03/15/2024 01:42:07 - INFO - utils_ner -   *** Example ***\n",
      "03/15/2024 01:42:07 - INFO - utils_ner -   guid: dev-2\n",
      "03/15/2024 01:42:07 - INFO - utils_ner -   tokens: [CLS] in addition to this patient , we also studied this enzyme from three diabetic kind ##red ##s without any history of wer ##nick ##e ' s encephalopathy and from four normal controls . [SEP]\n",
      "03/15/2024 01:42:07 - INFO - utils_ner -   input_ids: 2 1922 2459 1942 2052 2774 16 2038 2222 3942 2052 4113 2037 2559 6152 6925 3510 1036 2979 2967 4403 1927 22210 25576 1021 11 61 19393 1930 2037 3006 2791 3562 18 3 0 0 0 0 0 0 0 0 0 0 0 0 0 0 0 0 0 0 0 0 0 0 0 0 0 0 0 0 0 0 0 0 0 0 0 0 0 0 0 0 0 0 0 0 0 0 0 0 0 0 0 0 0 0 0 0 0 0 0 0 0 0 0 0 0 0 0 0 0 0 0 0 0 0 0 0 0 0 0 0 0 0 0 0 0 0 0 0 0 0 0 0 0\n",
      "03/15/2024 01:42:07 - INFO - utils_ner -   input_mask: 1 1 1 1 1 1 1 1 1 1 1 1 1 1 1 1 1 1 1 1 1 1 1 1 1 1 1 1 1 1 1 1 1 1 1 0 0 0 0 0 0 0 0 0 0 0 0 0 0 0 0 0 0 0 0 0 0 0 0 0 0 0 0 0 0 0 0 0 0 0 0 0 0 0 0 0 0 0 0 0 0 0 0 0 0 0 0 0 0 0 0 0 0 0 0 0 0 0 0 0 0 0 0 0 0 0 0 0 0 0 0 0 0 0 0 0 0 0 0 0 0 0 0 0 0 0 0 0\n",
      "03/15/2024 01:42:07 - INFO - utils_ner -   segment_ids: 0 0 0 0 0 0 0 0 0 0 0 0 0 0 0 0 0 0 0 0 0 0 0 0 0 0 0 0 0 0 0 0 0 0 0 0 0 0 0 0 0 0 0 0 0 0 0 0 0 0 0 0 0 0 0 0 0 0 0 0 0 0 0 0 0 0 0 0 0 0 0 0 0 0 0 0 0 0 0 0 0 0 0 0 0 0 0 0 0 0 0 0 0 0 0 0 0 0 0 0 0 0 0 0 0 0 0 0 0 0 0 0 0 0 0 0 0 0 0 0 0 0 0 0 0 0 0 0\n",
      "03/15/2024 01:42:07 - INFO - utils_ner -   label_ids: -100 4 4 4 4 4 4 4 4 4 4 4 4 4 0 4 -100 -100 4 4 4 4 0 -100 -100 2 2 2 4 4 4 4 4 4 -100 -100 -100 -100 -100 -100 -100 -100 -100 -100 -100 -100 -100 -100 -100 -100 -100 -100 -100 -100 -100 -100 -100 -100 -100 -100 -100 -100 -100 -100 -100 -100 -100 -100 -100 -100 -100 -100 -100 -100 -100 -100 -100 -100 -100 -100 -100 -100 -100 -100 -100 -100 -100 -100 -100 -100 -100 -100 -100 -100 -100 -100 -100 -100 -100 -100 -100 -100 -100 -100 -100 -100 -100 -100 -100 -100 -100 -100 -100 -100 -100 -100 -100 -100 -100 -100 -100 -100 -100 -100 -100 -100 -100 -100\n",
      "03/15/2024 01:42:07 - INFO - utils_ner -   *** Example ***\n",
      "03/15/2024 01:42:07 - INFO - utils_ner -   guid: dev-3\n",
      "03/15/2024 01:42:07 - INFO - utils_ner -   tokens: [CLS] we found that the above - mentioned patient and one of the diabetic kind ##red ##s with no history of wer ##nick ##e ' s encephalopathy had abnormal trans ##ket ##olase as determined by its km for tpp . [SEP]\n",
      "03/15/2024 01:42:07 - INFO - utils_ner -   input_ids: 2 2038 2435 1988 1920 3538 17 6996 2774 1930 2340 1927 1920 6152 6925 3510 1036 1956 2239 4403 1927 22210 25576 1021 11 61 19393 2430 4552 2127 18540 21524 1966 3180 2007 2496 7477 1958 25282 18 3 0 0 0 0 0 0 0 0 0 0 0 0 0 0 0 0 0 0 0 0 0 0 0 0 0 0 0 0 0 0 0 0 0 0 0 0 0 0 0 0 0 0 0 0 0 0 0 0 0 0 0 0 0 0 0 0 0 0 0 0 0 0 0 0 0 0 0 0 0 0 0 0 0 0 0 0 0 0 0 0 0 0 0 0 0 0 0\n",
      "03/15/2024 01:42:07 - INFO - utils_ner -   input_mask: 1 1 1 1 1 1 1 1 1 1 1 1 1 1 1 1 1 1 1 1 1 1 1 1 1 1 1 1 1 1 1 1 1 1 1 1 1 1 1 1 1 0 0 0 0 0 0 0 0 0 0 0 0 0 0 0 0 0 0 0 0 0 0 0 0 0 0 0 0 0 0 0 0 0 0 0 0 0 0 0 0 0 0 0 0 0 0 0 0 0 0 0 0 0 0 0 0 0 0 0 0 0 0 0 0 0 0 0 0 0 0 0 0 0 0 0 0 0 0 0 0 0 0 0 0 0 0 0\n",
      "03/15/2024 01:42:07 - INFO - utils_ner -   segment_ids: 0 0 0 0 0 0 0 0 0 0 0 0 0 0 0 0 0 0 0 0 0 0 0 0 0 0 0 0 0 0 0 0 0 0 0 0 0 0 0 0 0 0 0 0 0 0 0 0 0 0 0 0 0 0 0 0 0 0 0 0 0 0 0 0 0 0 0 0 0 0 0 0 0 0 0 0 0 0 0 0 0 0 0 0 0 0 0 0 0 0 0 0 0 0 0 0 0 0 0 0 0 0 0 0 0 0 0 0 0 0 0 0 0 0 0 0 0 0 0 0 0 0 0 0 0 0 0 0\n",
      "03/15/2024 01:42:07 - INFO - utils_ner -   label_ids: -100 4 4 4 4 4 4 4 4 4 4 4 4 0 4 -100 -100 4 4 4 4 0 -100 -100 2 2 2 4 4 4 -100 -100 4 4 4 4 4 4 4 4 -100 -100 -100 -100 -100 -100 -100 -100 -100 -100 -100 -100 -100 -100 -100 -100 -100 -100 -100 -100 -100 -100 -100 -100 -100 -100 -100 -100 -100 -100 -100 -100 -100 -100 -100 -100 -100 -100 -100 -100 -100 -100 -100 -100 -100 -100 -100 -100 -100 -100 -100 -100 -100 -100 -100 -100 -100 -100 -100 -100 -100 -100 -100 -100 -100 -100 -100 -100 -100 -100 -100 -100 -100 -100 -100 -100 -100 -100 -100 -100 -100 -100 -100 -100 -100 -100 -100 -100\n",
      "03/15/2024 01:42:07 - INFO - utils_ner -   *** Example ***\n",
      "03/15/2024 01:42:07 - INFO - utils_ner -   guid: dev-4\n",
      "03/15/2024 01:42:07 - INFO - utils_ner -   tokens: [CLS] these data suggest a similarity between post ##alcoholic wer ##nick ##e - kor ##sa ##ko ##ff syndrome and the patient with tol ##az ##amide - induced wer ##nick ##e ' s encephalopathy from the stand ##point of trans ##ket ##olase abnormality . [SEP]\n",
      "03/15/2024 01:42:07 - INFO - utils_ner -   input_ids: 2 2144 2230 3220 43 6796 2192 2753 29576 22210 25576 1021 17 21136 5735 8323 2040 4741 1930 1920 2774 1956 21930 3408 5482 17 2719 22210 25576 1021 11 61 19393 2037 1920 2924 6881 1927 2127 18540 21524 14311 18 3 0 0 0 0 0 0 0 0 0 0 0 0 0 0 0 0 0 0 0 0 0 0 0 0 0 0 0 0 0 0 0 0 0 0 0 0 0 0 0 0 0 0 0 0 0 0 0 0 0 0 0 0 0 0 0 0 0 0 0 0 0 0 0 0 0 0 0 0 0 0 0 0 0 0 0 0 0 0 0 0 0 0 0 0\n",
      "03/15/2024 01:42:07 - INFO - utils_ner -   input_mask: 1 1 1 1 1 1 1 1 1 1 1 1 1 1 1 1 1 1 1 1 1 1 1 1 1 1 1 1 1 1 1 1 1 1 1 1 1 1 1 1 1 1 1 1 0 0 0 0 0 0 0 0 0 0 0 0 0 0 0 0 0 0 0 0 0 0 0 0 0 0 0 0 0 0 0 0 0 0 0 0 0 0 0 0 0 0 0 0 0 0 0 0 0 0 0 0 0 0 0 0 0 0 0 0 0 0 0 0 0 0 0 0 0 0 0 0 0 0 0 0 0 0 0 0 0 0 0 0\n",
      "03/15/2024 01:42:07 - INFO - utils_ner -   segment_ids: 0 0 0 0 0 0 0 0 0 0 0 0 0 0 0 0 0 0 0 0 0 0 0 0 0 0 0 0 0 0 0 0 0 0 0 0 0 0 0 0 0 0 0 0 0 0 0 0 0 0 0 0 0 0 0 0 0 0 0 0 0 0 0 0 0 0 0 0 0 0 0 0 0 0 0 0 0 0 0 0 0 0 0 0 0 0 0 0 0 0 0 0 0 0 0 0 0 0 0 0 0 0 0 0 0 0 0 0 0 0 0 0 0 0 0 0 0 0 0 0 0 0 0 0 0 0 0 0\n",
      "03/15/2024 01:42:07 - INFO - utils_ner -   label_ids: -100 4 4 4 4 4 4 4 -100 0 -100 -100 2 2 -100 -100 -100 2 4 4 4 4 4 -100 -100 4 4 0 -100 -100 2 2 2 4 4 4 -100 4 4 -100 -100 4 4 -100 -100 -100 -100 -100 -100 -100 -100 -100 -100 -100 -100 -100 -100 -100 -100 -100 -100 -100 -100 -100 -100 -100 -100 -100 -100 -100 -100 -100 -100 -100 -100 -100 -100 -100 -100 -100 -100 -100 -100 -100 -100 -100 -100 -100 -100 -100 -100 -100 -100 -100 -100 -100 -100 -100 -100 -100 -100 -100 -100 -100 -100 -100 -100 -100 -100 -100 -100 -100 -100 -100 -100 -100 -100 -100 -100 -100 -100 -100 -100 -100 -100 -100 -100 -100\n",
      "03/15/2024 01:42:07 - INFO - utils_ner -   *** Example ***\n",
      "03/15/2024 01:42:07 - INFO - utils_ner -   guid: dev-5\n",
      "03/15/2024 01:42:07 - INFO - utils_ner -   tokens: [CLS] bradycardia due to tri ##hex ##yph ##eni ##dy ##l hydrochloride . [SEP]\n",
      "03/15/2024 01:42:07 - INFO - utils_ner -   input_ids: 2 26192 2810 1942 5083 17797 11397 28131 14458 1024 16675 18 3 0 0 0 0 0 0 0 0 0 0 0 0 0 0 0 0 0 0 0 0 0 0 0 0 0 0 0 0 0 0 0 0 0 0 0 0 0 0 0 0 0 0 0 0 0 0 0 0 0 0 0 0 0 0 0 0 0 0 0 0 0 0 0 0 0 0 0 0 0 0 0 0 0 0 0 0 0 0 0 0 0 0 0 0 0 0 0 0 0 0 0 0 0 0 0 0 0 0 0 0 0 0 0 0 0 0 0 0 0 0 0 0 0 0 0\n",
      "03/15/2024 01:42:07 - INFO - utils_ner -   input_mask: 1 1 1 1 1 1 1 1 1 1 1 1 1 0 0 0 0 0 0 0 0 0 0 0 0 0 0 0 0 0 0 0 0 0 0 0 0 0 0 0 0 0 0 0 0 0 0 0 0 0 0 0 0 0 0 0 0 0 0 0 0 0 0 0 0 0 0 0 0 0 0 0 0 0 0 0 0 0 0 0 0 0 0 0 0 0 0 0 0 0 0 0 0 0 0 0 0 0 0 0 0 0 0 0 0 0 0 0 0 0 0 0 0 0 0 0 0 0 0 0 0 0 0 0 0 0 0 0\n",
      "03/15/2024 01:42:07 - INFO - utils_ner -   segment_ids: 0 0 0 0 0 0 0 0 0 0 0 0 0 0 0 0 0 0 0 0 0 0 0 0 0 0 0 0 0 0 0 0 0 0 0 0 0 0 0 0 0 0 0 0 0 0 0 0 0 0 0 0 0 0 0 0 0 0 0 0 0 0 0 0 0 0 0 0 0 0 0 0 0 0 0 0 0 0 0 0 0 0 0 0 0 0 0 0 0 0 0 0 0 0 0 0 0 0 0 0 0 0 0 0 0 0 0 0 0 0 0 0 0 0 0 0 0 0 0 0 0 0 0 0 0 0 0 0\n",
      "03/15/2024 01:42:07 - INFO - utils_ner -   label_ids: -100 0 4 4 4 -100 -100 -100 -100 -100 4 4 -100 -100 -100 -100 -100 -100 -100 -100 -100 -100 -100 -100 -100 -100 -100 -100 -100 -100 -100 -100 -100 -100 -100 -100 -100 -100 -100 -100 -100 -100 -100 -100 -100 -100 -100 -100 -100 -100 -100 -100 -100 -100 -100 -100 -100 -100 -100 -100 -100 -100 -100 -100 -100 -100 -100 -100 -100 -100 -100 -100 -100 -100 -100 -100 -100 -100 -100 -100 -100 -100 -100 -100 -100 -100 -100 -100 -100 -100 -100 -100 -100 -100 -100 -100 -100 -100 -100 -100 -100 -100 -100 -100 -100 -100 -100 -100 -100 -100 -100 -100 -100 -100 -100 -100 -100 -100 -100 -100 -100 -100 -100 -100 -100 -100 -100 -100\n",
      "03/15/2024 01:42:08 - INFO - __main__ -   Saving features into cached file /content/drive/MyDrive/NER-BERT/data/Multi-Source/S800-Plantblog-Textberg-PDR-BC5CDR/biomed/cached_dev_BiomedNLP-BiomedBERT-base-uncased-abstract-fulltext_128\n",
      "03/15/2024 01:42:08 - INFO - __main__ -   ***** Running evaluation  *****\n",
      "03/15/2024 01:42:08 - INFO - __main__ -     Num examples = 1325\n",
      "03/15/2024 01:42:08 - INFO - __main__ -     Batch size = 8\n",
      "Evaluating: 100% 166/166 [00:09<00:00, 18.02it/s]\n",
      "03/15/2024 01:42:18 - INFO - __main__ -   ***** Eval results  *****\n",
      "03/15/2024 01:42:18 - INFO - __main__ -     f1 = 0.8732461355529131\n",
      "03/15/2024 01:42:18 - INFO - __main__ -     loss = 0.08598264477251473\n",
      "03/15/2024 01:42:18 - INFO - __main__ -     precision = 0.8615673392773345\n",
      "03/15/2024 01:42:18 - INFO - __main__ -     recall = 0.8852459016393442\n",
      "03/15/2024 01:42:19 - INFO - __main__ -   Creating features from dataset file at /content/drive/MyDrive/NER-BERT/data/Multi-Source/S800-Plantblog-Textberg-PDR-BC5CDR/biomed\n",
      "03/15/2024 01:42:19 - INFO - utils_ner -   Writing example 0 of 1242\n",
      "03/15/2024 01:42:19 - INFO - utils_ner -   *** Example ***\n",
      "03/15/2024 01:42:19 - INFO - utils_ner -   guid: test-1\n",
      "03/15/2024 01:42:19 - INFO - utils_ner -   tokens: [CLS] as heroin addic ##ts sometimes faint while using illicit drugs , doctors might attribute too many episodes of syncope to illicit drug use and thereby underestimate the incidence of tdp in this special population , and the high mortality in this population may , in part , be caused by the pro ##arrhyth ##mic effect of methadone . [SEP]\n",
      "03/15/2024 01:42:19 - INFO - utils_ner -   input_ids: 2 1966 19175 16888 1973 8929 26589 2679 2193 20881 4195 16 11849 3284 16008 7405 3086 9232 1927 26742 1942 20881 2838 2485 1930 6113 21772 1920 4332 1927 15390 1922 2052 5180 2973 16 1930 1920 2149 3885 1922 2052 2973 2278 16 1922 3131 16 1998 4189 2007 1920 1965 23246 4913 2495 1927 20293 18 3 0 0 0 0 0 0 0 0 0 0 0 0 0 0 0 0 0 0 0 0 0 0 0 0 0 0 0 0 0 0 0 0 0 0 0 0 0 0 0 0 0 0 0 0 0 0 0 0 0 0 0 0 0 0 0 0 0 0 0 0 0 0 0 0 0 0 0 0\n",
      "03/15/2024 01:42:19 - INFO - utils_ner -   input_mask: 1 1 1 1 1 1 1 1 1 1 1 1 1 1 1 1 1 1 1 1 1 1 1 1 1 1 1 1 1 1 1 1 1 1 1 1 1 1 1 1 1 1 1 1 1 1 1 1 1 1 1 1 1 1 1 1 1 1 1 1 0 0 0 0 0 0 0 0 0 0 0 0 0 0 0 0 0 0 0 0 0 0 0 0 0 0 0 0 0 0 0 0 0 0 0 0 0 0 0 0 0 0 0 0 0 0 0 0 0 0 0 0 0 0 0 0 0 0 0 0 0 0 0 0 0 0 0 0\n",
      "03/15/2024 01:42:19 - INFO - utils_ner -   segment_ids: 0 0 0 0 0 0 0 0 0 0 0 0 0 0 0 0 0 0 0 0 0 0 0 0 0 0 0 0 0 0 0 0 0 0 0 0 0 0 0 0 0 0 0 0 0 0 0 0 0 0 0 0 0 0 0 0 0 0 0 0 0 0 0 0 0 0 0 0 0 0 0 0 0 0 0 0 0 0 0 0 0 0 0 0 0 0 0 0 0 0 0 0 0 0 0 0 0 0 0 0 0 0 0 0 0 0 0 0 0 0 0 0 0 0 0 0 0 0 0 0 0 0 0 0 0 0 0 0\n",
      "03/15/2024 01:42:19 - INFO - utils_ner -   label_ids: -100 4 4 4 -100 4 4 4 4 4 4 4 4 4 4 4 4 4 4 0 4 4 4 4 4 4 4 4 4 4 0 4 4 4 4 4 4 4 4 4 4 4 4 4 4 4 4 4 4 4 4 4 4 -100 -100 4 4 4 4 -100 -100 -100 -100 -100 -100 -100 -100 -100 -100 -100 -100 -100 -100 -100 -100 -100 -100 -100 -100 -100 -100 -100 -100 -100 -100 -100 -100 -100 -100 -100 -100 -100 -100 -100 -100 -100 -100 -100 -100 -100 -100 -100 -100 -100 -100 -100 -100 -100 -100 -100 -100 -100 -100 -100 -100 -100 -100 -100 -100 -100 -100 -100 -100 -100 -100 -100 -100 -100\n",
      "03/15/2024 01:42:19 - INFO - utils_ner -   *** Example ***\n",
      "03/15/2024 01:42:19 - INFO - utils_ner -   guid: test-2\n",
      "03/15/2024 01:42:19 - INFO - utils_ner -   tokens: [CLS] all participants were interviewed about any experience of syncope . [SEP]\n",
      "03/15/2024 01:42:19 - INFO - utils_ner -   input_ids: 2 2136 3003 1985 14213 3001 2967 4848 1927 26742 18 3 0 0 0 0 0 0 0 0 0 0 0 0 0 0 0 0 0 0 0 0 0 0 0 0 0 0 0 0 0 0 0 0 0 0 0 0 0 0 0 0 0 0 0 0 0 0 0 0 0 0 0 0 0 0 0 0 0 0 0 0 0 0 0 0 0 0 0 0 0 0 0 0 0 0 0 0 0 0 0 0 0 0 0 0 0 0 0 0 0 0 0 0 0 0 0 0 0 0 0 0 0 0 0 0 0 0 0 0 0 0 0 0 0 0 0 0\n",
      "03/15/2024 01:42:19 - INFO - utils_ner -   input_mask: 1 1 1 1 1 1 1 1 1 1 1 1 0 0 0 0 0 0 0 0 0 0 0 0 0 0 0 0 0 0 0 0 0 0 0 0 0 0 0 0 0 0 0 0 0 0 0 0 0 0 0 0 0 0 0 0 0 0 0 0 0 0 0 0 0 0 0 0 0 0 0 0 0 0 0 0 0 0 0 0 0 0 0 0 0 0 0 0 0 0 0 0 0 0 0 0 0 0 0 0 0 0 0 0 0 0 0 0 0 0 0 0 0 0 0 0 0 0 0 0 0 0 0 0 0 0 0 0\n",
      "03/15/2024 01:42:19 - INFO - utils_ner -   segment_ids: 0 0 0 0 0 0 0 0 0 0 0 0 0 0 0 0 0 0 0 0 0 0 0 0 0 0 0 0 0 0 0 0 0 0 0 0 0 0 0 0 0 0 0 0 0 0 0 0 0 0 0 0 0 0 0 0 0 0 0 0 0 0 0 0 0 0 0 0 0 0 0 0 0 0 0 0 0 0 0 0 0 0 0 0 0 0 0 0 0 0 0 0 0 0 0 0 0 0 0 0 0 0 0 0 0 0 0 0 0 0 0 0 0 0 0 0 0 0 0 0 0 0 0 0 0 0 0 0\n",
      "03/15/2024 01:42:19 - INFO - utils_ner -   label_ids: -100 4 4 4 4 4 4 4 4 0 4 -100 -100 -100 -100 -100 -100 -100 -100 -100 -100 -100 -100 -100 -100 -100 -100 -100 -100 -100 -100 -100 -100 -100 -100 -100 -100 -100 -100 -100 -100 -100 -100 -100 -100 -100 -100 -100 -100 -100 -100 -100 -100 -100 -100 -100 -100 -100 -100 -100 -100 -100 -100 -100 -100 -100 -100 -100 -100 -100 -100 -100 -100 -100 -100 -100 -100 -100 -100 -100 -100 -100 -100 -100 -100 -100 -100 -100 -100 -100 -100 -100 -100 -100 -100 -100 -100 -100 -100 -100 -100 -100 -100 -100 -100 -100 -100 -100 -100 -100 -100 -100 -100 -100 -100 -100 -100 -100 -100 -100 -100 -100 -100 -100 -100 -100 -100 -100\n",
      "03/15/2024 01:42:19 - INFO - utils_ner -   *** Example ***\n",
      "03/15/2024 01:42:19 - INFO - utils_ner -   guid: test-3\n",
      "03/15/2024 01:42:19 - INFO - utils_ner -   tokens: [CLS] the association between opioid dose and qt , and methadone dose and reporting of syncope was assessed using multivariate linear regression and logistic regression , respectively . [SEP]\n",
      "03/15/2024 01:42:19 - INFO - utils_ner -   input_ids: 2 1920 3279 2192 9384 3253 1930 8877 16 1930 20293 3253 1930 6605 1927 26742 1982 3683 2193 6884 4258 4165 1930 6933 4165 16 2763 18 3 0 0 0 0 0 0 0 0 0 0 0 0 0 0 0 0 0 0 0 0 0 0 0 0 0 0 0 0 0 0 0 0 0 0 0 0 0 0 0 0 0 0 0 0 0 0 0 0 0 0 0 0 0 0 0 0 0 0 0 0 0 0 0 0 0 0 0 0 0 0 0 0 0 0 0 0 0 0 0 0 0 0 0 0 0 0 0 0 0 0 0 0 0 0 0 0 0 0 0\n",
      "03/15/2024 01:42:19 - INFO - utils_ner -   input_mask: 1 1 1 1 1 1 1 1 1 1 1 1 1 1 1 1 1 1 1 1 1 1 1 1 1 1 1 1 1 0 0 0 0 0 0 0 0 0 0 0 0 0 0 0 0 0 0 0 0 0 0 0 0 0 0 0 0 0 0 0 0 0 0 0 0 0 0 0 0 0 0 0 0 0 0 0 0 0 0 0 0 0 0 0 0 0 0 0 0 0 0 0 0 0 0 0 0 0 0 0 0 0 0 0 0 0 0 0 0 0 0 0 0 0 0 0 0 0 0 0 0 0 0 0 0 0 0 0\n",
      "03/15/2024 01:42:19 - INFO - utils_ner -   segment_ids: 0 0 0 0 0 0 0 0 0 0 0 0 0 0 0 0 0 0 0 0 0 0 0 0 0 0 0 0 0 0 0 0 0 0 0 0 0 0 0 0 0 0 0 0 0 0 0 0 0 0 0 0 0 0 0 0 0 0 0 0 0 0 0 0 0 0 0 0 0 0 0 0 0 0 0 0 0 0 0 0 0 0 0 0 0 0 0 0 0 0 0 0 0 0 0 0 0 0 0 0 0 0 0 0 0 0 0 0 0 0 0 0 0 0 0 0 0 0 0 0 0 0 0 0 0 0 0 0\n",
      "03/15/2024 01:42:19 - INFO - utils_ner -   label_ids: -100 4 4 4 4 4 4 4 4 4 4 4 4 4 4 0 4 4 4 4 4 4 4 4 4 4 4 4 -100 -100 -100 -100 -100 -100 -100 -100 -100 -100 -100 -100 -100 -100 -100 -100 -100 -100 -100 -100 -100 -100 -100 -100 -100 -100 -100 -100 -100 -100 -100 -100 -100 -100 -100 -100 -100 -100 -100 -100 -100 -100 -100 -100 -100 -100 -100 -100 -100 -100 -100 -100 -100 -100 -100 -100 -100 -100 -100 -100 -100 -100 -100 -100 -100 -100 -100 -100 -100 -100 -100 -100 -100 -100 -100 -100 -100 -100 -100 -100 -100 -100 -100 -100 -100 -100 -100 -100 -100 -100 -100 -100 -100 -100 -100 -100 -100 -100 -100 -100\n",
      "03/15/2024 01:42:19 - INFO - utils_ner -   *** Example ***\n",
      "03/15/2024 01:42:19 - INFO - utils_ner -   guid: test-4\n",
      "03/15/2024 01:42:19 - INFO - utils_ner -   tokens: [CLS] among the subjects treated with methadone , 28 % men and 32 % women had prolonged qtc interval . [SEP]\n",
      "03/15/2024 01:42:19 - INFO - utils_ner -   input_ids: 2 2706 1920 3297 2868 1956 20293 16 3158 9 3925 1930 3323 9 3089 2430 7171 23946 4979 18 3 0 0 0 0 0 0 0 0 0 0 0 0 0 0 0 0 0 0 0 0 0 0 0 0 0 0 0 0 0 0 0 0 0 0 0 0 0 0 0 0 0 0 0 0 0 0 0 0 0 0 0 0 0 0 0 0 0 0 0 0 0 0 0 0 0 0 0 0 0 0 0 0 0 0 0 0 0 0 0 0 0 0 0 0 0 0 0 0 0 0 0 0 0 0 0 0 0 0 0 0 0 0 0 0 0 0 0\n",
      "03/15/2024 01:42:19 - INFO - utils_ner -   input_mask: 1 1 1 1 1 1 1 1 1 1 1 1 1 1 1 1 1 1 1 1 1 0 0 0 0 0 0 0 0 0 0 0 0 0 0 0 0 0 0 0 0 0 0 0 0 0 0 0 0 0 0 0 0 0 0 0 0 0 0 0 0 0 0 0 0 0 0 0 0 0 0 0 0 0 0 0 0 0 0 0 0 0 0 0 0 0 0 0 0 0 0 0 0 0 0 0 0 0 0 0 0 0 0 0 0 0 0 0 0 0 0 0 0 0 0 0 0 0 0 0 0 0 0 0 0 0 0 0\n",
      "03/15/2024 01:42:19 - INFO - utils_ner -   segment_ids: 0 0 0 0 0 0 0 0 0 0 0 0 0 0 0 0 0 0 0 0 0 0 0 0 0 0 0 0 0 0 0 0 0 0 0 0 0 0 0 0 0 0 0 0 0 0 0 0 0 0 0 0 0 0 0 0 0 0 0 0 0 0 0 0 0 0 0 0 0 0 0 0 0 0 0 0 0 0 0 0 0 0 0 0 0 0 0 0 0 0 0 0 0 0 0 0 0 0 0 0 0 0 0 0 0 0 0 0 0 0 0 0 0 0 0 0 0 0 0 0 0 0 0 0 0 0 0 0\n",
      "03/15/2024 01:42:19 - INFO - utils_ner -   label_ids: -100 4 4 4 4 4 4 4 4 4 4 4 4 4 4 4 0 2 2 4 -100 -100 -100 -100 -100 -100 -100 -100 -100 -100 -100 -100 -100 -100 -100 -100 -100 -100 -100 -100 -100 -100 -100 -100 -100 -100 -100 -100 -100 -100 -100 -100 -100 -100 -100 -100 -100 -100 -100 -100 -100 -100 -100 -100 -100 -100 -100 -100 -100 -100 -100 -100 -100 -100 -100 -100 -100 -100 -100 -100 -100 -100 -100 -100 -100 -100 -100 -100 -100 -100 -100 -100 -100 -100 -100 -100 -100 -100 -100 -100 -100 -100 -100 -100 -100 -100 -100 -100 -100 -100 -100 -100 -100 -100 -100 -100 -100 -100 -100 -100 -100 -100 -100 -100 -100 -100 -100 -100\n",
      "03/15/2024 01:42:19 - INFO - utils_ner -   *** Example ***\n",
      "03/15/2024 01:42:19 - INFO - utils_ner -   guid: test-5\n",
      "03/15/2024 01:42:19 - INFO - utils_ner -   tokens: [CLS] a 50 mg higher methadone dose was associated with a 1 . [SEP]\n",
      "03/15/2024 01:42:19 - INFO - utils_ner -   input_ids: 2 43 2761 2786 2580 20293 3253 1982 2458 1956 43 21 18 3 0 0 0 0 0 0 0 0 0 0 0 0 0 0 0 0 0 0 0 0 0 0 0 0 0 0 0 0 0 0 0 0 0 0 0 0 0 0 0 0 0 0 0 0 0 0 0 0 0 0 0 0 0 0 0 0 0 0 0 0 0 0 0 0 0 0 0 0 0 0 0 0 0 0 0 0 0 0 0 0 0 0 0 0 0 0 0 0 0 0 0 0 0 0 0 0 0 0 0 0 0 0 0 0 0 0 0 0 0 0 0 0 0 0\n",
      "03/15/2024 01:42:19 - INFO - utils_ner -   input_mask: 1 1 1 1 1 1 1 1 1 1 1 1 1 1 0 0 0 0 0 0 0 0 0 0 0 0 0 0 0 0 0 0 0 0 0 0 0 0 0 0 0 0 0 0 0 0 0 0 0 0 0 0 0 0 0 0 0 0 0 0 0 0 0 0 0 0 0 0 0 0 0 0 0 0 0 0 0 0 0 0 0 0 0 0 0 0 0 0 0 0 0 0 0 0 0 0 0 0 0 0 0 0 0 0 0 0 0 0 0 0 0 0 0 0 0 0 0 0 0 0 0 0 0 0 0 0 0 0\n",
      "03/15/2024 01:42:19 - INFO - utils_ner -   segment_ids: 0 0 0 0 0 0 0 0 0 0 0 0 0 0 0 0 0 0 0 0 0 0 0 0 0 0 0 0 0 0 0 0 0 0 0 0 0 0 0 0 0 0 0 0 0 0 0 0 0 0 0 0 0 0 0 0 0 0 0 0 0 0 0 0 0 0 0 0 0 0 0 0 0 0 0 0 0 0 0 0 0 0 0 0 0 0 0 0 0 0 0 0 0 0 0 0 0 0 0 0 0 0 0 0 0 0 0 0 0 0 0 0 0 0 0 0 0 0 0 0 0 0 0 0 0 0 0 0\n",
      "03/15/2024 01:42:19 - INFO - utils_ner -   label_ids: -100 4 4 4 4 4 4 4 4 4 4 4 4 -100 -100 -100 -100 -100 -100 -100 -100 -100 -100 -100 -100 -100 -100 -100 -100 -100 -100 -100 -100 -100 -100 -100 -100 -100 -100 -100 -100 -100 -100 -100 -100 -100 -100 -100 -100 -100 -100 -100 -100 -100 -100 -100 -100 -100 -100 -100 -100 -100 -100 -100 -100 -100 -100 -100 -100 -100 -100 -100 -100 -100 -100 -100 -100 -100 -100 -100 -100 -100 -100 -100 -100 -100 -100 -100 -100 -100 -100 -100 -100 -100 -100 -100 -100 -100 -100 -100 -100 -100 -100 -100 -100 -100 -100 -100 -100 -100 -100 -100 -100 -100 -100 -100 -100 -100 -100 -100 -100 -100 -100 -100 -100 -100 -100 -100\n",
      "03/15/2024 01:42:20 - INFO - __main__ -   Saving features into cached file /content/drive/MyDrive/NER-BERT/data/Multi-Source/S800-Plantblog-Textberg-PDR-BC5CDR/biomed/cached_test_BiomedNLP-BiomedBERT-base-uncased-abstract-fulltext_128\n",
      "03/15/2024 01:42:20 - INFO - __main__ -   ***** Running evaluation  *****\n",
      "03/15/2024 01:42:20 - INFO - __main__ -     Num examples = 1242\n",
      "03/15/2024 01:42:20 - INFO - __main__ -     Batch size = 8\n",
      "Evaluating: 100% 156/156 [00:08<00:00, 18.20it/s]\n",
      "03/15/2024 01:42:29 - INFO - __main__ -   ***** Eval results  *****\n",
      "03/15/2024 01:42:29 - INFO - __main__ -     f1 = 0.8682077454217952\n",
      "03/15/2024 01:42:29 - INFO - __main__ -     loss = 0.08644668023085754\n",
      "03/15/2024 01:42:29 - INFO - __main__ -     precision = 0.8602022605591909\n",
      "03/15/2024 01:42:29 - INFO - __main__ -     recall = 0.8763636363636363\n"
     ]
    }
   ],
   "source": [
    "!python3 run_ner.py \\\n",
    "  --data_dir /content/drive/MyDrive/NER-BERT/data/Multi-Source/S800-Plantblog-Textberg-PDR-BC5CDR/bern2-ner \\\n",
    "  --model_type bert \\\n",
    "  --labels /content/drive/MyDrive/NER-BERT/data/Multi-Source/S800-Plantblog-Textberg-PDR-BC5CDR/bern2-ner/labels.txt \\\n",
    "  --model_name_or_path \"dmis-lab/biobert-v1.1\" \\\n",
    "  --output_dir \"/content/drive/MyDrive/NER-BERT/model/pst-pdr-bc5cdr/bern2-ner\" \\\n",
    "  --max_seq_length  128 \\\n",
    "  --num_train_epochs 10 \\\n",
    "  --per_gpu_train_batch_size 32 \\\n",
    "  --save_steps 1000 \\\n",
    "  --logging_steps 1000 \\\n",
    "  --seed 43 \\\n",
    "  --do_train \\\n",
    "  --do_eval \\\n",
    "  --do_predict \\\n",
    "  --overwrite_output_dir"
   ]
  },
  {
   "cell_type": "code",
   "execution_count": null,
   "metadata": {
    "id": "xolW8C6jq7ZH"
   },
   "outputs": [],
   "source": [
    "def read_examples_from_file(file_path):\n",
    "    \"\"\"Read words and labels from a Multi-source data file.\n",
    "\n",
    "    Args:\n",
    "      file_path (str): path to NER data file.\n",
    "\n",
    "    Returns:\n",
    "      examples (dict): a dictionary with two keys: words (list of lists)\n",
    "        holding words in each sequence, and labels (list of lists) holding\n",
    "        corresponding labels.\n",
    "    \"\"\"\n",
    "    with open(file_path, encoding=\"utf-8\") as f:\n",
    "        examples = {\"words\": [], \"labels\": []}\n",
    "        words = []\n",
    "        labels = []\n",
    "        for line in f:\n",
    "            if line.startswith(\"-DOCSTART-\") or line == \"\" or line == \"\\n\":\n",
    "                if words:\n",
    "                    examples[\"words\"].append(words)\n",
    "                    examples[\"labels\"].append(labels)\n",
    "                    words = []\n",
    "                    labels = []\n",
    "            else:\n",
    "                splits = line.split(\" \")\n",
    "                words.append(splits[0])\n",
    "                if len(splits) > 1:\n",
    "                    labels.append(splits[-1].replace(\"\\n\", \"\"))\n",
    "                else:\n",
    "                    # Examples could have no label for mode = \"test\"\n",
    "                    labels.append(\"O\")\n",
    "    return examples"
   ]
  },
  {
   "cell_type": "code",
   "execution_count": null,
   "metadata": {
    "id": "hvDg7jzKodvF"
   },
   "outputs": [],
   "source": [
    "y_true = read_examples_from_file(\"/content/drive/MyDrive/NER-BERT/data/Multi-Source/S800-Plantblog-Textberg-BC5CDR/biobert/test.txt\")[\"labels\"]\n",
    "y_pred = read_examples_from_file(\"/content/drive/MyDrive/NER-BERT/model/pst-bc5cdr/biobert/test_predictions.txt\")[\"labels\"]"
   ]
  },
  {
   "cell_type": "code",
   "execution_count": null,
   "metadata": {
    "colab": {
     "base_uri": "https://localhost:8080/"
    },
    "executionInfo": {
     "elapsed": 905,
     "status": "ok",
     "timestamp": 1708693852552,
     "user": {
      "displayName": "Slamet Riyanto",
      "userId": "06884706048938193264"
     },
     "user_tz": -420
    },
    "id": "s2jZgSRcrEy1",
    "outputId": "535377b6-a8b9-4181-96e7-d4f0af9aa4be"
   },
   "outputs": [
    {
     "name": "stdout",
     "output_type": "stream",
     "text": [
      "              precision    recall  f1-score   support\n",
      "\n",
      "     Disease       0.74      0.74      0.74       101\n",
      "       Plant       0.69      0.62      0.65        86\n",
      "\n",
      "   micro avg       0.72      0.68      0.70       187\n",
      "   macro avg       0.71      0.68      0.69       187\n",
      "weighted avg       0.71      0.68      0.70       187\n",
      "\n"
     ]
    }
   ],
   "source": [
    "from seqeval.metrics import classification_report as classification_report_seqeval\n",
    "\n",
    "print(classification_report_seqeval(y_true, y_pred))"
   ]
  },
  {
   "cell_type": "code",
   "execution_count": null,
   "metadata": {
    "colab": {
     "base_uri": "https://localhost:8080/"
    },
    "executionInfo": {
     "elapsed": 306,
     "status": "ok",
     "timestamp": 1708693858898,
     "user": {
      "displayName": "Slamet Riyanto",
      "userId": "06884706048938193264"
     },
     "user_tz": -420
    },
    "id": "dKQih-F1rPud",
    "outputId": "50236f1f-91c3-4e4a-bd3f-9f63c371feaf"
   },
   "outputs": [
    {
     "name": "stdout",
     "output_type": "stream",
     "text": [
      "              precision    recall  f1-score   support\n",
      "\n",
      "   B-Disease       0.82      0.78      0.80       101\n",
      "     B-Plant       0.81      0.73      0.77        85\n",
      "   I-Disease       0.67      0.81      0.73        52\n",
      "     I-Plant       0.94      0.59      0.72        29\n",
      "           O       0.96      0.97      0.97      1307\n",
      "\n",
      "    accuracy                           0.93      1574\n",
      "   macro avg       0.84      0.78      0.80      1574\n",
      "weighted avg       0.94      0.93      0.93      1574\n",
      "\n"
     ]
    }
   ],
   "source": [
    "import numpy as np\n",
    "from sklearn.metrics import classification_report\n",
    "\n",
    "print(classification_report(np.concatenate(y_true), np.concatenate(y_pred)))"
   ]
  },
  {
   "cell_type": "markdown",
   "metadata": {
    "id": "APOT_nyW8bOq"
   },
   "source": [
    "## **Plant-Disease | NCBI | BERT**"
   ]
  },
  {
   "cell_type": "code",
   "execution_count": null,
   "metadata": {
    "colab": {
     "base_uri": "https://localhost:8080/"
    },
    "executionInfo": {
     "elapsed": 1247,
     "status": "ok",
     "timestamp": 1708734214387,
     "user": {
      "displayName": "Slamet Riyanto",
      "userId": "06884706048938193264"
     },
     "user_tz": -420
    },
    "id": "4IU0u1A1tisb",
    "outputId": "5c484efd-4111-4540-f0bc-abb6bcc4b06b"
   },
   "outputs": [
    {
     "name": "stdout",
     "output_type": "stream",
     "text": [
      "              precision    recall  f1-score   support\n",
      "\n",
      "     Disease       0.84      0.85      0.84      1060\n",
      "       Plant       0.80      0.63      0.71        87\n",
      "\n",
      "   micro avg       0.84      0.83      0.84      1147\n",
      "   macro avg       0.82      0.74      0.78      1147\n",
      "weighted avg       0.84      0.83      0.83      1147\n",
      "\n"
     ]
    }
   ],
   "source": [
    "from seqeval.metrics import classification_report as classification_report_seqeval\n",
    "\n",
    "print(classification_report_seqeval(y_true, y_pred))"
   ]
  },
  {
   "cell_type": "code",
   "execution_count": null,
   "metadata": {
    "colab": {
     "base_uri": "https://localhost:8080/"
    },
    "executionInfo": {
     "elapsed": 541,
     "status": "ok",
     "timestamp": 1708734222919,
     "user": {
      "displayName": "Slamet Riyanto",
      "userId": "06884706048938193264"
     },
     "user_tz": -420
    },
    "id": "qP0bz1Pjtiux",
    "outputId": "52b48228-c6c6-432b-d1b6-83b84e6fef8d"
   },
   "outputs": [
    {
     "name": "stdout",
     "output_type": "stream",
     "text": [
      "              precision    recall  f1-score   support\n",
      "\n",
      "   B-Disease       0.87      0.86      0.86      1060\n",
      "     B-Plant       0.90      0.70      0.78        86\n",
      "   I-Disease       0.87      0.90      0.88      1137\n",
      "     I-Plant       0.91      0.72      0.81        29\n",
      "           O       0.99      0.99      0.99     23767\n",
      "\n",
      "    accuracy                           0.98     26079\n",
      "   macro avg       0.91      0.83      0.87     26079\n",
      "weighted avg       0.98      0.98      0.98     26079\n",
      "\n"
     ]
    }
   ],
   "source": [
    "import numpy as np\n",
    "from sklearn.metrics import classification_report\n",
    "\n",
    "print(classification_report(np.concatenate(y_true), np.concatenate(y_pred)))"
   ]
  },
  {
   "cell_type": "markdown",
   "metadata": {
    "id": "rem1SpPcaSLb"
   },
   "source": [
    "## **Plant-Disease | NCBI | BioBERT | Clean**"
   ]
  },
  {
   "cell_type": "code",
   "execution_count": null,
   "metadata": {
    "colab": {
     "base_uri": "https://localhost:8080/"
    },
    "executionInfo": {
     "elapsed": 1048,
     "status": "ok",
     "timestamp": 1709078251854,
     "user": {
      "displayName": "Slamet Riyanto",
      "userId": "06884706048938193264"
     },
     "user_tz": -420
    },
    "id": "IFYkFDOjaS0k",
    "outputId": "a9a3891e-5505-4898-cc1a-f9d6f9182d8c"
   },
   "outputs": [
    {
     "name": "stdout",
     "output_type": "stream",
     "text": [
      "              precision    recall  f1-score   support\n",
      "\n",
      "     Disease       0.80      0.89      0.84      1060\n",
      "       Plant       0.84      0.80      0.82        87\n",
      "\n",
      "   micro avg       0.80      0.88      0.84      1147\n",
      "   macro avg       0.82      0.85      0.83      1147\n",
      "weighted avg       0.81      0.88      0.84      1147\n",
      "\n"
     ]
    }
   ],
   "source": [
    "from seqeval.metrics import classification_report as classification_report_seqeval\n",
    "\n",
    "print(classification_report_seqeval(y_true, y_pred))"
   ]
  },
  {
   "cell_type": "code",
   "execution_count": null,
   "metadata": {
    "colab": {
     "base_uri": "https://localhost:8080/"
    },
    "executionInfo": {
     "elapsed": 424,
     "status": "ok",
     "timestamp": 1709078258749,
     "user": {
      "displayName": "Slamet Riyanto",
      "userId": "06884706048938193264"
     },
     "user_tz": -420
    },
    "id": "EOVw8ackaVFF",
    "outputId": "84d729f5-2846-4309-f825-0efd7ea6d72d"
   },
   "outputs": [
    {
     "name": "stdout",
     "output_type": "stream",
     "text": [
      "              precision    recall  f1-score   support\n",
      "\n",
      "   B-Disease       0.84      0.91      0.88      1060\n",
      "     B-Plant       0.90      0.87      0.89        86\n",
      "   I-Disease       0.86      0.93      0.89      1137\n",
      "     I-Plant       0.88      0.76      0.81        29\n",
      "           O       0.99      0.99      0.99     23767\n",
      "\n",
      "    accuracy                           0.98     26079\n",
      "   macro avg       0.90      0.89      0.89     26079\n",
      "weighted avg       0.98      0.98      0.98     26079\n",
      "\n"
     ]
    }
   ],
   "source": [
    "import numpy as np\n",
    "from sklearn.metrics import classification_report\n",
    "\n",
    "print(classification_report(np.concatenate(y_true), np.concatenate(y_pred)))"
   ]
  },
  {
   "cell_type": "markdown",
   "metadata": {
    "id": "leHcXFdG-_q4"
   },
   "source": [
    "## **Plant-Disease | BC5CDR | BERT**\n",
    "\n",
    "---\n",
    "\n"
   ]
  },
  {
   "cell_type": "code",
   "execution_count": null,
   "metadata": {
    "id": "_cHX0aaOtixJ"
   },
   "outputs": [],
   "source": [
    "y_true = read_examples_from_file(\"/content/drive/MyDrive/NER-BERT/data/pd-bc5/biobert/test.txt\")[\"labels\"]\n",
    "y_pred = read_examples_from_file(\"/content/drive/MyDrive/NER-BERT/model/pd-bc5/biobert/test_predictions.txt\")[\"labels\"]"
   ]
  },
  {
   "cell_type": "code",
   "execution_count": null,
   "metadata": {
    "colab": {
     "base_uri": "https://localhost:8080/"
    },
    "executionInfo": {
     "elapsed": 2670,
     "status": "ok",
     "timestamp": 1709097851781,
     "user": {
      "displayName": "Slamet Riyanto",
      "userId": "06884706048938193264"
     },
     "user_tz": -420
    },
    "id": "uv72e-Lz-67f",
    "outputId": "41e05006-d8fc-4925-ed70-16604218bf09"
   },
   "outputs": [
    {
     "name": "stdout",
     "output_type": "stream",
     "text": [
      "              precision    recall  f1-score   support\n",
      "\n",
      "     Disease       0.83      0.85      0.84      4284\n",
      "       Plant       0.55      0.71      0.62        87\n",
      "\n",
      "   micro avg       0.82      0.84      0.83      4371\n",
      "   macro avg       0.69      0.78      0.73      4371\n",
      "weighted avg       0.82      0.84      0.83      4371\n",
      "\n"
     ]
    }
   ],
   "source": [
    "from seqeval.metrics import classification_report as classification_report_seqeval\n",
    "\n",
    "print(classification_report_seqeval(y_true, y_pred))"
   ]
  },
  {
   "cell_type": "code",
   "execution_count": null,
   "metadata": {
    "colab": {
     "base_uri": "https://localhost:8080/"
    },
    "executionInfo": {
     "elapsed": 2431,
     "status": "ok",
     "timestamp": 1709097858544,
     "user": {
      "displayName": "Slamet Riyanto",
      "userId": "06884706048938193264"
     },
     "user_tz": -420
    },
    "id": "l7khFq7ttizO",
    "outputId": "0c004046-325b-4ccd-a4e9-b43a4444c879"
   },
   "outputs": [
    {
     "name": "stdout",
     "output_type": "stream",
     "text": [
      "              precision    recall  f1-score   support\n",
      "\n",
      "   B-Disease       0.88      0.88      0.88      4284\n",
      "     B-Plant       0.61      0.80      0.69        86\n",
      "   I-Disease       0.86      0.75      0.80      2971\n",
      "     I-Plant       0.61      0.66      0.63        29\n",
      "           O       0.99      0.99      0.99    112393\n",
      "\n",
      "    accuracy                           0.98    119763\n",
      "   macro avg       0.79      0.82      0.80    119763\n",
      "weighted avg       0.98      0.98      0.98    119763\n",
      "\n"
     ]
    }
   ],
   "source": [
    "import numpy as np\n",
    "from sklearn.metrics import classification_report\n",
    "\n",
    "print(classification_report(np.concatenate(y_true), np.concatenate(y_pred)))\n"
   ]
  },
  {
   "cell_type": "markdown",
   "metadata": {
    "id": "f8D78dqFAjVB"
   },
   "source": [
    "## **Plant-Disease | BC5CDR | BioBERT**"
   ]
  },
  {
   "cell_type": "code",
   "execution_count": null,
   "metadata": {
    "id": "RNhf_3ThAuo4"
   },
   "outputs": [],
   "source": [
    "y_true = read_examples_from_file(\"/content/drive/MyDrive/NER-BERT/data/pd-bc5/ready/test.txt\")[\"labels\"]\n",
    "y_pred = read_examples_from_file(\"/content/drive/MyDrive/NER-BERT/model/pd-bc5/test_predictions.txt\")[\"labels\"]"
   ]
  },
  {
   "cell_type": "code",
   "execution_count": null,
   "metadata": {
    "colab": {
     "base_uri": "https://localhost:8080/"
    },
    "executionInfo": {
     "elapsed": 5268,
     "status": "ok",
     "timestamp": 1708710570032,
     "user": {
      "displayName": "Slamet Riyanto",
      "userId": "06884706048938193264"
     },
     "user_tz": -420
    },
    "id": "O9bImRKNti1k",
    "outputId": "a7868c09-31d3-4f1a-ab5a-4efc94f22665"
   },
   "outputs": [
    {
     "name": "stdout",
     "output_type": "stream",
     "text": [
      "              precision    recall  f1-score   support\n",
      "\n",
      "     Disease       0.83      0.79      0.81      4285\n",
      "       Plant       0.62      0.63      0.62        86\n",
      "\n",
      "   micro avg       0.82      0.78      0.80      4371\n",
      "   macro avg       0.72      0.71      0.72      4371\n",
      "weighted avg       0.83      0.78      0.80      4371\n",
      "\n"
     ]
    }
   ],
   "source": [
    "from seqeval.metrics import classification_report as classification_report_seqeval\n",
    "\n",
    "print(classification_report_seqeval(y_true, y_pred))"
   ]
  },
  {
   "cell_type": "code",
   "execution_count": null,
   "metadata": {
    "colab": {
     "base_uri": "https://localhost:8080/"
    },
    "executionInfo": {
     "elapsed": 2675,
     "status": "ok",
     "timestamp": 1708710658538,
     "user": {
      "displayName": "Slamet Riyanto",
      "userId": "06884706048938193264"
     },
     "user_tz": -420
    },
    "id": "-uLbgB7Iti34",
    "outputId": "8f82c086-b5f7-4c7b-e708-7ce31c70ecb1"
   },
   "outputs": [
    {
     "name": "stdout",
     "output_type": "stream",
     "text": [
      "              precision    recall  f1-score   support\n",
      "\n",
      "   B-Disease       0.87      0.81      0.84      4284\n",
      "     B-Plant       0.70      0.71      0.70        85\n",
      "   I-Disease       0.85      0.69      0.76      2971\n",
      "     I-Plant       0.74      0.69      0.71        29\n",
      "           O       0.99      0.99      0.99    112394\n",
      "\n",
      "    accuracy                           0.98    119763\n",
      "   macro avg       0.83      0.78      0.80    119763\n",
      "weighted avg       0.98      0.98      0.98    119763\n",
      "\n"
     ]
    }
   ],
   "source": [
    "import numpy as np\n",
    "from sklearn.metrics import classification_report\n",
    "\n",
    "print(classification_report(np.concatenate(y_true), np.concatenate(y_pred)))"
   ]
  },
  {
   "cell_type": "markdown",
   "metadata": {
    "id": "FdEOh9UnMWiw"
   },
   "source": [
    "## **BC5CDR - Plantblog - S100 - Textberg | BioBERT**"
   ]
  },
  {
   "cell_type": "code",
   "execution_count": null,
   "metadata": {
    "colab": {
     "base_uri": "https://localhost:8080/"
    },
    "executionInfo": {
     "elapsed": 675,
     "status": "ok",
     "timestamp": 1709198955650,
     "user": {
      "displayName": "Slamet Riyanto",
      "userId": "06884706048938193264"
     },
     "user_tz": -420
    },
    "id": "1xBAlTVKMWzJ",
    "outputId": "70ea6741-1047-45f9-8363-39910fe73dc9"
   },
   "outputs": [
    {
     "name": "stdout",
     "output_type": "stream",
     "text": [
      "              precision    recall  f1-score   support\n",
      "\n",
      "     Disease       0.86      0.87      0.87      1174\n",
      "       Plant       0.81      0.88      0.84       283\n",
      "\n",
      "   micro avg       0.85      0.87      0.86      1457\n",
      "   macro avg       0.84      0.87      0.85      1457\n",
      "weighted avg       0.85      0.87      0.86      1457\n",
      "\n"
     ]
    }
   ],
   "source": [
    "from seqeval.metrics import classification_report as classification_report_seqeval\n",
    "\n",
    "print(classification_report_seqeval(y_true, y_pred))"
   ]
  },
  {
   "cell_type": "code",
   "execution_count": null,
   "metadata": {
    "colab": {
     "base_uri": "https://localhost:8080/"
    },
    "executionInfo": {
     "elapsed": 802,
     "status": "ok",
     "timestamp": 1709198966847,
     "user": {
      "displayName": "Slamet Riyanto",
      "userId": "06884706048938193264"
     },
     "user_tz": -420
    },
    "id": "U3i_qJMJMZBH",
    "outputId": "90e393d6-4d51-469d-d6b5-67c5a7482eb9"
   },
   "outputs": [
    {
     "name": "stdout",
     "output_type": "stream",
     "text": [
      "              precision    recall  f1-score   support\n",
      "\n",
      "   B-Disease       0.90      0.89      0.89      1174\n",
      "     B-Plant       0.86      0.91      0.89       281\n",
      "   I-Disease       0.86      0.85      0.86       746\n",
      "     I-Plant       0.86      0.93      0.89       215\n",
      "           O       0.99      0.99      0.99     23419\n",
      "\n",
      "    accuracy                           0.98     25835\n",
      "   macro avg       0.89      0.91      0.90     25835\n",
      "weighted avg       0.98      0.98      0.98     25835\n",
      "\n"
     ]
    }
   ],
   "source": [
    "import numpy as np\n",
    "from sklearn.metrics import classification_report\n",
    "\n",
    "print(classification_report(np.concatenate(y_true), np.concatenate(y_pred)))"
   ]
  },
  {
   "cell_type": "markdown",
   "metadata": {
    "id": "QnAWV5eHN6gi"
   },
   "source": [
    "# **Train: BC5CDR - Plantblog - S100 - Textberg | Test: Plant-Disease**\n"
   ]
  },
  {
   "cell_type": "code",
   "execution_count": null,
   "metadata": {
    "id": "J2Q8jcOXOH0C"
   },
   "outputs": [],
   "source": [
    "y_true = read_examples_from_file(\"/content/drive/MyDrive/NER-BERT/data/Multi-Source/S800-Plantblog-Textberg-BC5CDR/biobert/test.txt\")[\"labels\"]\n",
    "y_pred = read_examples_from_file(\"/content/drive/MyDrive/NER-BERT/model/pst-bc5cdr-pdr/biobert/test_predictions.txt\")[\"labels\"]"
   ]
  },
  {
   "cell_type": "code",
   "execution_count": null,
   "metadata": {
    "colab": {
     "base_uri": "https://localhost:8080/"
    },
    "executionInfo": {
     "elapsed": 1882,
     "status": "ok",
     "timestamp": 1709202910532,
     "user": {
      "displayName": "Slamet Riyanto",
      "userId": "06884706048938193264"
     },
     "user_tz": -420
    },
    "id": "hUQvh8g9OH8F",
    "outputId": "f7afc2a1-84a4-4fdb-e2bc-087c7984e3d2"
   },
   "outputs": [
    {
     "name": "stdout",
     "output_type": "stream",
     "text": [
      "              precision    recall  f1-score   support\n",
      "\n",
      "     Disease       0.85      0.85      0.85      1275\n",
      "       Plant       0.58      0.17      0.27        87\n",
      "\n",
      "   micro avg       0.85      0.81      0.83      1362\n",
      "   macro avg       0.72      0.51      0.56      1362\n",
      "weighted avg       0.84      0.81      0.81      1362\n",
      "\n"
     ]
    }
   ],
   "source": [
    "from seqeval.metrics import classification_report as classification_report_seqeval\n",
    "\n",
    "print(classification_report_seqeval(y_true, y_pred))"
   ]
  },
  {
   "cell_type": "code",
   "execution_count": null,
   "metadata": {
    "colab": {
     "base_uri": "https://localhost:8080/"
    },
    "executionInfo": {
     "elapsed": 1481,
     "status": "ok",
     "timestamp": 1709202928154,
     "user": {
      "displayName": "Slamet Riyanto",
      "userId": "06884706048938193264"
     },
     "user_tz": -420
    },
    "id": "uQ63S1_BbtyW",
    "outputId": "cafe6de3-133f-4628-aa49-5fa5b6b9547a"
   },
   "outputs": [
    {
     "name": "stdout",
     "output_type": "stream",
     "text": [
      "              precision    recall  f1-score   support\n",
      "\n",
      "   B-Disease       0.90      0.88      0.89      1275\n",
      "     B-Plant       0.65      0.20      0.30        86\n",
      "   I-Disease       0.83      0.85      0.84       796\n",
      "     I-Plant       0.64      0.24      0.35        29\n",
      "           O       0.99      0.99      0.99     21238\n",
      "\n",
      "    accuracy                           0.98     23424\n",
      "   macro avg       0.80      0.63      0.67     23424\n",
      "weighted avg       0.98      0.98      0.98     23424\n",
      "\n"
     ]
    }
   ],
   "source": [
    "import numpy as np\n",
    "from sklearn.metrics import classification_report\n",
    "\n",
    "print(classification_report(np.concatenate(y_true), np.concatenate(y_pred)))"
   ]
  },
  {
   "cell_type": "markdown",
   "metadata": {
    "id": "SvP9e8gFnFh4"
   },
   "source": [
    "## **Train & Test = BC5CDR - Plantblog - S100 - Textberg - PDR**"
   ]
  },
  {
   "cell_type": "code",
   "execution_count": null,
   "metadata": {
    "id": "UJM_iu5cOIOU"
   },
   "outputs": [],
   "source": [
    "y_true = read_examples_from_file(\"/content/drive/MyDrive/NER-BERT/data/Multi-Source/S800-Plantblog-Textberg-BC5CDR/biobert/test.txt\")[\"labels\"]\n",
    "y_pred = read_examples_from_file(\"/content/drive/MyDrive/NER-BERT/model/pst-bc5cdr-pdr3/biobert/test_predictions.txt\")[\"labels\"]"
   ]
  },
  {
   "cell_type": "code",
   "execution_count": null,
   "metadata": {
    "colab": {
     "base_uri": "https://localhost:8080/"
    },
    "executionInfo": {
     "elapsed": 1341,
     "status": "ok",
     "timestamp": 1709215573107,
     "user": {
      "displayName": "Slamet Riyanto",
      "userId": "06884706048938193264"
     },
     "user_tz": -420
    },
    "id": "psUTW8EenZw2",
    "outputId": "56ff7473-8baf-4f5a-9f40-9cbfbb95d30e"
   },
   "outputs": [
    {
     "name": "stdout",
     "output_type": "stream",
     "text": [
      "              precision    recall  f1-score   support\n",
      "\n",
      "     Disease       0.86      0.86      0.86      1275\n",
      "       Plant       0.82      0.84      0.83       374\n",
      "\n",
      "   micro avg       0.85      0.86      0.85      1649\n",
      "   macro avg       0.84      0.85      0.85      1649\n",
      "weighted avg       0.85      0.86      0.85      1649\n",
      "\n"
     ]
    }
   ],
   "source": [
    "from seqeval.metrics import classification_report as classification_report_seqeval\n",
    "\n",
    "print(classification_report_seqeval(y_true, y_pred))"
   ]
  },
  {
   "cell_type": "code",
   "execution_count": null,
   "metadata": {
    "colab": {
     "base_uri": "https://localhost:8080/"
    },
    "executionInfo": {
     "elapsed": 1489,
     "status": "ok",
     "timestamp": 1709215580076,
     "user": {
      "displayName": "Slamet Riyanto",
      "userId": "06884706048938193264"
     },
     "user_tz": -420
    },
    "id": "0FduxrQ_nZy-",
    "outputId": "4f952ca0-efd6-4285-c996-cc7751043464"
   },
   "outputs": [
    {
     "name": "stdout",
     "output_type": "stream",
     "text": [
      "              precision    recall  f1-score   support\n",
      "\n",
      "   B-Disease       0.89      0.88      0.89      1275\n",
      "     B-Plant       0.85      0.87      0.86       371\n",
      "   I-Disease       0.84      0.86      0.85       798\n",
      "     I-Plant       0.89      0.92      0.90       251\n",
      "           O       0.99      0.99      0.99     24753\n",
      "\n",
      "    accuracy                           0.98     27448\n",
      "   macro avg       0.89      0.90      0.90     27448\n",
      "weighted avg       0.98      0.98      0.98     27448\n",
      "\n"
     ]
    }
   ],
   "source": [
    "import numpy as np\n",
    "from sklearn.metrics import classification_report\n",
    "\n",
    "print(classification_report(np.concatenate(y_true), np.concatenate(y_pred)))"
   ]
  },
  {
   "cell_type": "markdown",
   "metadata": {
    "id": "oxKxeFXE_kHC"
   },
   "source": [
    "## **Train & Test = BC5CDR - Plantblog - S100 - Textberg - PDR | epoch = 10**"
   ]
  },
  {
   "cell_type": "code",
   "execution_count": null,
   "metadata": {
    "id": "rOttzrgx_kVl"
   },
   "outputs": [],
   "source": [
    "y_true = read_examples_from_file(\"/content/drive/MyDrive/NER-BERT/data/Multi-Source/S800-Plantblog-Textberg-BC5CDR/biobert/test.txt\")[\"labels\"]\n",
    "y_pred = read_examples_from_file(\"/content/drive/MyDrive/NER-BERT/model/pst-bc5cdr-pdr-e10/biobert/test_predictions.txt\")[\"labels\"]"
   ]
  },
  {
   "cell_type": "code",
   "execution_count": null,
   "metadata": {
    "colab": {
     "base_uri": "https://localhost:8080/"
    },
    "executionInfo": {
     "elapsed": 815,
     "status": "ok",
     "timestamp": 1709251822173,
     "user": {
      "displayName": "Slamet Riyanto",
      "userId": "06884706048938193264"
     },
     "user_tz": -420
    },
    "id": "mgAZUru2_m3n",
    "outputId": "9bc41d67-1f15-4bcf-bc42-0c012f22ac95"
   },
   "outputs": [
    {
     "name": "stdout",
     "output_type": "stream",
     "text": [
      "              precision    recall  f1-score   support\n",
      "\n",
      "     Disease       0.86      0.88      0.87      1275\n",
      "       Plant       0.86      0.85      0.86       374\n",
      "\n",
      "   micro avg       0.86      0.87      0.86      1649\n",
      "   macro avg       0.86      0.86      0.86      1649\n",
      "weighted avg       0.86      0.87      0.86      1649\n",
      "\n"
     ]
    }
   ],
   "source": [
    "from seqeval.metrics import classification_report as classification_report_seqeval\n",
    "\n",
    "print(classification_report_seqeval(y_true, y_pred))"
   ]
  },
  {
   "cell_type": "code",
   "execution_count": null,
   "metadata": {
    "colab": {
     "base_uri": "https://localhost:8080/"
    },
    "executionInfo": {
     "elapsed": 784,
     "status": "ok",
     "timestamp": 1709251828326,
     "user": {
      "displayName": "Slamet Riyanto",
      "userId": "06884706048938193264"
     },
     "user_tz": -420
    },
    "id": "3PXzBFs5_kYs",
    "outputId": "aba8dcc6-bea7-4733-bbc4-634093111db3"
   },
   "outputs": [
    {
     "name": "stdout",
     "output_type": "stream",
     "text": [
      "              precision    recall  f1-score   support\n",
      "\n",
      "   B-Disease       0.89      0.90      0.89      1275\n",
      "     B-Plant       0.88      0.87      0.88       371\n",
      "   I-Disease       0.85      0.86      0.85       798\n",
      "     I-Plant       0.88      0.94      0.91       251\n",
      "           O       0.99      0.99      0.99     24753\n",
      "\n",
      "    accuracy                           0.98     27448\n",
      "   macro avg       0.90      0.91      0.90     27448\n",
      "weighted avg       0.98      0.98      0.98     27448\n",
      "\n"
     ]
    }
   ],
   "source": [
    "import numpy as np\n",
    "from sklearn.metrics import classification_report\n",
    "\n",
    "print(classification_report(np.concatenate(y_true), np.concatenate(y_pred)))"
   ]
  },
  {
   "cell_type": "markdown",
   "metadata": {
    "id": "cjbOlAh4wCjM"
   },
   "source": [
    "# **Plantblog, S800, Textblog, BC5DR**"
   ]
  },
  {
   "cell_type": "code",
   "execution_count": null,
   "metadata": {
    "id": "6iSTkIXywJMT"
   },
   "outputs": [],
   "source": [
    "y_true = read_examples_from_file(\"/content/drive/MyDrive/NER-BERT/data/Multi-Source/S800-Plantblog-Textberg-BC5CDR/biobert/test.txt\")[\"labels\"]\n",
    "y_pred = read_examples_from_file(\"/content/drive/MyDrive/NER-BERT/model/pst-bc5cdr-new/biobert/test_predictions.txt\")[\"labels\"]"
   ]
  },
  {
   "cell_type": "code",
   "execution_count": null,
   "metadata": {
    "colab": {
     "base_uri": "https://localhost:8080/"
    },
    "executionInfo": {
     "elapsed": 1597,
     "status": "ok",
     "timestamp": 1709376088807,
     "user": {
      "displayName": "Slamet Riyanto",
      "userId": "06884706048938193264"
     },
     "user_tz": -420
    },
    "id": "Nm-jbPhGwRlN",
    "outputId": "ed3da448-7fc0-4d02-9d16-8f2757c413f4"
   },
   "outputs": [
    {
     "name": "stdout",
     "output_type": "stream",
     "text": [
      "              precision    recall  f1-score   support\n",
      "\n",
      "     Disease       0.87      0.88      0.87      1173\n",
      "       Plant       0.85      0.89      0.87       288\n",
      "\n",
      "   micro avg       0.86      0.88      0.87      1461\n",
      "   macro avg       0.86      0.88      0.87      1461\n",
      "weighted avg       0.86      0.88      0.87      1461\n",
      "\n"
     ]
    }
   ],
   "source": [
    "from seqeval.metrics import classification_report as classification_report_seqeval\n",
    "\n",
    "print(classification_report_seqeval(y_true, y_pred))"
   ]
  },
  {
   "cell_type": "code",
   "execution_count": null,
   "metadata": {
    "colab": {
     "base_uri": "https://localhost:8080/"
    },
    "executionInfo": {
     "elapsed": 544,
     "status": "ok",
     "timestamp": 1709376103295,
     "user": {
      "displayName": "Slamet Riyanto",
      "userId": "06884706048938193264"
     },
     "user_tz": -420
    },
    "id": "kb3G7YvMwSp2",
    "outputId": "12321fe7-40a5-41cb-9842-50679362df32"
   },
   "outputs": [
    {
     "name": "stdout",
     "output_type": "stream",
     "text": [
      "              precision    recall  f1-score   support\n",
      "\n",
      "   B-Disease       0.90      0.89      0.89      1173\n",
      "     B-Plant       0.89      0.91      0.90       286\n",
      "   I-Disease       0.84      0.86      0.85       743\n",
      "     I-Plant       0.89      0.94      0.91       222\n",
      "           O       0.99      0.99      0.99     23439\n",
      "\n",
      "    accuracy                           0.98     25863\n",
      "   macro avg       0.90      0.92      0.91     25863\n",
      "weighted avg       0.98      0.98      0.98     25863\n",
      "\n"
     ]
    }
   ],
   "source": [
    "import numpy as np\n",
    "from sklearn.metrics import classification_report\n",
    "\n",
    "print(classification_report(np.concatenate(y_true), np.concatenate(y_pred)))"
   ]
  },
  {
   "cell_type": "markdown",
   "metadata": {
    "id": "6GUMUu7fKY5n"
   },
   "source": [
    "# **Uji Kinerja Model**"
   ]
  },
  {
   "cell_type": "code",
   "execution_count": null,
   "metadata": {
    "id": "6jUWUmC8seA8"
   },
   "outputs": [],
   "source": [
    "from transformers import pipeline, AutoModelForTokenClassification, AutoTokenizer\n",
    "\n",
    "model = AutoModelForTokenClassification.from_pretrained(\"/content/drive/MyDrive/NER-BERT/model/pst-bc5cdr-pdr3/biobert\")\n",
    "tokenizer = AutoTokenizer.from_pretrained(\"/content/drive/MyDrive/NER-BERT/model/pst-bc5cdr-pdr3/biobert\")\n",
    "\n",
    "ner_model = pipeline('ner', model=model, tokenizer=tokenizer)"
   ]
  },
  {
   "cell_type": "code",
   "execution_count": null,
   "metadata": {
    "id": "bmPWZ13ds0pP"
   },
   "outputs": [],
   "source": [
    "sequence = \"Thymus quinquecostatus Celak. (Korean name: bak-ri-hyang) is an important medicinal and aromatic herb in Korea, which is named for the spread of its fragrance over a distance of approximately 40 km. In traditional Korean systems of medicine, T. quinquecostatus has been used to treat cancer, constipation, hepatic disease, arteriosclerosis, poor circulation in women, constipation, and menstrual irregularities.\"\n",
    "#ner_model(sequence)"
   ]
  },
  {
   "cell_type": "code",
   "execution_count": null,
   "metadata": {
    "colab": {
     "base_uri": "https://localhost:8080/"
    },
    "executionInfo": {
     "elapsed": 856,
     "status": "ok",
     "timestamp": 1710324102001,
     "user": {
      "displayName": "Slamet Riyanto",
      "userId": "06884706048938193264"
     },
     "user_tz": -420
    },
    "id": "oq8do8gTxsKb",
    "outputId": "da4af0ad-201d-4f45-e645-681ebecf13f5"
   },
   "outputs": [
    {
     "name": "stdout",
     "output_type": "stream",
     "text": [
      "[{'entity': 'B-Plant', 'score': 0.9979322, 'index': 1, 'word': 'Thymus', 'start': 0, 'end': 6}, {'entity': 'I-Plant', 'score': 0.9971956, 'index': 4, 'word': 'quinquecostatus', 'start': 7, 'end': 22}, {'entity': 'B-Plant', 'score': 0.99751306, 'index': 63, 'word': 'T', 'start': 249, 'end': 250}, {'entity': 'I-Plant', 'score': 0.9961617, 'index': 65, 'word': 'quinquecostatus', 'start': 252, 'end': 260}, {'entity': 'B-Disease', 'score': 0.9712861, 'index': 83, 'word': 'hepatic', 'start': 313, 'end': 313}, {'entity': 'I-Disease', 'score': 0.9907659, 'index': 86, 'word': 'disease', 'start': 321, 'end': 328}, {'entity': 'B-Disease', 'score': 0.94425815, 'index': 88, 'word': 'arteriosclerosis', 'start': 330, 'end': 339}, {'entity': 'B-Disease', 'score': 0.71015173, 'index': 99, 'word': 'constation', 'start': 375, 'end': 380}, {'entity': 'B-Disease', 'score': 0.9156232, 'index': 105, 'word': 'menstrual', 'start': 393, 'end': 395}, {'entity': 'I-Disease', 'score': 0.98608786, 'index': 109, 'word': 'irregularities', 'start': 403, 'end': 410}]\n"
     ]
    }
   ],
   "source": [
    "# Get the NER results\n",
    "ner_results = ner_model(sequence)\n",
    "\n",
    "# Post-process the NER results to concatenate subwords correctly\n",
    "decoded_sequence = tokenizer.decode(tokenizer.encode(sequence, add_special_tokens=False))\n",
    "\n",
    "final_results = []\n",
    "current_entity = None\n",
    "\n",
    "for entity in ner_results:\n",
    "    if '##' in entity['word']:\n",
    "        # Concatenate the subword with the previous one\n",
    "        current_entity['word'] += entity['word'].replace('##', '')\n",
    "        current_entity['end'] = entity['end']\n",
    "    else:\n",
    "        # Save the current entity and update it\n",
    "        if current_entity:\n",
    "            final_results.append(current_entity)\n",
    "        current_entity = entity\n",
    "        current_entity['word'] = entity['word']\n",
    "        current_entity['start'] = decoded_sequence.find(entity['word'], entity['start'])\n",
    "        current_entity['end'] = current_entity['start'] + len(current_entity['word'])\n",
    "\n",
    "# Append the last entity\n",
    "if current_entity:\n",
    "    final_results.append(current_entity)\n",
    "\n",
    "# Filter out entities with '##' in the word\n",
    "final_results = [entity for entity in final_results if '##' not in entity['word']]\n",
    "\n",
    "# Print the modified output\n",
    "print(final_results)"
   ]
  },
  {
   "cell_type": "code",
   "execution_count": null,
   "metadata": {
    "colab": {
     "base_uri": "https://localhost:8080/"
    },
    "executionInfo": {
     "elapsed": 1160,
     "status": "ok",
     "timestamp": 1710326759844,
     "user": {
      "displayName": "Slamet Riyanto",
      "userId": "06884706048938193264"
     },
     "user_tz": -420
    },
    "id": "MRPG_64daO_h",
    "outputId": "1563f6d8-c20b-4f0c-8e66-be6ad5f863dd"
   },
   "outputs": [
    {
     "data": {
      "text/plain": [
       "[{'entity': 'B-Plant',\n",
       "  'score': 0.9979322,\n",
       "  'index': 1,\n",
       "  'word': 'T',\n",
       "  'start': 0,\n",
       "  'end': 1},\n",
       " {'entity': 'B-Plant',\n",
       "  'score': 0.98963493,\n",
       "  'index': 2,\n",
       "  'word': '##hy',\n",
       "  'start': 1,\n",
       "  'end': 3},\n",
       " {'entity': 'I-Plant',\n",
       "  'score': 0.97208077,\n",
       "  'index': 3,\n",
       "  'word': '##mus',\n",
       "  'start': 3,\n",
       "  'end': 6},\n",
       " {'entity': 'I-Plant',\n",
       "  'score': 0.9971956,\n",
       "  'index': 4,\n",
       "  'word': 'q',\n",
       "  'start': 7,\n",
       "  'end': 8},\n",
       " {'entity': 'I-Plant',\n",
       "  'score': 0.99108326,\n",
       "  'index': 5,\n",
       "  'word': '##uin',\n",
       "  'start': 8,\n",
       "  'end': 11},\n",
       " {'entity': 'I-Plant',\n",
       "  'score': 0.991896,\n",
       "  'index': 6,\n",
       "  'word': '##que',\n",
       "  'start': 11,\n",
       "  'end': 14},\n",
       " {'entity': 'I-Plant',\n",
       "  'score': 0.99504316,\n",
       "  'index': 7,\n",
       "  'word': '##cos',\n",
       "  'start': 14,\n",
       "  'end': 17},\n",
       " {'entity': 'I-Plant',\n",
       "  'score': 0.9909582,\n",
       "  'index': 8,\n",
       "  'word': '##tat',\n",
       "  'start': 17,\n",
       "  'end': 20},\n",
       " {'entity': 'I-Plant',\n",
       "  'score': 0.9401694,\n",
       "  'index': 9,\n",
       "  'word': '##us',\n",
       "  'start': 20,\n",
       "  'end': 22},\n",
       " {'entity': 'B-Plant',\n",
       "  'score': 0.99751306,\n",
       "  'index': 63,\n",
       "  'word': 'T',\n",
       "  'start': 242,\n",
       "  'end': 243},\n",
       " {'entity': 'I-Plant',\n",
       "  'score': 0.9961617,\n",
       "  'index': 65,\n",
       "  'word': 'q',\n",
       "  'start': 245,\n",
       "  'end': 246},\n",
       " {'entity': 'I-Plant',\n",
       "  'score': 0.9864298,\n",
       "  'index': 66,\n",
       "  'word': '##uin',\n",
       "  'start': 246,\n",
       "  'end': 249},\n",
       " {'entity': 'I-Plant',\n",
       "  'score': 0.98940885,\n",
       "  'index': 67,\n",
       "  'word': '##que',\n",
       "  'start': 249,\n",
       "  'end': 252},\n",
       " {'entity': 'I-Plant',\n",
       "  'score': 0.99381506,\n",
       "  'index': 68,\n",
       "  'word': '##cos',\n",
       "  'start': 252,\n",
       "  'end': 255},\n",
       " {'entity': 'I-Plant',\n",
       "  'score': 0.99060917,\n",
       "  'index': 69,\n",
       "  'word': '##tat',\n",
       "  'start': 255,\n",
       "  'end': 258},\n",
       " {'entity': 'I-Plant',\n",
       "  'score': 0.8707908,\n",
       "  'index': 70,\n",
       "  'word': '##us',\n",
       "  'start': 258,\n",
       "  'end': 260},\n",
       " {'entity': 'B-Disease',\n",
       "  'score': 0.9712861,\n",
       "  'index': 83,\n",
       "  'word': 'he',\n",
       "  'start': 306,\n",
       "  'end': 308},\n",
       " {'entity': 'I-Disease',\n",
       "  'score': 0.85680723,\n",
       "  'index': 84,\n",
       "  'word': '##pa',\n",
       "  'start': 308,\n",
       "  'end': 310},\n",
       " {'entity': 'I-Disease',\n",
       "  'score': 0.9634176,\n",
       "  'index': 85,\n",
       "  'word': '##tic',\n",
       "  'start': 310,\n",
       "  'end': 313},\n",
       " {'entity': 'I-Disease',\n",
       "  'score': 0.9907659,\n",
       "  'index': 86,\n",
       "  'word': 'disease',\n",
       "  'start': 314,\n",
       "  'end': 321},\n",
       " {'entity': 'B-Disease',\n",
       "  'score': 0.94425815,\n",
       "  'index': 88,\n",
       "  'word': 'art',\n",
       "  'start': 323,\n",
       "  'end': 326},\n",
       " {'entity': 'I-Disease',\n",
       "  'score': 0.8973142,\n",
       "  'index': 89,\n",
       "  'word': '##eri',\n",
       "  'start': 326,\n",
       "  'end': 329},\n",
       " {'entity': 'I-Disease',\n",
       "  'score': 0.9856177,\n",
       "  'index': 90,\n",
       "  'word': '##os',\n",
       "  'start': 329,\n",
       "  'end': 331},\n",
       " {'entity': 'I-Disease',\n",
       "  'score': 0.8668855,\n",
       "  'index': 91,\n",
       "  'word': '##cle',\n",
       "  'start': 331,\n",
       "  'end': 334},\n",
       " {'entity': 'I-Disease',\n",
       "  'score': 0.93724555,\n",
       "  'index': 92,\n",
       "  'word': '##rosis',\n",
       "  'start': 334,\n",
       "  'end': 339},\n",
       " {'entity': 'B-Disease',\n",
       "  'score': 0.71015173,\n",
       "  'index': 99,\n",
       "  'word': 'con',\n",
       "  'start': 368,\n",
       "  'end': 371},\n",
       " {'entity': 'I-Disease',\n",
       "  'score': 0.67918277,\n",
       "  'index': 100,\n",
       "  'word': '##st',\n",
       "  'start': 371,\n",
       "  'end': 373},\n",
       " {'entity': 'I-Disease',\n",
       "  'score': 0.56818,\n",
       "  'index': 102,\n",
       "  'word': '##ation',\n",
       "  'start': 375,\n",
       "  'end': 380},\n",
       " {'entity': 'B-Disease',\n",
       "  'score': 0.9156232,\n",
       "  'index': 105,\n",
       "  'word': 'men',\n",
       "  'start': 386,\n",
       "  'end': 389},\n",
       " {'entity': 'I-Disease',\n",
       "  'score': 0.8995563,\n",
       "  'index': 106,\n",
       "  'word': '##st',\n",
       "  'start': 389,\n",
       "  'end': 391},\n",
       " {'entity': 'I-Disease',\n",
       "  'score': 0.89142835,\n",
       "  'index': 107,\n",
       "  'word': '##ru',\n",
       "  'start': 391,\n",
       "  'end': 393},\n",
       " {'entity': 'I-Disease',\n",
       "  'score': 0.91308,\n",
       "  'index': 108,\n",
       "  'word': '##al',\n",
       "  'start': 393,\n",
       "  'end': 395},\n",
       " {'entity': 'I-Disease',\n",
       "  'score': 0.98608786,\n",
       "  'index': 109,\n",
       "  'word': 'irregular',\n",
       "  'start': 396,\n",
       "  'end': 405},\n",
       " {'entity': 'I-Disease',\n",
       "  'score': 0.94147253,\n",
       "  'index': 110,\n",
       "  'word': '##ities',\n",
       "  'start': 405,\n",
       "  'end': 410}]"
      ]
     },
     "execution_count": 7,
     "metadata": {},
     "output_type": "execute_result"
    }
   ],
   "source": [
    "ner_model(sequence)"
   ]
  },
  {
   "cell_type": "markdown",
   "metadata": {
    "id": "Uvp5HYaOWr1y"
   },
   "source": [
    "## **Mode BioBERT**"
   ]
  },
  {
   "cell_type": "code",
   "execution_count": null,
   "metadata": {
    "colab": {
     "base_uri": "https://localhost:8080/"
    },
    "executionInfo": {
     "elapsed": 1251,
     "status": "ok",
     "timestamp": 1709302339189,
     "user": {
      "displayName": "Slamet Riyanto",
      "userId": "06884706048938193264"
     },
     "user_tz": -420
    },
    "id": "dAn745xfWvD1",
    "outputId": "eb6538dc-a4ac-4643-ca60-d877a47f5c55"
   },
   "outputs": [
    {
     "name": "stderr",
     "output_type": "stream",
     "text": [
      "Some weights of BertForTokenClassification were not initialized from the model checkpoint at dmis-lab/biobert-v1.1 and are newly initialized: ['classifier.bias', 'classifier.weight']\n",
      "You should probably TRAIN this model on a down-stream task to be able to use it for predictions and inference.\n"
     ]
    }
   ],
   "source": [
    "from transformers import pipeline, AutoModelForTokenClassification, AutoTokenizer\n",
    "\n",
    "# Load the model and tokenizer\n",
    "model_path = \"dmis-lab/biobert-v1.1\"\n",
    "model = AutoModelForTokenClassification.from_pretrained(model_path)\n",
    "tokenizer = AutoTokenizer.from_pretrained(model_path)\n",
    "\n",
    "# Create the NER pipeline\n",
    "ner_model = pipeline('ner', model=model, tokenizer=tokenizer)"
   ]
  },
  {
   "cell_type": "code",
   "execution_count": null,
   "metadata": {
    "id": "6IqJKjNfW9UW"
   },
   "outputs": [],
   "source": [
    "sequence = \"Studies are exploring if large amounts of ginger may affect insulin and lower blood sugar, so until more is known, people with diabetes can enjoy normal quantities of ginger in food but should steer clear of large-dose ginger supplements\"\n",
    "#ner_model(sequence)"
   ]
  },
  {
   "cell_type": "code",
   "execution_count": null,
   "metadata": {
    "colab": {
     "base_uri": "https://localhost:8080/"
    },
    "executionInfo": {
     "elapsed": 926,
     "status": "ok",
     "timestamp": 1709302468990,
     "user": {
      "displayName": "Slamet Riyanto",
      "userId": "06884706048938193264"
     },
     "user_tz": -420
    },
    "id": "yM3k662kXNNv",
    "outputId": "8a98a3d2-eb3b-4b07-b780-f875ec1ace58"
   },
   "outputs": [
    {
     "name": "stdout",
     "output_type": "stream",
     "text": [
      "[{'entity': 'LABEL_1', 'score': 0.5114185, 'index': 1, 'word': 'Studies', 'start': 0, 'end': 7}, {'entity': 'LABEL_0', 'score': 0.5294811, 'index': 2, 'word': 'are', 'start': 8, 'end': 11}, {'entity': 'LABEL_0', 'score': 0.5259547, 'index': 3, 'word': 'exploring', 'start': 12, 'end': 21}, {'entity': 'LABEL_1', 'score': 0.50698847, 'index': 4, 'word': 'if', 'start': 22, 'end': 24}, {'entity': 'LABEL_0', 'score': 0.52655965, 'index': 5, 'word': 'large', 'start': 25, 'end': 30}, {'entity': 'LABEL_1', 'score': 0.53511465, 'index': 6, 'word': 'amounts', 'start': 31, 'end': 38}, {'entity': 'LABEL_1', 'score': 0.5049051, 'index': 7, 'word': 'of', 'start': 39, 'end': 41}, {'entity': 'LABEL_0', 'score': 0.53221303, 'index': 8, 'word': 'ginger', 'start': 42, 'end': 48}, {'entity': 'LABEL_0', 'score': 0.516136, 'index': 10, 'word': 'may', 'start': 49, 'end': 52}, {'entity': 'LABEL_0', 'score': 0.51707, 'index': 11, 'word': 'affect', 'start': 53, 'end': 59}, {'entity': 'LABEL_1', 'score': 0.5340787, 'index': 12, 'word': 'insulin', 'start': 60, 'end': 67}, {'entity': 'LABEL_0', 'score': 0.5216407, 'index': 13, 'word': 'and', 'start': 68, 'end': 71}, {'entity': 'LABEL_1', 'score': 0.5909331, 'index': 14, 'word': 'lower', 'start': 72, 'end': 77}, {'entity': 'LABEL_0', 'score': 0.5334318, 'index': 15, 'word': 'blood', 'start': 78, 'end': 83}, {'entity': 'LABEL_0', 'score': 0.564479, 'index': 16, 'word': 'sugar', 'start': 84, 'end': 89}, {'entity': 'LABEL_1', 'score': 0.5532337, 'index': 17, 'word': ',', 'start': 89, 'end': 90}, {'entity': 'LABEL_1', 'score': 0.5284786, 'index': 18, 'word': 'so', 'start': 91, 'end': 93}, {'entity': 'LABEL_1', 'score': 0.5117327, 'index': 19, 'word': 'until', 'start': 94, 'end': 99}, {'entity': 'LABEL_1', 'score': 0.5734668, 'index': 20, 'word': 'more', 'start': 100, 'end': 104}, {'entity': 'LABEL_1', 'score': 0.5356717, 'index': 21, 'word': 'is', 'start': 105, 'end': 107}, {'entity': 'LABEL_1', 'score': 0.50333697, 'index': 22, 'word': 'known', 'start': 108, 'end': 113}, {'entity': 'LABEL_0', 'score': 0.54208493, 'index': 23, 'word': ',', 'start': 113, 'end': 114}, {'entity': 'LABEL_0', 'score': 0.5737099, 'index': 24, 'word': 'people', 'start': 115, 'end': 121}, {'entity': 'LABEL_0', 'score': 0.5908488, 'index': 25, 'word': 'with', 'start': 122, 'end': 126}, {'entity': 'LABEL_0', 'score': 0.6212269, 'index': 26, 'word': 'diabetes', 'start': 127, 'end': 135}, {'entity': 'LABEL_0', 'score': 0.6137247, 'index': 27, 'word': 'can', 'start': 136, 'end': 139}, {'entity': 'LABEL_0', 'score': 0.6456167, 'index': 28, 'word': 'enjoy', 'start': 140, 'end': 145}, {'entity': 'LABEL_1', 'score': 0.52170503, 'index': 29, 'word': 'normal', 'start': 146, 'end': 152}, {'entity': 'LABEL_0', 'score': 0.5275219, 'index': 30, 'word': 'quantities', 'start': 153, 'end': 163}, {'entity': 'LABEL_0', 'score': 0.53296316, 'index': 31, 'word': 'of', 'start': 164, 'end': 166}, {'entity': 'LABEL_0', 'score': 0.5624223, 'index': 32, 'word': 'ginger', 'start': 167, 'end': 173}, {'entity': 'LABEL_1', 'score': 0.5536435, 'index': 34, 'word': 'in', 'start': 174, 'end': 176}, {'entity': 'LABEL_1', 'score': 0.52989525, 'index': 35, 'word': 'food', 'start': 177, 'end': 181}, {'entity': 'LABEL_0', 'score': 0.50135916, 'index': 36, 'word': 'but', 'start': 182, 'end': 185}, {'entity': 'LABEL_0', 'score': 0.51630634, 'index': 37, 'word': 'should', 'start': 186, 'end': 192}, {'entity': 'LABEL_0', 'score': 0.6023827, 'index': 38, 'word': 'steer', 'start': 193, 'end': 198}, {'entity': 'LABEL_0', 'score': 0.59841585, 'index': 39, 'word': 'clear', 'start': 199, 'end': 204}, {'entity': 'LABEL_0', 'score': 0.6381002, 'index': 40, 'word': 'of', 'start': 205, 'end': 207}, {'entity': 'LABEL_0', 'score': 0.5529909, 'index': 41, 'word': 'large', 'start': 208, 'end': 213}, {'entity': 'LABEL_0', 'score': 0.52781856, 'index': 42, 'word': '-', 'start': 214, 'end': 215}, {'entity': 'LABEL_1', 'score': 0.5055977, 'index': 43, 'word': 'dose', 'start': 216, 'end': 220}, {'entity': 'LABEL_0', 'score': 0.53832954, 'index': 44, 'word': 'ginger', 'start': 221, 'end': 225}, {'entity': 'LABEL_0', 'score': 0.5164364, 'index': 46, 'word': 'supplements', 'start': 228, 'end': 237}]\n"
     ]
    }
   ],
   "source": [
    "# Get the NER results\n",
    "ner_results = ner_model(sequence)\n",
    "\n",
    "# Post-process the NER results to concatenate subwords correctly\n",
    "decoded_sequence = tokenizer.decode(tokenizer.encode(sequence, add_special_tokens=False))\n",
    "\n",
    "final_results = []\n",
    "current_entity = None\n",
    "\n",
    "for entity in ner_results:\n",
    "    if '##' in entity['word']:\n",
    "        # Concatenate the subword with the previous one\n",
    "        current_entity['word'] += entity['word'].replace('##', '')\n",
    "        current_entity['end'] = entity['end']\n",
    "    else:\n",
    "        # Save the current entity and update it\n",
    "        if current_entity:\n",
    "            final_results.append(current_entity)\n",
    "        current_entity = entity\n",
    "        current_entity['word'] = entity['word']\n",
    "        current_entity['start'] = decoded_sequence.find(entity['word'], entity['start'])\n",
    "        current_entity['end'] = current_entity['start'] + len(current_entity['word'])\n",
    "\n",
    "# Append the last entity\n",
    "if current_entity:\n",
    "    final_results.append(current_entity)\n",
    "\n",
    "# Filter out entities with '##' in the word\n",
    "final_results = [entity for entity in final_results if '##' not in entity['word']]\n",
    "\n",
    "# Print the modified output\n",
    "print(final_results)"
   ]
  }
 ],
 "metadata": {
  "accelerator": "GPU",
  "colab": {
   "name": "",
   "version": ""
  },
  "kernelspec": {
   "display_name": "Python 3 (ipykernel)",
   "language": "python",
   "name": "python3"
  },
  "language_info": {
   "codemirror_mode": {
    "name": "ipython",
    "version": 3
   },
   "file_extension": ".py",
   "mimetype": "text/x-python",
   "name": "python",
   "nbconvert_exporter": "python",
   "pygments_lexer": "ipython3",
   "version": "3.7.1"
  }
 },
 "nbformat": 4,
 "nbformat_minor": 1
}
